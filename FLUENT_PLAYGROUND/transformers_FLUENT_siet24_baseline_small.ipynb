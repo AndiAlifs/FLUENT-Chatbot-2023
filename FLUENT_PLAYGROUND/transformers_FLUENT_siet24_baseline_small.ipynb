{
 "cells": [
  {
   "cell_type": "code",
   "execution_count": 17,
   "metadata": {
    "execution": {
     "iopub.execute_input": "2024-07-02T20:17:27.682419Z",
     "iopub.status.busy": "2024-07-02T20:17:27.682115Z",
     "iopub.status.idle": "2024-07-02T20:17:30.597078Z",
     "shell.execute_reply": "2024-07-02T20:17:30.596113Z",
     "shell.execute_reply.started": "2024-07-02T20:17:27.682391Z"
    },
    "trusted": true
   },
   "outputs": [],
   "source": [
    "import json\n",
    "import torch\n",
    "import torch.nn as nn\n",
    "import torch.utils.data\n",
    "import math\n",
    "import torch.nn.functional as F\n",
    "import neptune\n",
    "import pandas as pd\n",
    "import numpy as np\n",
    "import matplotlib.pyplot as plt\n",
    "import yaml\n",
    "from collections import Counter\n",
    "from torchinfo import summary\n",
    "from sklearn.decomposition import PCA\n",
    "from torch.utils.data import Dataset"
   ]
  },
  {
   "cell_type": "code",
   "execution_count": 18,
   "metadata": {
    "execution": {
     "iopub.execute_input": "2024-07-02T20:17:30.598900Z",
     "iopub.status.busy": "2024-07-02T20:17:30.598458Z",
     "iopub.status.idle": "2024-07-02T20:17:32.694354Z",
     "shell.execute_reply": "2024-07-02T20:17:32.693406Z",
     "shell.execute_reply.started": "2024-07-02T20:17:30.598873Z"
    },
    "trusted": true
   },
   "outputs": [
    {
     "data": {
      "text/html": [
       "<div>\n",
       "<style scoped>\n",
       "    .dataframe tbody tr th:only-of-type {\n",
       "        vertical-align: middle;\n",
       "    }\n",
       "\n",
       "    .dataframe tbody tr th {\n",
       "        vertical-align: top;\n",
       "    }\n",
       "\n",
       "    .dataframe thead th {\n",
       "        text-align: right;\n",
       "    }\n",
       "</style>\n",
       "<table border=\"1\" class=\"dataframe\">\n",
       "  <thead>\n",
       "    <tr style=\"text-align: right;\">\n",
       "      <th></th>\n",
       "      <th>Pertanyaan</th>\n",
       "      <th>Jawaban</th>\n",
       "    </tr>\n",
       "  </thead>\n",
       "  <tbody>\n",
       "    <tr>\n",
       "      <th>0</th>\n",
       "      <td>visi filkom</td>\n",
       "      <td>menjadi fakultas yang berdaya saing internasio...</td>\n",
       "    </tr>\n",
       "    <tr>\n",
       "      <th>1</th>\n",
       "      <td>misi filkom</td>\n",
       "      <td>menyelenggarakan pendidikan di bidang teknolog...</td>\n",
       "    </tr>\n",
       "    <tr>\n",
       "      <th>2</th>\n",
       "      <td>apa tujuan filkom?</td>\n",
       "      <td>menghasilkan lulusan yang kompeten , profesion...</td>\n",
       "    </tr>\n",
       "    <tr>\n",
       "      <th>3</th>\n",
       "      <td>sasaran pendidikan filkom</td>\n",
       "      <td>meningkatkan kompetensi dan kualifikasi pendid...</td>\n",
       "    </tr>\n",
       "    <tr>\n",
       "      <th>4</th>\n",
       "      <td>email fitra a. bachtiar</td>\n",
       "      <td>fitra.bachtiar[at]ub.ac.id</td>\n",
       "    </tr>\n",
       "    <tr>\n",
       "      <th>5</th>\n",
       "      <td>bidang penelitian fitra a. bachtiar</td>\n",
       "      <td>affective computing, affective engineering, in...</td>\n",
       "    </tr>\n",
       "    <tr>\n",
       "      <th>6</th>\n",
       "      <td>tanggal dibentuk ptiik</td>\n",
       "      <td>27 oktober 2011</td>\n",
       "    </tr>\n",
       "    <tr>\n",
       "      <th>7</th>\n",
       "      <td>sasaran pengabdian filkom</td>\n",
       "      <td>1. meningkatkan kualitas dan kuantitas pengabd...</td>\n",
       "    </tr>\n",
       "    <tr>\n",
       "      <th>8</th>\n",
       "      <td>sasaran kerjasama filkom</td>\n",
       "      <td>1. mengadakan kerjasama pendidikan, penlitian ...</td>\n",
       "    </tr>\n",
       "    <tr>\n",
       "      <th>9</th>\n",
       "      <td>dekan fakultas ilmu komputer filkom</td>\n",
       "      <td>prof. ir. wayan firdaus mahmudy, s.si., mt., p...</td>\n",
       "    </tr>\n",
       "    <tr>\n",
       "      <th>10</th>\n",
       "      <td>wakil dekan bidang akademik / wakil dekan 1</td>\n",
       "      <td>dr. eng. ir. herman tolle, st., mt.</td>\n",
       "    </tr>\n",
       "    <tr>\n",
       "      <th>11</th>\n",
       "      <td>wakil dekan bidang umum, keuangan, dan sumber ...</td>\n",
       "      <td>agus wahyu widodo, st., m.cs.</td>\n",
       "    </tr>\n",
       "    <tr>\n",
       "      <th>12</th>\n",
       "      <td>wakil dekan bidang kemahasiswaan, alumni, dan ...</td>\n",
       "      <td>drs. muh. arif rahman, m.kom.</td>\n",
       "    </tr>\n",
       "    <tr>\n",
       "      <th>13</th>\n",
       "      <td>ketua departemen teknik informatika</td>\n",
       "      <td>achmad basuki, s.t., m.mg., ph.d.</td>\n",
       "    </tr>\n",
       "    <tr>\n",
       "      <th>14</th>\n",
       "      <td>sekretaris departemen teknik informatika</td>\n",
       "      <td>ir. primantara hari trisnawan, m.sc.</td>\n",
       "    </tr>\n",
       "    <tr>\n",
       "      <th>15</th>\n",
       "      <td>ketua program studi magister ilmu komputer</td>\n",
       "      <td>sabriansyah rizqika akbar, s.t., m.eng., ph.d</td>\n",
       "    </tr>\n",
       "    <tr>\n",
       "      <th>16</th>\n",
       "      <td>ketua program studi sarjana teknik informatika</td>\n",
       "      <td>adhitya bhawiyuga, s.kom., m.sc.</td>\n",
       "    </tr>\n",
       "    <tr>\n",
       "      <th>17</th>\n",
       "      <td>ketua program studi sarjana teknik komputer</td>\n",
       "      <td>barlian henryranu prasetio, s.t., m.t., ph.d</td>\n",
       "    </tr>\n",
       "    <tr>\n",
       "      <th>18</th>\n",
       "      <td>ketua departemen sistem informasi</td>\n",
       "      <td>issa arwani, s.kom., m.sc.</td>\n",
       "    </tr>\n",
       "    <tr>\n",
       "      <th>19</th>\n",
       "      <td>seketaris departemen sistem informasi</td>\n",
       "      <td>satrio agung wicaksono, s.kom., m.kom</td>\n",
       "    </tr>\n",
       "    <tr>\n",
       "      <th>20</th>\n",
       "      <td>ketua program studi sarjana sistem informasi</td>\n",
       "      <td>yusi tyroni mursityo, s.kom., m.s.</td>\n",
       "    </tr>\n",
       "    <tr>\n",
       "      <th>21</th>\n",
       "      <td>ketua program studi sarjana pendidikan teknolo...</td>\n",
       "      <td>ir. admaja dwi herlambang, s.pd., m.pd.</td>\n",
       "    </tr>\n",
       "    <tr>\n",
       "      <th>22</th>\n",
       "      <td>ketua program studi sarjana teknologi informasi</td>\n",
       "      <td>ir. widhy hayuhardhika nugraha putra, s.kom., ...</td>\n",
       "    </tr>\n",
       "    <tr>\n",
       "      <th>23</th>\n",
       "      <td>berikan saya informasi alumni</td>\n",
       "      <td>informasi alumni dapat diakses pada link berik...</td>\n",
       "    </tr>\n",
       "    <tr>\n",
       "      <th>24</th>\n",
       "      <td>apa saja layanan kemahasiswaan filkom ub ?</td>\n",
       "      <td>1. pengajuan proposal dan lpj kegiatan kemahas...</td>\n",
       "    </tr>\n",
       "    <tr>\n",
       "      <th>25</th>\n",
       "      <td>bagaimana pengajuan proposal dan lpj kegiatan ...</td>\n",
       "      <td>pengajuan proposal kegiatan kemahasiswaan\\npen...</td>\n",
       "    </tr>\n",
       "    <tr>\n",
       "      <th>26</th>\n",
       "      <td>berikan informasi dokumen kemahasiswaan ?</td>\n",
       "      <td>informasi dokumen kemahasiswaan dapat dilihat ...</td>\n",
       "    </tr>\n",
       "    <tr>\n",
       "      <th>27</th>\n",
       "      <td>bagaimana pengajuan surat tugas dosen pembimbi...</td>\n",
       "      <td>informasi pengajuan surat tugas dosen pembimbi...</td>\n",
       "    </tr>\n",
       "    <tr>\n",
       "      <th>28</th>\n",
       "      <td>bagaimana permohonan validasi data skm ?</td>\n",
       "      <td>permohonan validasi data skm dapat dilihat pad...</td>\n",
       "    </tr>\n",
       "    <tr>\n",
       "      <th>29</th>\n",
       "      <td>berikan informasi mengenai validasi syarat wisuda</td>\n",
       "      <td>1. unggah dokumen di siam\\n2. mengisi gform pe...</td>\n",
       "    </tr>\n",
       "    <tr>\n",
       "      <th>30</th>\n",
       "      <td>bagaimana mengakses tracer study fakultas ?</td>\n",
       "      <td>tracer study fakultas dapat diakses pada tauta...</td>\n",
       "    </tr>\n",
       "    <tr>\n",
       "      <th>31</th>\n",
       "      <td>bagaimana cara pendaftaran wisuda ulang ?</td>\n",
       "      <td>pendaftaran wisuda ulang dapat diakses pada ta...</td>\n",
       "    </tr>\n",
       "    <tr>\n",
       "      <th>32</th>\n",
       "      <td>berikan informasi mengenai layanan bimbingan d...</td>\n",
       "      <td>layanan bimbingan dan konseling dapat diaksesp...</td>\n",
       "    </tr>\n",
       "    <tr>\n",
       "      <th>33</th>\n",
       "      <td>berikan informasi mengenai layanan ultksp (uni...</td>\n",
       "      <td>layanan ultksp dapat diaksespada tautan beriku...</td>\n",
       "    </tr>\n",
       "    <tr>\n",
       "      <th>34</th>\n",
       "      <td>berikan informasi mengenai tracking layanan ke...</td>\n",
       "      <td>tracking layanan kemahasiswaan dapat diaksespa...</td>\n",
       "    </tr>\n",
       "    <tr>\n",
       "      <th>35</th>\n",
       "      <td>berikan informasi mengenai bimbingan dan konse...</td>\n",
       "      <td>dalam perjalanannya menuntut ilmu, mahasiswa t...</td>\n",
       "    </tr>\n",
       "    <tr>\n",
       "      <th>36</th>\n",
       "      <td>apa tujuan unit konseling ?</td>\n",
       "      <td>1. mewujudkan potensi dirinya secara optimal, ...</td>\n",
       "    </tr>\n",
       "    <tr>\n",
       "      <th>37</th>\n",
       "      <td>apa fungsi bimbingan dan konseling serta penas...</td>\n",
       "      <td>1. penyaluran: bimbingan berfungsi dalam memba...</td>\n",
       "    </tr>\n",
       "    <tr>\n",
       "      <th>38</th>\n",
       "      <td>apa saja program layanan unit konseling ?</td>\n",
       "      <td>1. pelayanan bantuan pemecahan masalah, baik y...</td>\n",
       "    </tr>\n",
       "    <tr>\n",
       "      <th>39</th>\n",
       "      <td>apa manfaat konseling filkom ?</td>\n",
       "      <td>1. masalah ditangani oleh ahli yang kompeten d...</td>\n",
       "    </tr>\n",
       "    <tr>\n",
       "      <th>40</th>\n",
       "      <td>berikan informasi mengenai layanan konseling</td>\n",
       "      <td>informasi mengenai layanan konseling dapat dia...</td>\n",
       "    </tr>\n",
       "    <tr>\n",
       "      <th>41</th>\n",
       "      <td>siapa konselor bimbingan dan konseling di filk...</td>\n",
       "      <td>ada 2 konselor bimbingan dan konseling di filk...</td>\n",
       "    </tr>\n",
       "    <tr>\n",
       "      <th>42</th>\n",
       "      <td>siapa koordinator konselor sebaya ?</td>\n",
       "      <td>koordinator konselor sebaya adalah muhammad da...</td>\n",
       "    </tr>\n",
       "    <tr>\n",
       "      <th>43</th>\n",
       "      <td>berikan rincian layanan ultksp</td>\n",
       "      <td>rincian layanan ultksp dapat diakses pada taut...</td>\n",
       "    </tr>\n",
       "  </tbody>\n",
       "</table>\n",
       "</div>"
      ],
      "text/plain": [
       "                                           Pertanyaan  \\\n",
       "0                                         visi filkom   \n",
       "1                                         misi filkom   \n",
       "2                                  apa tujuan filkom?   \n",
       "3                           sasaran pendidikan filkom   \n",
       "4                             email fitra a. bachtiar   \n",
       "5                 bidang penelitian fitra a. bachtiar   \n",
       "6                              tanggal dibentuk ptiik   \n",
       "7                           sasaran pengabdian filkom   \n",
       "8                            sasaran kerjasama filkom   \n",
       "9                 dekan fakultas ilmu komputer filkom   \n",
       "10        wakil dekan bidang akademik / wakil dekan 1   \n",
       "11  wakil dekan bidang umum, keuangan, dan sumber ...   \n",
       "12  wakil dekan bidang kemahasiswaan, alumni, dan ...   \n",
       "13                ketua departemen teknik informatika   \n",
       "14           sekretaris departemen teknik informatika   \n",
       "15         ketua program studi magister ilmu komputer   \n",
       "16     ketua program studi sarjana teknik informatika   \n",
       "17        ketua program studi sarjana teknik komputer   \n",
       "18                  ketua departemen sistem informasi   \n",
       "19              seketaris departemen sistem informasi   \n",
       "20       ketua program studi sarjana sistem informasi   \n",
       "21  ketua program studi sarjana pendidikan teknolo...   \n",
       "22    ketua program studi sarjana teknologi informasi   \n",
       "23                      berikan saya informasi alumni   \n",
       "24         apa saja layanan kemahasiswaan filkom ub ?   \n",
       "25  bagaimana pengajuan proposal dan lpj kegiatan ...   \n",
       "26          berikan informasi dokumen kemahasiswaan ?   \n",
       "27  bagaimana pengajuan surat tugas dosen pembimbi...   \n",
       "28           bagaimana permohonan validasi data skm ?   \n",
       "29  berikan informasi mengenai validasi syarat wisuda   \n",
       "30        bagaimana mengakses tracer study fakultas ?   \n",
       "31          bagaimana cara pendaftaran wisuda ulang ?   \n",
       "32  berikan informasi mengenai layanan bimbingan d...   \n",
       "33  berikan informasi mengenai layanan ultksp (uni...   \n",
       "34  berikan informasi mengenai tracking layanan ke...   \n",
       "35  berikan informasi mengenai bimbingan dan konse...   \n",
       "36                        apa tujuan unit konseling ?   \n",
       "37  apa fungsi bimbingan dan konseling serta penas...   \n",
       "38          apa saja program layanan unit konseling ?   \n",
       "39                     apa manfaat konseling filkom ?   \n",
       "40       berikan informasi mengenai layanan konseling   \n",
       "41  siapa konselor bimbingan dan konseling di filk...   \n",
       "42                siapa koordinator konselor sebaya ?   \n",
       "43                     berikan rincian layanan ultksp   \n",
       "\n",
       "                                              Jawaban  \n",
       "0   menjadi fakultas yang berdaya saing internasio...  \n",
       "1   menyelenggarakan pendidikan di bidang teknolog...  \n",
       "2   menghasilkan lulusan yang kompeten , profesion...  \n",
       "3   meningkatkan kompetensi dan kualifikasi pendid...  \n",
       "4                          fitra.bachtiar[at]ub.ac.id  \n",
       "5   affective computing, affective engineering, in...  \n",
       "6                                     27 oktober 2011  \n",
       "7   1. meningkatkan kualitas dan kuantitas pengabd...  \n",
       "8   1. mengadakan kerjasama pendidikan, penlitian ...  \n",
       "9   prof. ir. wayan firdaus mahmudy, s.si., mt., p...  \n",
       "10                dr. eng. ir. herman tolle, st., mt.  \n",
       "11                      agus wahyu widodo, st., m.cs.  \n",
       "12                      drs. muh. arif rahman, m.kom.  \n",
       "13                  achmad basuki, s.t., m.mg., ph.d.  \n",
       "14               ir. primantara hari trisnawan, m.sc.  \n",
       "15      sabriansyah rizqika akbar, s.t., m.eng., ph.d  \n",
       "16                   adhitya bhawiyuga, s.kom., m.sc.  \n",
       "17       barlian henryranu prasetio, s.t., m.t., ph.d  \n",
       "18                         issa arwani, s.kom., m.sc.  \n",
       "19              satrio agung wicaksono, s.kom., m.kom  \n",
       "20                 yusi tyroni mursityo, s.kom., m.s.  \n",
       "21            ir. admaja dwi herlambang, s.pd., m.pd.  \n",
       "22  ir. widhy hayuhardhika nugraha putra, s.kom., ...  \n",
       "23  informasi alumni dapat diakses pada link berik...  \n",
       "24  1. pengajuan proposal dan lpj kegiatan kemahas...  \n",
       "25  pengajuan proposal kegiatan kemahasiswaan\\npen...  \n",
       "26  informasi dokumen kemahasiswaan dapat dilihat ...  \n",
       "27  informasi pengajuan surat tugas dosen pembimbi...  \n",
       "28  permohonan validasi data skm dapat dilihat pad...  \n",
       "29  1. unggah dokumen di siam\\n2. mengisi gform pe...  \n",
       "30  tracer study fakultas dapat diakses pada tauta...  \n",
       "31  pendaftaran wisuda ulang dapat diakses pada ta...  \n",
       "32  layanan bimbingan dan konseling dapat diaksesp...  \n",
       "33  layanan ultksp dapat diaksespada tautan beriku...  \n",
       "34  tracking layanan kemahasiswaan dapat diaksespa...  \n",
       "35  dalam perjalanannya menuntut ilmu, mahasiswa t...  \n",
       "36  1. mewujudkan potensi dirinya secara optimal, ...  \n",
       "37  1. penyaluran: bimbingan berfungsi dalam memba...  \n",
       "38  1. pelayanan bantuan pemecahan masalah, baik y...  \n",
       "39  1. masalah ditangani oleh ahli yang kompeten d...  \n",
       "40  informasi mengenai layanan konseling dapat dia...  \n",
       "41  ada 2 konselor bimbingan dan konseling di filk...  \n",
       "42  koordinator konselor sebaya adalah muhammad da...  \n",
       "43  rincian layanan ultksp dapat diakses pada taut...  "
      ]
     },
     "execution_count": 18,
     "metadata": {},
     "output_type": "execute_result"
    }
   ],
   "source": [
    "# knowledgebase_url = 'https://github.com/AndiAlifs/FLUENT-Chatbot-2023/raw/main/KnowledgeBaseFilkom.xlsx'\n",
    "knowledgebase_url = 'https://github.com/AndiAlifs/FLUENT-Chatbot-2023/raw/main/KnowledgeBaseFilkom_simple.xlsx'\n",
    "knowledgebase = pd.read_excel(knowledgebase_url)\n",
    "\n",
    "qa_paired = knowledgebase.drop(columns=knowledgebase.columns.drop(['Pertanyaan', 'Jawaban']))\n",
    "qa_paired.dropna(inplace=True)\n",
    "qa_paired"
   ]
  },
  {
   "cell_type": "code",
   "execution_count": 19,
   "metadata": {
    "execution": {
     "iopub.execute_input": "2024-07-02T20:17:32.697066Z",
     "iopub.status.busy": "2024-07-02T20:17:32.696633Z",
     "iopub.status.idle": "2024-07-02T20:17:32.702322Z",
     "shell.execute_reply": "2024-07-02T20:17:32.701334Z",
     "shell.execute_reply.started": "2024-07-02T20:17:32.697038Z"
    },
    "trusted": true
   },
   "outputs": [],
   "source": [
    "def remove_punc(string):\n",
    "    punctuations = '''!()-[]{};:'\"\\,<>./?@#$%^&*_~1234567890'''\n",
    "    no_punct = \"\"\n",
    "    for char in string:\n",
    "        if char not in punctuations:\n",
    "            no_punct = no_punct + char  # space is also a character\n",
    "    return no_punct.lower()"
   ]
  },
  {
   "cell_type": "code",
   "execution_count": 20,
   "metadata": {
    "execution": {
     "iopub.execute_input": "2024-07-02T20:17:32.703938Z",
     "iopub.status.busy": "2024-07-02T20:17:32.703658Z",
     "iopub.status.idle": "2024-07-02T20:17:32.827025Z",
     "shell.execute_reply": "2024-07-02T20:17:32.825935Z",
     "shell.execute_reply.started": "2024-07-02T20:17:32.703915Z"
    },
    "trusted": true
   },
   "outputs": [],
   "source": [
    "pairs = []\n",
    "max_len = 90\n",
    "\n",
    "for line in qa_paired.iterrows():\n",
    "    pertanyaan = line[1]['Pertanyaan']\n",
    "    jawaban = line[1]['Jawaban']\n",
    "    qa_pairs = []\n",
    "    first = remove_punc(pertanyaan.strip())      \n",
    "    second = remove_punc(jawaban.strip())\n",
    "\n",
    "    if len(first) == 0 or len(second) == 0:\n",
    "        continue\n",
    "\n",
    "    \n",
    "    qa_pairs.append(first.split()[:max_len])\n",
    "    qa_pairs.append(second.split()[:max_len])\n",
    "    pairs.append(qa_pairs)"
   ]
  },
  {
   "cell_type": "code",
   "execution_count": 21,
   "metadata": {},
   "outputs": [
    {
     "data": {
      "text/html": [
       "<div>\n",
       "<style scoped>\n",
       "    .dataframe tbody tr th:only-of-type {\n",
       "        vertical-align: middle;\n",
       "    }\n",
       "\n",
       "    .dataframe tbody tr th {\n",
       "        vertical-align: top;\n",
       "    }\n",
       "\n",
       "    .dataframe thead th {\n",
       "        text-align: right;\n",
       "    }\n",
       "</style>\n",
       "<table border=\"1\" class=\"dataframe\">\n",
       "  <thead>\n",
       "    <tr style=\"text-align: right;\">\n",
       "      <th></th>\n",
       "      <th>question</th>\n",
       "      <th>answer</th>\n",
       "    </tr>\n",
       "  </thead>\n",
       "  <tbody>\n",
       "    <tr>\n",
       "      <th>0</th>\n",
       "      <td>[visi, filkom]</td>\n",
       "      <td>[menjadi, fakultas, yang, berdaya, saing, inte...</td>\n",
       "    </tr>\n",
       "    <tr>\n",
       "      <th>1</th>\n",
       "      <td>[misi, filkom]</td>\n",
       "      <td>[menyelenggarakan, pendidikan, di, bidang, tek...</td>\n",
       "    </tr>\n",
       "    <tr>\n",
       "      <th>2</th>\n",
       "      <td>[apa, tujuan, filkom]</td>\n",
       "      <td>[menghasilkan, lulusan, yang, kompeten, profes...</td>\n",
       "    </tr>\n",
       "    <tr>\n",
       "      <th>3</th>\n",
       "      <td>[sasaran, pendidikan, filkom]</td>\n",
       "      <td>[meningkatkan, kompetensi, dan, kualifikasi, p...</td>\n",
       "    </tr>\n",
       "    <tr>\n",
       "      <th>4</th>\n",
       "      <td>[email, fitra, a, bachtiar]</td>\n",
       "      <td>[fitrabachtiaratubacid]</td>\n",
       "    </tr>\n",
       "    <tr>\n",
       "      <th>5</th>\n",
       "      <td>[bidang, penelitian, fitra, a, bachtiar]</td>\n",
       "      <td>[affective, computing, affective, engineering,...</td>\n",
       "    </tr>\n",
       "    <tr>\n",
       "      <th>6</th>\n",
       "      <td>[tanggal, dibentuk, ptiik]</td>\n",
       "      <td>[oktober]</td>\n",
       "    </tr>\n",
       "    <tr>\n",
       "      <th>7</th>\n",
       "      <td>[sasaran, pengabdian, filkom]</td>\n",
       "      <td>[meningkatkan, kualitas, dan, kuantitas, penga...</td>\n",
       "    </tr>\n",
       "    <tr>\n",
       "      <th>8</th>\n",
       "      <td>[sasaran, kerjasama, filkom]</td>\n",
       "      <td>[mengadakan, kerjasama, pendidikan, penlitian,...</td>\n",
       "    </tr>\n",
       "    <tr>\n",
       "      <th>9</th>\n",
       "      <td>[dekan, fakultas, ilmu, komputer, filkom]</td>\n",
       "      <td>[prof, ir, wayan, firdaus, mahmudy, ssi, mt, phd]</td>\n",
       "    </tr>\n",
       "    <tr>\n",
       "      <th>10</th>\n",
       "      <td>[wakil, dekan, bidang, akademik, wakil, dekan]</td>\n",
       "      <td>[dr, eng, ir, herman, tolle, st, mt]</td>\n",
       "    </tr>\n",
       "    <tr>\n",
       "      <th>11</th>\n",
       "      <td>[wakil, dekan, bidang, umum, keuangan, dan, su...</td>\n",
       "      <td>[agus, wahyu, widodo, st, mcs]</td>\n",
       "    </tr>\n",
       "    <tr>\n",
       "      <th>12</th>\n",
       "      <td>[wakil, dekan, bidang, kemahasiswaan, alumni, ...</td>\n",
       "      <td>[drs, muh, arif, rahman, mkom]</td>\n",
       "    </tr>\n",
       "    <tr>\n",
       "      <th>13</th>\n",
       "      <td>[ketua, departemen, teknik, informatika]</td>\n",
       "      <td>[achmad, basuki, st, mmg, phd]</td>\n",
       "    </tr>\n",
       "    <tr>\n",
       "      <th>14</th>\n",
       "      <td>[sekretaris, departemen, teknik, informatika]</td>\n",
       "      <td>[ir, primantara, hari, trisnawan, msc]</td>\n",
       "    </tr>\n",
       "    <tr>\n",
       "      <th>15</th>\n",
       "      <td>[ketua, program, studi, magister, ilmu, komputer]</td>\n",
       "      <td>[sabriansyah, rizqika, akbar, st, meng, phd]</td>\n",
       "    </tr>\n",
       "    <tr>\n",
       "      <th>16</th>\n",
       "      <td>[ketua, program, studi, sarjana, teknik, infor...</td>\n",
       "      <td>[adhitya, bhawiyuga, skom, msc]</td>\n",
       "    </tr>\n",
       "    <tr>\n",
       "      <th>17</th>\n",
       "      <td>[ketua, program, studi, sarjana, teknik, kompu...</td>\n",
       "      <td>[barlian, henryranu, prasetio, st, mt, phd]</td>\n",
       "    </tr>\n",
       "    <tr>\n",
       "      <th>18</th>\n",
       "      <td>[ketua, departemen, sistem, informasi]</td>\n",
       "      <td>[issa, arwani, skom, msc]</td>\n",
       "    </tr>\n",
       "    <tr>\n",
       "      <th>19</th>\n",
       "      <td>[seketaris, departemen, sistem, informasi]</td>\n",
       "      <td>[satrio, agung, wicaksono, skom, mkom]</td>\n",
       "    </tr>\n",
       "    <tr>\n",
       "      <th>20</th>\n",
       "      <td>[ketua, program, studi, sarjana, sistem, infor...</td>\n",
       "      <td>[yusi, tyroni, mursityo, skom, ms]</td>\n",
       "    </tr>\n",
       "    <tr>\n",
       "      <th>21</th>\n",
       "      <td>[ketua, program, studi, sarjana, pendidikan, t...</td>\n",
       "      <td>[ir, admaja, dwi, herlambang, spd, mpd]</td>\n",
       "    </tr>\n",
       "    <tr>\n",
       "      <th>22</th>\n",
       "      <td>[ketua, program, studi, sarjana, teknologi, in...</td>\n",
       "      <td>[ir, widhy, hayuhardhika, nugraha, putra, skom...</td>\n",
       "    </tr>\n",
       "    <tr>\n",
       "      <th>23</th>\n",
       "      <td>[berikan, saya, informasi, alumni]</td>\n",
       "      <td>[informasi, alumni, dapat, diakses, pada, link...</td>\n",
       "    </tr>\n",
       "    <tr>\n",
       "      <th>24</th>\n",
       "      <td>[apa, saja, layanan, kemahasiswaan, filkom, ub]</td>\n",
       "      <td>[pengajuan, proposal, dan, lpj, kegiatan, kema...</td>\n",
       "    </tr>\n",
       "    <tr>\n",
       "      <th>25</th>\n",
       "      <td>[bagaimana, pengajuan, proposal, dan, lpj, keg...</td>\n",
       "      <td>[pengajuan, proposal, kegiatan, kemahasiswaan,...</td>\n",
       "    </tr>\n",
       "    <tr>\n",
       "      <th>26</th>\n",
       "      <td>[berikan, informasi, dokumen, kemahasiswaan]</td>\n",
       "      <td>[informasi, dokumen, kemahasiswaan, dapat, dil...</td>\n",
       "    </tr>\n",
       "    <tr>\n",
       "      <th>27</th>\n",
       "      <td>[bagaimana, pengajuan, surat, tugas, dosen, pe...</td>\n",
       "      <td>[informasi, pengajuan, surat, tugas, dosen, pe...</td>\n",
       "    </tr>\n",
       "    <tr>\n",
       "      <th>28</th>\n",
       "      <td>[bagaimana, permohonan, validasi, data, skm]</td>\n",
       "      <td>[permohonan, validasi, data, skm, dapat, dilih...</td>\n",
       "    </tr>\n",
       "    <tr>\n",
       "      <th>29</th>\n",
       "      <td>[berikan, informasi, mengenai, validasi, syara...</td>\n",
       "      <td>[unggah, dokumen, di, siam, mengisi, gform, pe...</td>\n",
       "    </tr>\n",
       "    <tr>\n",
       "      <th>30</th>\n",
       "      <td>[bagaimana, mengakses, tracer, study, fakultas]</td>\n",
       "      <td>[tracer, study, fakultas, dapat, diakses, pada...</td>\n",
       "    </tr>\n",
       "    <tr>\n",
       "      <th>31</th>\n",
       "      <td>[bagaimana, cara, pendaftaran, wisuda, ulang]</td>\n",
       "      <td>[pendaftaran, wisuda, ulang, dapat, diakses, p...</td>\n",
       "    </tr>\n",
       "    <tr>\n",
       "      <th>32</th>\n",
       "      <td>[berikan, informasi, mengenai, layanan, bimbin...</td>\n",
       "      <td>[layanan, bimbingan, dan, konseling, dapat, di...</td>\n",
       "    </tr>\n",
       "    <tr>\n",
       "      <th>33</th>\n",
       "      <td>[berikan, informasi, mengenai, layanan, ultksp...</td>\n",
       "      <td>[layanan, ultksp, dapat, diaksespada, tautan, ...</td>\n",
       "    </tr>\n",
       "    <tr>\n",
       "      <th>34</th>\n",
       "      <td>[berikan, informasi, mengenai, tracking, layan...</td>\n",
       "      <td>[tracking, layanan, kemahasiswaan, dapat, diak...</td>\n",
       "    </tr>\n",
       "    <tr>\n",
       "      <th>35</th>\n",
       "      <td>[berikan, informasi, mengenai, bimbingan, dan,...</td>\n",
       "      <td>[dalam, perjalanannya, menuntut, ilmu, mahasis...</td>\n",
       "    </tr>\n",
       "    <tr>\n",
       "      <th>36</th>\n",
       "      <td>[apa, tujuan, unit, konseling]</td>\n",
       "      <td>[mewujudkan, potensi, dirinya, secara, optimal...</td>\n",
       "    </tr>\n",
       "    <tr>\n",
       "      <th>37</th>\n",
       "      <td>[apa, fungsi, bimbingan, dan, konseling, serta...</td>\n",
       "      <td>[penyaluran, bimbingan, berfungsi, dalam, memb...</td>\n",
       "    </tr>\n",
       "    <tr>\n",
       "      <th>38</th>\n",
       "      <td>[apa, saja, program, layanan, unit, konseling]</td>\n",
       "      <td>[pelayanan, bantuan, pemecahan, masalah, baik,...</td>\n",
       "    </tr>\n",
       "    <tr>\n",
       "      <th>39</th>\n",
       "      <td>[apa, manfaat, konseling, filkom]</td>\n",
       "      <td>[masalah, ditangani, oleh, ahli, yang, kompete...</td>\n",
       "    </tr>\n",
       "    <tr>\n",
       "      <th>40</th>\n",
       "      <td>[berikan, informasi, mengenai, layanan, konsel...</td>\n",
       "      <td>[informasi, mengenai, layanan, konseling, dapa...</td>\n",
       "    </tr>\n",
       "    <tr>\n",
       "      <th>41</th>\n",
       "      <td>[siapa, konselor, bimbingan, dan, konseling, d...</td>\n",
       "      <td>[ada, konselor, bimbingan, dan, konseling, di,...</td>\n",
       "    </tr>\n",
       "    <tr>\n",
       "      <th>42</th>\n",
       "      <td>[siapa, koordinator, konselor, sebaya]</td>\n",
       "      <td>[koordinator, konselor, sebaya, adalah, muhamm...</td>\n",
       "    </tr>\n",
       "    <tr>\n",
       "      <th>43</th>\n",
       "      <td>[berikan, rincian, layanan, ultksp]</td>\n",
       "      <td>[rincian, layanan, ultksp, dapat, diakses, pad...</td>\n",
       "    </tr>\n",
       "  </tbody>\n",
       "</table>\n",
       "</div>"
      ],
      "text/plain": [
       "                                             question  \\\n",
       "0                                      [visi, filkom]   \n",
       "1                                      [misi, filkom]   \n",
       "2                               [apa, tujuan, filkom]   \n",
       "3                       [sasaran, pendidikan, filkom]   \n",
       "4                         [email, fitra, a, bachtiar]   \n",
       "5            [bidang, penelitian, fitra, a, bachtiar]   \n",
       "6                          [tanggal, dibentuk, ptiik]   \n",
       "7                       [sasaran, pengabdian, filkom]   \n",
       "8                        [sasaran, kerjasama, filkom]   \n",
       "9           [dekan, fakultas, ilmu, komputer, filkom]   \n",
       "10     [wakil, dekan, bidang, akademik, wakil, dekan]   \n",
       "11  [wakil, dekan, bidang, umum, keuangan, dan, su...   \n",
       "12  [wakil, dekan, bidang, kemahasiswaan, alumni, ...   \n",
       "13           [ketua, departemen, teknik, informatika]   \n",
       "14      [sekretaris, departemen, teknik, informatika]   \n",
       "15  [ketua, program, studi, magister, ilmu, komputer]   \n",
       "16  [ketua, program, studi, sarjana, teknik, infor...   \n",
       "17  [ketua, program, studi, sarjana, teknik, kompu...   \n",
       "18             [ketua, departemen, sistem, informasi]   \n",
       "19         [seketaris, departemen, sistem, informasi]   \n",
       "20  [ketua, program, studi, sarjana, sistem, infor...   \n",
       "21  [ketua, program, studi, sarjana, pendidikan, t...   \n",
       "22  [ketua, program, studi, sarjana, teknologi, in...   \n",
       "23                 [berikan, saya, informasi, alumni]   \n",
       "24    [apa, saja, layanan, kemahasiswaan, filkom, ub]   \n",
       "25  [bagaimana, pengajuan, proposal, dan, lpj, keg...   \n",
       "26       [berikan, informasi, dokumen, kemahasiswaan]   \n",
       "27  [bagaimana, pengajuan, surat, tugas, dosen, pe...   \n",
       "28       [bagaimana, permohonan, validasi, data, skm]   \n",
       "29  [berikan, informasi, mengenai, validasi, syara...   \n",
       "30    [bagaimana, mengakses, tracer, study, fakultas]   \n",
       "31      [bagaimana, cara, pendaftaran, wisuda, ulang]   \n",
       "32  [berikan, informasi, mengenai, layanan, bimbin...   \n",
       "33  [berikan, informasi, mengenai, layanan, ultksp...   \n",
       "34  [berikan, informasi, mengenai, tracking, layan...   \n",
       "35  [berikan, informasi, mengenai, bimbingan, dan,...   \n",
       "36                     [apa, tujuan, unit, konseling]   \n",
       "37  [apa, fungsi, bimbingan, dan, konseling, serta...   \n",
       "38     [apa, saja, program, layanan, unit, konseling]   \n",
       "39                  [apa, manfaat, konseling, filkom]   \n",
       "40  [berikan, informasi, mengenai, layanan, konsel...   \n",
       "41  [siapa, konselor, bimbingan, dan, konseling, d...   \n",
       "42             [siapa, koordinator, konselor, sebaya]   \n",
       "43                [berikan, rincian, layanan, ultksp]   \n",
       "\n",
       "                                               answer  \n",
       "0   [menjadi, fakultas, yang, berdaya, saing, inte...  \n",
       "1   [menyelenggarakan, pendidikan, di, bidang, tek...  \n",
       "2   [menghasilkan, lulusan, yang, kompeten, profes...  \n",
       "3   [meningkatkan, kompetensi, dan, kualifikasi, p...  \n",
       "4                             [fitrabachtiaratubacid]  \n",
       "5   [affective, computing, affective, engineering,...  \n",
       "6                                           [oktober]  \n",
       "7   [meningkatkan, kualitas, dan, kuantitas, penga...  \n",
       "8   [mengadakan, kerjasama, pendidikan, penlitian,...  \n",
       "9   [prof, ir, wayan, firdaus, mahmudy, ssi, mt, phd]  \n",
       "10               [dr, eng, ir, herman, tolle, st, mt]  \n",
       "11                     [agus, wahyu, widodo, st, mcs]  \n",
       "12                     [drs, muh, arif, rahman, mkom]  \n",
       "13                     [achmad, basuki, st, mmg, phd]  \n",
       "14             [ir, primantara, hari, trisnawan, msc]  \n",
       "15       [sabriansyah, rizqika, akbar, st, meng, phd]  \n",
       "16                    [adhitya, bhawiyuga, skom, msc]  \n",
       "17        [barlian, henryranu, prasetio, st, mt, phd]  \n",
       "18                          [issa, arwani, skom, msc]  \n",
       "19             [satrio, agung, wicaksono, skom, mkom]  \n",
       "20                 [yusi, tyroni, mursityo, skom, ms]  \n",
       "21            [ir, admaja, dwi, herlambang, spd, mpd]  \n",
       "22  [ir, widhy, hayuhardhika, nugraha, putra, skom...  \n",
       "23  [informasi, alumni, dapat, diakses, pada, link...  \n",
       "24  [pengajuan, proposal, dan, lpj, kegiatan, kema...  \n",
       "25  [pengajuan, proposal, kegiatan, kemahasiswaan,...  \n",
       "26  [informasi, dokumen, kemahasiswaan, dapat, dil...  \n",
       "27  [informasi, pengajuan, surat, tugas, dosen, pe...  \n",
       "28  [permohonan, validasi, data, skm, dapat, dilih...  \n",
       "29  [unggah, dokumen, di, siam, mengisi, gform, pe...  \n",
       "30  [tracer, study, fakultas, dapat, diakses, pada...  \n",
       "31  [pendaftaran, wisuda, ulang, dapat, diakses, p...  \n",
       "32  [layanan, bimbingan, dan, konseling, dapat, di...  \n",
       "33  [layanan, ultksp, dapat, diaksespada, tautan, ...  \n",
       "34  [tracking, layanan, kemahasiswaan, dapat, diak...  \n",
       "35  [dalam, perjalanannya, menuntut, ilmu, mahasis...  \n",
       "36  [mewujudkan, potensi, dirinya, secara, optimal...  \n",
       "37  [penyaluran, bimbingan, berfungsi, dalam, memb...  \n",
       "38  [pelayanan, bantuan, pemecahan, masalah, baik,...  \n",
       "39  [masalah, ditangani, oleh, ahli, yang, kompete...  \n",
       "40  [informasi, mengenai, layanan, konseling, dapa...  \n",
       "41  [ada, konselor, bimbingan, dan, konseling, di,...  \n",
       "42  [koordinator, konselor, sebaya, adalah, muhamm...  \n",
       "43  [rincian, layanan, ultksp, dapat, diakses, pad...  "
      ]
     },
     "execution_count": 21,
     "metadata": {},
     "output_type": "execute_result"
    }
   ],
   "source": [
    "pairs_df = pd.DataFrame(pairs, columns=['question', 'answer'])\n",
    "pairs_df"
   ]
  },
  {
   "cell_type": "code",
   "execution_count": 22,
   "metadata": {
    "execution": {
     "iopub.execute_input": "2024-07-02T20:17:32.828565Z",
     "iopub.status.busy": "2024-07-02T20:17:32.828255Z",
     "iopub.status.idle": "2024-07-02T20:17:32.838911Z",
     "shell.execute_reply": "2024-07-02T20:17:32.837848Z",
     "shell.execute_reply.started": "2024-07-02T20:17:32.828539Z"
    },
    "trusted": true
   },
   "outputs": [],
   "source": [
    "word_freq = Counter()\n",
    "for pair in pairs:\n",
    "    word_freq.update(pair[0])\n",
    "    word_freq.update(pair[1])"
   ]
  },
  {
   "cell_type": "code",
   "execution_count": 23,
   "metadata": {
    "execution": {
     "iopub.execute_input": "2024-07-02T20:17:32.840576Z",
     "iopub.status.busy": "2024-07-02T20:17:32.840244Z",
     "iopub.status.idle": "2024-07-02T20:17:32.850265Z",
     "shell.execute_reply": "2024-07-02T20:17:32.849352Z",
     "shell.execute_reply.started": "2024-07-02T20:17:32.840548Z"
    },
    "trusted": true
   },
   "outputs": [],
   "source": [
    "min_word_freq = 0\n",
    "words = [w for w in word_freq.keys() if word_freq[w] > min_word_freq]\n",
    "word_map = {k: v + 1 for v, k in enumerate(words)}\n",
    "word_map['<unk>'] = len(word_map) + 1\n",
    "word_map['<start>'] = len(word_map) + 1\n",
    "word_map['<end>'] = len(word_map) + 1\n",
    "word_map['<pad>'] = 0"
   ]
  },
  {
   "cell_type": "code",
   "execution_count": 24,
   "metadata": {
    "execution": {
     "iopub.execute_input": "2024-07-02T20:17:32.851802Z",
     "iopub.status.busy": "2024-07-02T20:17:32.851465Z",
     "iopub.status.idle": "2024-07-02T20:17:32.860482Z",
     "shell.execute_reply": "2024-07-02T20:17:32.859625Z",
     "shell.execute_reply.started": "2024-07-02T20:17:32.851770Z"
    },
    "trusted": true
   },
   "outputs": [
    {
     "name": "stdout",
     "output_type": "stream",
     "text": [
      "Total words are: 440\n"
     ]
    }
   ],
   "source": [
    "print(\"Total words are: {}\".format(len(word_map)))"
   ]
  },
  {
   "cell_type": "code",
   "execution_count": 25,
   "metadata": {
    "execution": {
     "iopub.execute_input": "2024-07-02T20:17:32.861919Z",
     "iopub.status.busy": "2024-07-02T20:17:32.861579Z",
     "iopub.status.idle": "2024-07-02T20:17:32.872138Z",
     "shell.execute_reply": "2024-07-02T20:17:32.871399Z",
     "shell.execute_reply.started": "2024-07-02T20:17:32.861895Z"
    },
    "trusted": true
   },
   "outputs": [],
   "source": [
    "with open('WORDMAP_corpus_KBFILKOM.json', 'w') as j:\n",
    "    json.dump(word_map, j)"
   ]
  },
  {
   "cell_type": "code",
   "execution_count": 26,
   "metadata": {
    "execution": {
     "iopub.execute_input": "2024-07-02T20:17:32.877074Z",
     "iopub.status.busy": "2024-07-02T20:17:32.876749Z",
     "iopub.status.idle": "2024-07-02T20:17:32.884325Z",
     "shell.execute_reply": "2024-07-02T20:17:32.883430Z",
     "shell.execute_reply.started": "2024-07-02T20:17:32.877048Z"
    },
    "trusted": true
   },
   "outputs": [],
   "source": [
    "def encode_question(words, word_map):\n",
    "    enc_c = [word_map.get(word, word_map['<unk>']) for word in words] + [word_map['<pad>']] * (max_len - len(words))\n",
    "    return enc_c\n",
    "\n",
    "\n",
    "def encode_question_left(words, word_map):\n",
    "    enc_c = [word_map['<pad>']] * (max_len - len(words)) + [word_map.get(word, word_map['<unk>']) for word in words]\n",
    "    return enc_c\n",
    "\n",
    "def encode_reply(words, word_map):\n",
    "    enc_c = [word_map['<start>']] + [word_map.get(word, word_map['<unk>']) for word in words] + \\\n",
    "    [word_map['<end>']] + [word_map['<pad>']] * (max_len - len(words))\n",
    "    return enc_c\n",
    "\n",
    "def encode_reply_with_maxlen(words, word_map):\n",
    "    enc_c = [word_map['<start>']] + [word_map.get(word, word_map['<unk>']) for word in words] + [word_map['<end>']] + [word_map['<pad>']] * (max_len-2 - len(words))\n",
    "    return enc_c"
   ]
  },
  {
   "cell_type": "code",
   "execution_count": 27,
   "metadata": {
    "execution": {
     "iopub.execute_input": "2024-07-02T20:17:32.885632Z",
     "iopub.status.busy": "2024-07-02T20:17:32.885341Z",
     "iopub.status.idle": "2024-07-02T20:17:33.099456Z",
     "shell.execute_reply": "2024-07-02T20:17:33.098486Z",
     "shell.execute_reply.started": "2024-07-02T20:17:32.885608Z"
    },
    "trusted": true
   },
   "outputs": [],
   "source": [
    "pairs_encoded = []\n",
    "for pair in pairs:\n",
    "    qus = encode_question(pair[0], word_map)\n",
    "    # qus = encode_question_left(pair[0], word_map)\n",
    "    ans = encode_reply(pair[1], word_map)\n",
    "    pairs_encoded.append([qus, ans])\n",
    "\n",
    "with open('pairs_encoded_kbfilkom.json', 'w') as p:\n",
    "    json.dump(pairs_encoded, p)"
   ]
  },
  {
   "cell_type": "code",
   "execution_count": 28,
   "metadata": {},
   "outputs": [],
   "source": [
    "\n",
    "knowledgebase_url_test = 'https://github.com/AndiAlifs/FLUENT-Chatbot-2023/raw/main/KnowledgeBaseFilkom_eval.xlsx'\n",
    "knowledgebase_test = pd.read_excel(knowledgebase_url_test)"
   ]
  },
  {
   "cell_type": "code",
   "execution_count": 29,
   "metadata": {},
   "outputs": [
    {
     "data": {
      "text/html": [
       "<div>\n",
       "<style scoped>\n",
       "    .dataframe tbody tr th:only-of-type {\n",
       "        vertical-align: middle;\n",
       "    }\n",
       "\n",
       "    .dataframe tbody tr th {\n",
       "        vertical-align: top;\n",
       "    }\n",
       "\n",
       "    .dataframe thead th {\n",
       "        text-align: right;\n",
       "    }\n",
       "</style>\n",
       "<table border=\"1\" class=\"dataframe\">\n",
       "  <thead>\n",
       "    <tr style=\"text-align: right;\">\n",
       "      <th></th>\n",
       "      <th>Pertanyaan</th>\n",
       "      <th>Labels</th>\n",
       "      <th>Jawaban</th>\n",
       "    </tr>\n",
       "  </thead>\n",
       "  <tbody>\n",
       "    <tr>\n",
       "      <th>0</th>\n",
       "      <td>apa visi fakultas</td>\n",
       "      <td>visi</td>\n",
       "      <td>menjadi fakultas yang berdaya saing internasio...</td>\n",
       "    </tr>\n",
       "    <tr>\n",
       "      <th>1</th>\n",
       "      <td>visi dari filkom</td>\n",
       "      <td>visi</td>\n",
       "      <td>menjadi fakultas yang berdaya saing internasio...</td>\n",
       "    </tr>\n",
       "    <tr>\n",
       "      <th>2</th>\n",
       "      <td>apa saja visi filkom</td>\n",
       "      <td>visi</td>\n",
       "      <td>menjadi fakultas yang berdaya saing internasio...</td>\n",
       "    </tr>\n",
       "    <tr>\n",
       "      <th>3</th>\n",
       "      <td>apa misi fakultas</td>\n",
       "      <td>misi</td>\n",
       "      <td>menyelenggarakan pendidikan di bidang teknolog...</td>\n",
       "    </tr>\n",
       "    <tr>\n",
       "      <th>4</th>\n",
       "      <td>apa saja misi flkom</td>\n",
       "      <td>misi</td>\n",
       "      <td>menyelenggarakan pendidikan di bidang teknolog...</td>\n",
       "    </tr>\n",
       "    <tr>\n",
       "      <th>...</th>\n",
       "      <td>...</td>\n",
       "      <td>...</td>\n",
       "      <td>...</td>\n",
       "    </tr>\n",
       "    <tr>\n",
       "      <th>86</th>\n",
       "      <td>dapatkah anda memberi tahu siapa konselor bimb...</td>\n",
       "      <td>other</td>\n",
       "      <td>ada 2 konselor bimbingan dan konseling di filk...</td>\n",
       "    </tr>\n",
       "    <tr>\n",
       "      <th>87</th>\n",
       "      <td>siapa yang menjadi koordinator konselor sebaya?</td>\n",
       "      <td>other</td>\n",
       "      <td>koordinator konselor sebaya adalah muhammad da...</td>\n",
       "    </tr>\n",
       "    <tr>\n",
       "      <th>88</th>\n",
       "      <td>siapa koordinator untuk konselor sebaya?</td>\n",
       "      <td>other</td>\n",
       "      <td>koordinator konselor sebaya adalah muhammad da...</td>\n",
       "    </tr>\n",
       "    <tr>\n",
       "      <th>89</th>\n",
       "      <td>mohon rincian mengenai layanan ultksp.</td>\n",
       "      <td>other</td>\n",
       "      <td>rincian layanan ultksp dapat diakses pada taut...</td>\n",
       "    </tr>\n",
       "    <tr>\n",
       "      <th>90</th>\n",
       "      <td>berikan rincian layanan ultksp</td>\n",
       "      <td>other</td>\n",
       "      <td>rincian layanan ultksp dapat diakses pada taut...</td>\n",
       "    </tr>\n",
       "  </tbody>\n",
       "</table>\n",
       "<p>91 rows × 3 columns</p>\n",
       "</div>"
      ],
      "text/plain": [
       "                                           Pertanyaan Labels  \\\n",
       "0                                   apa visi fakultas   visi   \n",
       "1                                    visi dari filkom   visi   \n",
       "2                                apa saja visi filkom   visi   \n",
       "3                                   apa misi fakultas   misi   \n",
       "4                                 apa saja misi flkom   misi   \n",
       "..                                                ...    ...   \n",
       "86  dapatkah anda memberi tahu siapa konselor bimb...  other   \n",
       "87    siapa yang menjadi koordinator konselor sebaya?  other   \n",
       "88           siapa koordinator untuk konselor sebaya?  other   \n",
       "89             mohon rincian mengenai layanan ultksp.  other   \n",
       "90                     berikan rincian layanan ultksp  other   \n",
       "\n",
       "                                              Jawaban  \n",
       "0   menjadi fakultas yang berdaya saing internasio...  \n",
       "1   menjadi fakultas yang berdaya saing internasio...  \n",
       "2   menjadi fakultas yang berdaya saing internasio...  \n",
       "3   menyelenggarakan pendidikan di bidang teknolog...  \n",
       "4   menyelenggarakan pendidikan di bidang teknolog...  \n",
       "..                                                ...  \n",
       "86  ada 2 konselor bimbingan dan konseling di filk...  \n",
       "87  koordinator konselor sebaya adalah muhammad da...  \n",
       "88  koordinator konselor sebaya adalah muhammad da...  \n",
       "89  rincian layanan ultksp dapat diakses pada taut...  \n",
       "90  rincian layanan ultksp dapat diakses pada taut...  \n",
       "\n",
       "[91 rows x 3 columns]"
      ]
     },
     "execution_count": 29,
     "metadata": {},
     "output_type": "execute_result"
    }
   ],
   "source": [
    "knowledgebase_test"
   ]
  },
  {
   "cell_type": "code",
   "execution_count": 30,
   "metadata": {},
   "outputs": [],
   "source": [
    "truncated_real_answers = []\n",
    "for i in list(knowledgebase_test['Jawaban']):\n",
    "    cleaned = remove_punc(i)\n",
    "    splited = cleaned.split()\n",
    "    truncated_real_answers.append(' '.join(splited[:50]))\n",
    "\n",
    "real_questions = list(knowledgebase_test['Pertanyaan'])"
   ]
  },
  {
   "cell_type": "code",
   "execution_count": 31,
   "metadata": {},
   "outputs": [
    {
     "data": {
      "text/plain": [
       "['apa visi fakultas',\n",
       " 'visi dari filkom',\n",
       " 'apa saja visi filkom',\n",
       " 'apa misi fakultas',\n",
       " 'apa saja misi flkom',\n",
       " 'apa misi filkom',\n",
       " 'bagaimana tujuan filkom',\n",
       " 'apa tujuan filkom',\n",
       " 'pendidikan saran filkom',\n",
       " 'apa saja sasaran dari filkom',\n",
       " 'apa sasaran pendidikan filkom',\n",
       " 'apa email pak fitra',\n",
       " 'email e pak fitra teh naon',\n",
       " 'apa email fitra a. bachtiar',\n",
       " 'pak fitra penelitian di bidang apa',\n",
       " 'bidang penelitian pak fitra',\n",
       " 'tanggal tanggal pembentukan ptiik',\n",
       " 'tanggal dibentuk ptiik',\n",
       " 'sasaran filkom untuk pengabdian apa saja',\n",
       " 'apa saja sasaran pengabdian filkom',\n",
       " 'sasaran dari kerjasama filkom apa saja ya',\n",
       " 'apa saja sasaran kerjasama filkom',\n",
       " 'dekan filkom the saha',\n",
       " 'siapa dekan fakultas ilmu komputer filkom',\n",
       " 'wajuk dekan 1 filkom saha',\n",
       " 'wakil dekan bidang akademik filkom siapa ya',\n",
       " 'siapa wakil dekan 2 filkom',\n",
       " 'wakil dekan bidang umum, keuangan, dan sumber daya / wakil dekan 2',\n",
       " 'siapa wakil dekan bidang kemahasiswaan 3',\n",
       " 'wakil dekan bidang kemahasiswaan, alumni, dan kewirausahaan mahasiswa / wakil dekan 3',\n",
       " 'siapa ketua departemen teknik informatika',\n",
       " 'ketua departemen teknik informatika',\n",
       " 'siapa sekretaris departemen teknik informatika',\n",
       " 'sekretaris departemen teknik informatika',\n",
       " 'siapa ketua program studi magister ilmu komputer',\n",
       " 'ketua program studi magister ilmu komputer',\n",
       " 'siapa ketua program studi sarjana teknik informatika',\n",
       " 'ketua program studi sarjana teknik informatika',\n",
       " 'siapa ketua program studi sarjana teknik komputer',\n",
       " 'ketua program studi sarjana teknik komputer',\n",
       " 'siapa ketua departemen sistem informasi',\n",
       " 'ketua departemen sistem informasi',\n",
       " 'siapa seketaris departemen sistem informasi',\n",
       " 'seketaris departemen sistem informasi',\n",
       " 'siapa ketia program studi sarjana sistem informasi',\n",
       " 'ketua program studi sarjana sistem informasi',\n",
       " 'siapa ketua program studi pendidikan teknologi informasi',\n",
       " 'ketua program studi sarjana pendidikan teknologi informasi',\n",
       " 'siapa ketua program studi sarjana teknologi informasi',\n",
       " 'ketua program studi sarjana teknologi informasi',\n",
       " 'tolong berikan informasi tentang alumni.',\n",
       " 'mohon informasi mengenai alumni.',\n",
       " 'apa saja layanan kemahasiswaan yang tersedia di filkom ub?',\n",
       " 'dapatkah anda menjelaskan layanan kemahasiswaan di filkom ub?',\n",
       " 'bagaimana prosedur pengajuan proposal oleh mahasiswa?',\n",
       " 'apa prosedur untuk mengajukan proposal dan laporan pertanggungjawaban (lpj) kegiatan kemahasiswaan?',\n",
       " 'tolong sediakan informasi mengenai dokumen kemahasiswaan.',\n",
       " 'mohon informasi terkait dokumen kemahasiswaan.',\n",
       " 'apa prosedur pengajuan surat tugas untuk dosen pembimbing lomba?',\n",
       " 'bagaimana cara mengajukan surat tugas dosen pembimbing lomba?',\n",
       " 'apa langkah-langkah untuk mengajukan permohonan validasi data skm?',\n",
       " 'bagaimana cara mengajukan permohonan validasi data skm?',\n",
       " 'tolong berikan informasi tentang validasi syarat wisuda.',\n",
       " 'mohon informasi terkait validasi syarat wisuda.',\n",
       " 'bagaimana cara mengakses tracer study fakultas?',\n",
       " 'apa langkah-langkah untuk mengakses tracer study fakultas?',\n",
       " 'bagaimana prosedur pendaftaran wisuda ulang?',\n",
       " 'apa langkah-langkah untuk mendaftar wisuda ulang?',\n",
       " 'tolong berikan informasi tentang layanan bimbingan dan konseling.',\n",
       " 'mohon informasi tentang layanan ultksp (unit layanan terpadu kekerasan seksual dan perundungan).',\n",
       " 'tolong berikan informasi mengenai layanan ultksp (unit layanan terpadu kekerasan seksual dan perundungan).',\n",
       " 'mohon informasi tentang pelacakan layanan kemahasiswaan.',\n",
       " 'tolong sediakan informasi tentang pelacakan layanan kemahasiswaan.',\n",
       " 'mohon informasi tentang layanan bimbingan dan konseling di filkom.',\n",
       " 'tolong sediakan informasi terkait bimbingan dan konseling di filkom.',\n",
       " 'apa tujuan dari unit konseling?',\n",
       " 'apa fungsi utama unit konseling?',\n",
       " 'apa peran bimbingan dan konseling serta penasehat akademik?',\n",
       " 'apa tugas bimbingan dan konseling serta penasehat akademik?',\n",
       " 'apa saja program yang disediakan oleh unit konseling?',\n",
       " 'apa layanan yang ditawarkan oleh unit konseling?',\n",
       " 'apa manfaat layanan konseling di filkom?',\n",
       " 'apa keuntungan dari layanan konseling di filkom?',\n",
       " 'mohon informasi tentang layanan konseling.',\n",
       " 'tolong berikan informasi mengenai layanan konseling.',\n",
       " 'siapa saja konselor bimbingan dan konseling di filkom?',\n",
       " 'dapatkah anda memberi tahu siapa konselor bimbingan dan konseling di filkom?',\n",
       " 'siapa yang menjadi koordinator konselor sebaya?',\n",
       " 'siapa koordinator untuk konselor sebaya?',\n",
       " 'mohon rincian mengenai layanan ultksp.',\n",
       " 'berikan rincian layanan ultksp']"
      ]
     },
     "execution_count": 31,
     "metadata": {},
     "output_type": "execute_result"
    }
   ],
   "source": [
    "real_questions"
   ]
  },
  {
   "cell_type": "code",
   "execution_count": 32,
   "metadata": {
    "execution": {
     "iopub.execute_input": "2024-07-02T20:17:33.318791Z",
     "iopub.status.busy": "2024-07-02T20:17:33.318483Z",
     "iopub.status.idle": "2024-07-02T20:17:33.325793Z",
     "shell.execute_reply": "2024-07-02T20:17:33.325035Z",
     "shell.execute_reply.started": "2024-07-02T20:17:33.318756Z"
    },
    "trusted": true
   },
   "outputs": [],
   "source": [
    "class Dataset(Dataset):\n",
    "\n",
    "    def __init__(self):\n",
    "\n",
    "        self.pairs = json.load(open('pairs_encoded_kbfilkom.json'))\n",
    "        self.dataset_size = len(self.pairs)\n",
    "\n",
    "    def __getitem__(self, i):\n",
    "        \n",
    "        question = torch.LongTensor(self.pairs[i][0])\n",
    "        reply = torch.LongTensor(self.pairs[i][1])\n",
    "            \n",
    "        return question, reply\n",
    "\n",
    "    def __len__(self):\n",
    "        return self.dataset_size"
   ]
  },
  {
   "cell_type": "markdown",
   "metadata": {},
   "source": [
    "## Train Loader"
   ]
  },
  {
   "cell_type": "code",
   "execution_count": 33,
   "metadata": {
    "execution": {
     "iopub.execute_input": "2024-07-02T20:17:33.337842Z",
     "iopub.status.busy": "2024-07-02T20:17:33.337481Z",
     "iopub.status.idle": "2024-07-02T20:17:33.379910Z",
     "shell.execute_reply": "2024-07-02T20:17:33.378865Z",
     "shell.execute_reply.started": "2024-07-02T20:17:33.337813Z"
    },
    "trusted": true
   },
   "outputs": [],
   "source": [
    "train_loader = torch.utils.data.DataLoader(Dataset(),\n",
    "                                           batch_size = 100, \n",
    "                                           shuffle=True, \n",
    "                                           pin_memory=True)"
   ]
  },
  {
   "cell_type": "code",
   "execution_count": 34,
   "metadata": {
    "execution": {
     "iopub.execute_input": "2024-07-02T20:17:33.381467Z",
     "iopub.status.busy": "2024-07-02T20:17:33.381114Z",
     "iopub.status.idle": "2024-07-02T20:17:33.388963Z",
     "shell.execute_reply": "2024-07-02T20:17:33.388016Z",
     "shell.execute_reply.started": "2024-07-02T20:17:33.381434Z"
    },
    "trusted": true
   },
   "outputs": [],
   "source": [
    "def create_masks(question, reply_input, reply_target):\n",
    "    \n",
    "    def subsequent_mask(size):\n",
    "        mask = torch.triu(torch.ones(size, size)).transpose(0, 1).type(dtype=torch.uint8)\n",
    "        return mask.unsqueeze(0)\n",
    "    \n",
    "    question_mask = question!=0\n",
    "    question_mask = question_mask.to(device)\n",
    "    question_mask = question_mask.unsqueeze(1).unsqueeze(1)         # (batch_size, 1, 1, max_words)\n",
    "     \n",
    "    reply_input_mask = reply_input!=0\n",
    "    reply_input_mask = reply_input_mask.unsqueeze(1)  # (batch_size, 1, max_words)\n",
    "    reply_input_mask = reply_input_mask & subsequent_mask(reply_input.size(-1)).type_as(reply_input_mask.data) \n",
    "    reply_input_mask = reply_input_mask.unsqueeze(1) # (batch_size, 1, max_words, max_words)\n",
    "    reply_target_mask = reply_target!=0              # (batch_size, max_words)\n",
    "    \n",
    "    return question_mask, reply_input_mask, reply_target_mask"
   ]
  },
  {
   "cell_type": "code",
   "execution_count": 35,
   "metadata": {
    "execution": {
     "iopub.execute_input": "2024-07-02T20:17:33.390611Z",
     "iopub.status.busy": "2024-07-02T20:17:33.390255Z",
     "iopub.status.idle": "2024-07-02T20:17:33.397673Z",
     "shell.execute_reply": "2024-07-02T20:17:33.396839Z",
     "shell.execute_reply.started": "2024-07-02T20:17:33.390578Z"
    },
    "trusted": true
   },
   "outputs": [],
   "source": [
    "import os\n",
    "\n",
    "def create_directory(path):\n",
    "    if not os.path.exists(path):\n",
    "        os.makedirs(path)\n",
    "        print(f\"Directory created at {path}\")\n",
    "    else:\n",
    "        print(f\"Directory already exists at {path}\")"
   ]
  },
  {
   "cell_type": "markdown",
   "metadata": {},
   "source": [
    "# Architecture"
   ]
  },
  {
   "cell_type": "markdown",
   "metadata": {},
   "source": [
    "## Embeddings"
   ]
  },
  {
   "cell_type": "code",
   "execution_count": 36,
   "metadata": {
    "execution": {
     "iopub.execute_input": "2024-07-02T20:17:33.399270Z",
     "iopub.status.busy": "2024-07-02T20:17:33.398914Z",
     "iopub.status.idle": "2024-07-02T20:17:33.421634Z",
     "shell.execute_reply": "2024-07-02T20:17:33.420718Z",
     "shell.execute_reply.started": "2024-07-02T20:17:33.399239Z"
    },
    "trusted": true
   },
   "outputs": [],
   "source": [
    "class Embeddings(nn.Module):\n",
    "    \"\"\"\n",
    "    Implements embeddings of the words and adds their positional encodings. \n",
    "    \"\"\"\n",
    "    def __init__(self, vocab_size, d_model, max_len = 50, num_layers = 6):\n",
    "        super(Embeddings, self).__init__()\n",
    "        self.d_model = d_model\n",
    "        self.dropout = nn.Dropout(0.1)\n",
    "        self.embed = nn.Embedding(vocab_size, d_model)\n",
    "        self.pe = self.create_positinal_encoding(max_len, self.d_model)     # (1, max_len, d_model)\n",
    "        self.te = self.create_positinal_encoding(num_layers, self.d_model)  # (1, num_layers, d_model)\n",
    "        self.dropout = nn.Dropout(0.1)\n",
    "        \n",
    "    def create_positinal_encoding(self, max_len, d_model):\n",
    "        pe = torch.zeros(max_len, d_model).to(device)\n",
    "        for pos in range(max_len):   # for each position of the word\n",
    "            for i in range(0, d_model, 2):   # for each dimension of the each position\n",
    "                pe[pos, i] = math.sin(pos / (10000 ** ((2 * i)/d_model)))\n",
    "                pe[pos, i + 1] = math.cos(pos / (10000 ** ((2 * (i + 1))/d_model)))\n",
    "        pe = pe.unsqueeze(0)   # include the batch size\n",
    "        return pe\n",
    "        \n",
    "    def forward(self, embedding, layer_idx):\n",
    "        if layer_idx == 0:\n",
    "            embedding = self.embed(embedding) * math.sqrt(self.d_model)\n",
    "        embedding += self.pe[:, :embedding.size(1)]   # pe will automatically be expanded with the same batch size as encoded_words\n",
    "        # embedding: (batch_size, max_len, d_model), te: (batch_size, 1, d_model)\n",
    "        embedding += self.te[:, layer_idx, :].unsqueeze(1).repeat(1, embedding.size(1), 1)\n",
    "        embedding = self.dropout(embedding)\n",
    "        return embedding"
   ]
  },
  {
   "cell_type": "markdown",
   "metadata": {},
   "source": [
    "## Multi-Head Attention"
   ]
  },
  {
   "cell_type": "code",
   "execution_count": 37,
   "metadata": {
    "execution": {
     "iopub.execute_input": "2024-07-02T20:17:33.423711Z",
     "iopub.status.busy": "2024-07-02T20:17:33.423056Z",
     "iopub.status.idle": "2024-07-02T20:17:33.435766Z",
     "shell.execute_reply": "2024-07-02T20:17:33.435028Z",
     "shell.execute_reply.started": "2024-07-02T20:17:33.423675Z"
    },
    "trusted": true
   },
   "outputs": [],
   "source": [
    "class MultiHeadAttention(nn.Module):\n",
    "    \n",
    "    def __init__(self, heads, d_model):\n",
    "        super(MultiHeadAttention, self).__init__()\n",
    "        assert d_model % heads == 0\n",
    "        self.d_k = d_model // heads\n",
    "        self.heads = heads\n",
    "        self.dropout = nn.Dropout(0.1)\n",
    "        self.query = nn.Linear(d_model, d_model)\n",
    "        self.key = nn.Linear(d_model, d_model)\n",
    "        self.value = nn.Linear(d_model, d_model)\n",
    "        self.concat = nn.Linear(d_model, d_model)\n",
    "        \n",
    "    def forward(self, query, key, value, mask):\n",
    "        \"\"\"\n",
    "        query, key, value of shape: (batch_size, max_len, 512)\n",
    "        mask of shape: (batch_size, 1, 1, max_words)\n",
    "        \"\"\"\n",
    "        # (batch_size, max_len, 512)\n",
    "        query = self.query(query)\n",
    "        key = self.key(key)        \n",
    "        value = self.value(value)   \n",
    "        \n",
    "        # (batch_size, max_len, 512) --> (batch_size, max_len, h, d_k) --> (batch_size, h, max_len, d_k)\n",
    "        query = query.view(query.shape[0], -1, self.heads, self.d_k).permute(0, 2, 1, 3)   \n",
    "        key = key.view(key.shape[0], -1, self.heads, self.d_k).permute(0, 2, 1, 3)  \n",
    "        value = value.view(value.shape[0], -1, self.heads, self.d_k).permute(0, 2, 1, 3)  \n",
    "        \n",
    "        # (batch_size, h, max_len, d_k) matmul (batch_size, h, d_k, max_len) --> (batch_size, h, max_len, max_len)\n",
    "        scores = torch.matmul(query, key.permute(0,1,3,2)) / math.sqrt(query.size(-1))\n",
    "        scores = scores.masked_fill(mask == 0, -1e9)    # (batch_size, h, max_len, max_len)\n",
    "        weights = F.softmax(scores, dim = -1)           # (batch_size, h, max_len, max_len)\n",
    "        weights = self.dropout(weights)\n",
    "        # (batch_size, h, max_len, max_len) matmul (batch_size, h, max_len, d_k) --> (batch_size, h, max_len, d_k)\n",
    "        context = torch.matmul(weights, value)\n",
    "        # (batch_size, h, max_len, d_k) --> (batch_size, max_len, h, d_k) --> (batch_size, max_len, h * d_k)\n",
    "        context = context.permute(0,2,1,3).contiguous().view(context.shape[0], -1, self.heads * self.d_k)\n",
    "        # (batch_size, max_len, h * d_k)\n",
    "        interacted = self.concat(context)\n",
    "        return interacted "
   ]
  },
  {
   "cell_type": "markdown",
   "metadata": {},
   "source": [
    "## Feed Forward Neural Network"
   ]
  },
  {
   "cell_type": "code",
   "execution_count": 38,
   "metadata": {
    "execution": {
     "iopub.execute_input": "2024-07-02T20:17:33.437331Z",
     "iopub.status.busy": "2024-07-02T20:17:33.437039Z",
     "iopub.status.idle": "2024-07-02T20:17:33.450588Z",
     "shell.execute_reply": "2024-07-02T20:17:33.449684Z",
     "shell.execute_reply.started": "2024-07-02T20:17:33.437306Z"
    },
    "trusted": true
   },
   "outputs": [],
   "source": [
    "class FeedForward(nn.Module):\n",
    "    def __init__(self, d_model, middle_dim = 2048):\n",
    "        super(FeedForward, self).__init__()\n",
    "        \n",
    "        self.fc1 = nn.Linear(d_model, middle_dim)\n",
    "        self.fc2 = nn.Linear(middle_dim, d_model)\n",
    "        self.dropout = nn.Dropout(0.1)\n",
    "\n",
    "    def forward(self, x):\n",
    "        out = F.relu(self.fc1(x))\n",
    "        out = self.fc2(self.dropout(out))\n",
    "        return out\n"
   ]
  },
  {
   "cell_type": "markdown",
   "metadata": {},
   "source": [
    "## Encoder"
   ]
  },
  {
   "cell_type": "code",
   "execution_count": 39,
   "metadata": {
    "execution": {
     "iopub.execute_input": "2024-07-02T20:17:33.452046Z",
     "iopub.status.busy": "2024-07-02T20:17:33.451709Z",
     "iopub.status.idle": "2024-07-02T20:17:33.461741Z",
     "shell.execute_reply": "2024-07-02T20:17:33.460847Z",
     "shell.execute_reply.started": "2024-07-02T20:17:33.452019Z"
    },
    "trusted": true
   },
   "outputs": [],
   "source": [
    "class EncoderLayer(nn.Module):\n",
    "    def __init__(self, d_model, heads):\n",
    "        super(EncoderLayer, self).__init__()\n",
    "        self.layernorm = nn.LayerNorm(d_model)\n",
    "        self.self_multihead = MultiHeadAttention(heads, d_model)\n",
    "        self.feed_forward = FeedForward(d_model)\n",
    "        self.dropout = nn.Dropout(0.1)\n",
    "\n",
    "    def forward(self, embeddings, mask):\n",
    "        interacted = self.dropout(self.self_multihead(embeddings, embeddings, embeddings, mask))\n",
    "        interacted = self.layernorm(interacted + embeddings)\n",
    "        feed_forward_out = self.dropout(self.feed_forward(interacted))\n",
    "        encoded = self.layernorm(feed_forward_out + interacted)\n",
    "        return encoded"
   ]
  },
  {
   "cell_type": "markdown",
   "metadata": {},
   "source": [
    "## Decoder"
   ]
  },
  {
   "cell_type": "code",
   "execution_count": 40,
   "metadata": {
    "execution": {
     "iopub.execute_input": "2024-07-02T20:17:33.463365Z",
     "iopub.status.busy": "2024-07-02T20:17:33.463025Z",
     "iopub.status.idle": "2024-07-02T20:17:33.475859Z",
     "shell.execute_reply": "2024-07-02T20:17:33.475008Z",
     "shell.execute_reply.started": "2024-07-02T20:17:33.463339Z"
    },
    "trusted": true
   },
   "outputs": [],
   "source": [
    "class DecoderLayer(nn.Module):\n",
    "    \n",
    "    def __init__(self, d_model, heads):\n",
    "        super(DecoderLayer, self).__init__()\n",
    "        self.layernorm = nn.LayerNorm(d_model)\n",
    "        self.self_multihead = MultiHeadAttention(heads, d_model)\n",
    "        self.src_multihead = MultiHeadAttention(heads, d_model)\n",
    "        self.feed_forward = FeedForward(d_model)\n",
    "        self.dropout = nn.Dropout(0.1)\n",
    "        \n",
    "    def forward(self, embeddings, encoded, src_mask, target_mask):\n",
    "        query = self.dropout(self.self_multihead(embeddings, embeddings, embeddings, target_mask))\n",
    "        query = self.layernorm(query + embeddings)\n",
    "        interacted = self.dropout(self.src_multihead(query, encoded, encoded, src_mask))\n",
    "        interacted = self.layernorm(interacted + query)\n",
    "        feed_forward_out = self.dropout(self.feed_forward(interacted))\n",
    "        decoded = self.layernorm(feed_forward_out + interacted)\n",
    "        return decoded\n"
   ]
  },
  {
   "cell_type": "markdown",
   "metadata": {},
   "source": [
    "## Transformer Architecture"
   ]
  },
  {
   "cell_type": "code",
   "execution_count": 41,
   "metadata": {
    "execution": {
     "iopub.execute_input": "2024-07-02T20:17:33.478079Z",
     "iopub.status.busy": "2024-07-02T20:17:33.477782Z",
     "iopub.status.idle": "2024-07-02T20:17:33.514932Z",
     "shell.execute_reply": "2024-07-02T20:17:33.514023Z",
     "shell.execute_reply.started": "2024-07-02T20:17:33.478055Z"
    },
    "trusted": true
   },
   "outputs": [],
   "source": [
    "class Transformer(nn.Module):\n",
    "    \n",
    "    def __init__(self, d_model, heads, num_layers_enc, num_layers_dec, word_map, max_len = 50):\n",
    "        super(Transformer, self).__init__()\n",
    "        \n",
    "        self.d_model = d_model\n",
    "        self.num_layers_enc = num_layers_enc\n",
    "        self.num_layers_dec = num_layers_dec\n",
    "        self.vocab_size = len(word_map)\n",
    "        self.embed_enc = Embeddings(self.vocab_size, d_model, num_layers = num_layers_enc, max_len = max_len)\n",
    "        self.embed_dec = Embeddings(self.vocab_size, d_model, num_layers = num_layers_dec, max_len = max_len)\n",
    "        self.encoder = EncoderLayer(d_model, heads) \n",
    "        self.decoder = DecoderLayer(d_model, heads)\n",
    "        self.logit = nn.Linear(d_model, self.vocab_size)\n",
    "        \n",
    "    def encode(self, src_embeddings, src_mask):\n",
    "        for i in range(self.num_layers_enc):\n",
    "            src_embeddings = self.embed_enc(src_embeddings, i)\n",
    "            src_embeddings = self.encoder(src_embeddings, src_mask)\n",
    "        return src_embeddings\n",
    "    \n",
    "    def decode(self, tgt_embeddings, target_mask, src_embeddings, src_mask):\n",
    "        for i in range(self.num_layers_enc):\n",
    "            tgt_embeddings = self.embed_enc(tgt_embeddings, i)\n",
    "            tgt_embeddings = self.decoder(tgt_embeddings, src_embeddings, src_mask, target_mask)\n",
    "        return tgt_embeddings\n",
    "        \n",
    "    def forward(self, src_words, src_mask, target_words, target_mask):\n",
    "        encoded = self.encode(src_words, src_mask)\n",
    "        print(\"size of encoded\", encoded.size())\n",
    "        decoded = self.decode(target_words, target_mask, encoded, src_mask)\n",
    "        out = F.log_softmax(self.logit(decoded), dim = 2)\n",
    "        return out\n"
   ]
  },
  {
   "cell_type": "code",
   "execution_count": 42,
   "metadata": {
    "execution": {
     "iopub.execute_input": "2024-07-02T20:17:33.516425Z",
     "iopub.status.busy": "2024-07-02T20:17:33.516094Z",
     "iopub.status.idle": "2024-07-02T20:17:33.527522Z",
     "shell.execute_reply": "2024-07-02T20:17:33.526734Z",
     "shell.execute_reply.started": "2024-07-02T20:17:33.516394Z"
    },
    "trusted": true
   },
   "outputs": [],
   "source": [
    "class AdamWarmup:\n",
    "    \n",
    "    def __init__(self, model_size, warmup_steps, optimizer):\n",
    "        \n",
    "        self.model_size = model_size\n",
    "        self.warmup_steps = warmup_steps\n",
    "        self.optimizer = optimizer\n",
    "        self.current_step = 0\n",
    "        self.lr = 0\n",
    "        \n",
    "    def get_lr(self):\n",
    "        return self.model_size ** (-0.5) * min(self.current_step ** (-0.5), self.current_step * self.warmup_steps ** (-1.5))\n",
    "        \n",
    "    def step(self):\n",
    "        # Increment the number of steps each time we call the step function\n",
    "        self.current_step += 1\n",
    "        lr = self.get_lr()\n",
    "        for param_group in self.optimizer.param_groups:\n",
    "            param_group['lr'] = lr\n",
    "        # update the learning rate\n",
    "        self.lr = lr\n",
    "        self.optimizer.step()       \n",
    "        "
   ]
  },
  {
   "cell_type": "code",
   "execution_count": 43,
   "metadata": {
    "execution": {
     "iopub.execute_input": "2024-07-02T20:17:33.529363Z",
     "iopub.status.busy": "2024-07-02T20:17:33.528622Z",
     "iopub.status.idle": "2024-07-02T20:17:33.540886Z",
     "shell.execute_reply": "2024-07-02T20:17:33.540153Z",
     "shell.execute_reply.started": "2024-07-02T20:17:33.529331Z"
    },
    "trusted": true
   },
   "outputs": [],
   "source": [
    "class LossWithLS(nn.Module):\n",
    "\n",
    "    def __init__(self, size, smooth):\n",
    "        super(LossWithLS, self).__init__()\n",
    "        self.criterion = nn.KLDivLoss(size_average=False, reduce=False)\n",
    "        self.confidence = 1.0 - smooth\n",
    "        self.smooth = smooth\n",
    "        self.size = size\n",
    "        \n",
    "    def forward(self, prediction, target, mask):\n",
    "        \"\"\"\n",
    "        prediction of shape: (batch_size, max_words, vocab_size)\n",
    "        target and mask of shape: (batch_size, max_words)\n",
    "        \"\"\"\n",
    "        prediction = prediction.view(-1, prediction.size(-1))   # (batch_size * max_words, vocab_size)\n",
    "        target = target.contiguous().view(-1)   # (batch_size * max_words)\n",
    "        mask = mask.float()\n",
    "        mask = mask.view(-1)       # (batch_size * max_words)\n",
    "        labels = prediction.data.clone()\n",
    "        labels.fill_(self.smooth / (self.size - 1))\n",
    "        labels.scatter_(1, target.data.unsqueeze(1), self.confidence)\n",
    "        loss = self.criterion(prediction, labels)    # (batch_size * max_words, vocab_size)\n",
    "        loss = (loss.sum(1) * mask).sum() / mask.sum()\n",
    "        return loss\n",
    "        "
   ]
  },
  {
   "cell_type": "markdown",
   "metadata": {},
   "source": [
    "# Define Neptune Experiment"
   ]
  },
  {
   "cell_type": "code",
   "execution_count": 44,
   "metadata": {
    "execution": {
     "iopub.execute_input": "2024-07-02T20:17:33.542496Z",
     "iopub.status.busy": "2024-07-02T20:17:33.542228Z",
     "iopub.status.idle": "2024-07-02T20:17:33.550662Z",
     "shell.execute_reply": "2024-07-02T20:17:33.549840Z",
     "shell.execute_reply.started": "2024-07-02T20:17:33.542473Z"
    },
    "trusted": true
   },
   "outputs": [],
   "source": [
    "project = \"andialifs/fluent-tesis-playground-24\"\n",
    "api_token = \"eyJhcGlfYWRkcmVzcyI6Imh0dHBzOi8vYXBwLm5lcHR1bmUuYWkiLCJhcGlfdXJsIjoiaHR0cHM6Ly9hcHAubmVwdHVuZS5haSIsImFwaV9rZXkiOiJjZTY2YWQ3My04OTBkLTQ2OWUtYTc1Ni1jYjk0MGZhMWFiNGEifQ==\"\n",
    "\n",
    "def neptune_init(name=\"cobain\"):\n",
    "    run = neptune.init_run(\n",
    "        project=project,\n",
    "        api_token=api_token,\n",
    "        name=name\n",
    "    )\n",
    "    return run"
   ]
  },
  {
   "cell_type": "markdown",
   "metadata": {},
   "source": [
    "# Function"
   ]
  },
  {
   "cell_type": "code",
   "execution_count": 45,
   "metadata": {},
   "outputs": [],
   "source": [
    "from nltk.translate.bleu_score import sentence_bleu\n",
    "\n",
    "def calculate_bleu(preds, questions, answers):\n",
    "    bleu_score_1 = 0\n",
    "    bleu_score_2 = 0\n",
    "    bleu_score_3 = 0\n",
    "    bleu_score_4 = 0\n",
    "    bleu_score_all = 0\n",
    "\n",
    "    num_of_rows_calculated = 0\n",
    "\n",
    "    for i, (question, real_answer) in enumerate(zip(questions, answers)):\n",
    "        # print(f\"Question: {question}\")\n",
    "        # print(f\"Real Answer: {real_answer}\")\n",
    "        # print(f\"Predicted Answer: {preds[i]}\")\n",
    "        try:\n",
    "            refs = [real_answer.split(' ')]\n",
    "            hyp = preds[i].split(' ')\n",
    "\n",
    "            bleu_score_1 += sentence_bleu(refs, hyp, weights=(1,0,0,0))\n",
    "            bleu_score_2 += sentence_bleu(refs, hyp, weights=(0,1,0,0))\n",
    "            bleu_score_3 += sentence_bleu(refs, hyp, weights=(0,0,1,0))\n",
    "            bleu_score_4 += sentence_bleu(refs, hyp, weights=(0,0,0,1))\n",
    "            bleu_score_all += sentence_bleu(refs, hyp, weights=(.25,.25,.25,.25))\n",
    "\n",
    "            num_of_rows_calculated+=1\n",
    "        except:\n",
    "            continue\n",
    "\n",
    "    results = {\"1-gram\": (bleu_score_1/num_of_rows_calculated),\n",
    "                \"2-gram\": (bleu_score_2/num_of_rows_calculated),\n",
    "                \"3-gram\": (bleu_score_3/num_of_rows_calculated),\n",
    "                \"4-gram\": (bleu_score_all/num_of_rows_calculated)}\n",
    "    \n",
    "    return results"
   ]
  },
  {
   "cell_type": "markdown",
   "metadata": {},
   "source": [
    "## Train"
   ]
  },
  {
   "cell_type": "code",
   "execution_count": 46,
   "metadata": {
    "execution": {
     "iopub.execute_input": "2024-07-02T20:17:33.564996Z",
     "iopub.status.busy": "2024-07-02T20:17:33.564656Z",
     "iopub.status.idle": "2024-07-02T20:17:33.574590Z",
     "shell.execute_reply": "2024-07-02T20:17:33.573653Z",
     "shell.execute_reply.started": "2024-07-02T20:17:33.564947Z"
    },
    "trusted": true
   },
   "outputs": [],
   "source": [
    "def train(train_loader, transformer, criterion, epoch):\n",
    "    transformer.train()\n",
    "    sum_loss = 0\n",
    "    count = 0\n",
    "\n",
    "    for i, (question, reply) in enumerate(train_loader):\n",
    "        \n",
    "        samples = question.shape[0]\n",
    "\n",
    "        # Move to device\n",
    "        question = question.to(device)\n",
    "        reply = reply.to(device)\n",
    "\n",
    "        # Prepare Target Data\n",
    "        reply_input = reply[:, :-1]\n",
    "        reply_target = reply[:, 1:]\n",
    "\n",
    "        # Create mask and add dimensions\n",
    "        question_mask, reply_input_mask, reply_target_mask = create_masks(question, reply_input, reply_target)\n",
    "\n",
    "        # Get the transformer outputs\n",
    "        out = transformer(question, question_mask, reply_input, reply_input_mask)\n",
    "\n",
    "        # Compute the loss\n",
    "        loss = criterion(out, reply_target, reply_target_mask)\n",
    "        \n",
    "        # Backprop\n",
    "        transformer_optimizer.optimizer.zero_grad()\n",
    "        loss.backward()\n",
    "        transformer_optimizer.step()\n",
    "        \n",
    "        sum_loss += loss.item() * samples\n",
    "        count += samples\n",
    "        \n",
    "        if i % 100 == 0:\n",
    "            print(\"Epoch [{}][{}/{}]\\tLoss: {:.3f}\".format(epoch, i, len(train_loader), sum_loss/count))\n",
    "    \n",
    "    return sum_loss/count"
   ]
  },
  {
   "cell_type": "markdown",
   "metadata": {},
   "source": [
    "## Evaluate"
   ]
  },
  {
   "cell_type": "code",
   "execution_count": 47,
   "metadata": {
    "execution": {
     "iopub.execute_input": "2024-07-02T20:17:33.576127Z",
     "iopub.status.busy": "2024-07-02T20:17:33.575799Z",
     "iopub.status.idle": "2024-07-02T20:17:33.587390Z",
     "shell.execute_reply": "2024-07-02T20:17:33.586545Z",
     "shell.execute_reply.started": "2024-07-02T20:17:33.576103Z"
    },
    "trusted": true
   },
   "outputs": [],
   "source": [
    "def evaluate(transformer, question, question_mask, max_len, word_map):\n",
    "    \"\"\"\n",
    "    Performs Greedy Decoding with a batch size of 1\n",
    "    \"\"\"\n",
    "    rev_word_map = {v: k for k, v in word_map.items()}\n",
    "    transformer.eval()\n",
    "    start_token = word_map['<start>']\n",
    "    encoded = transformer.encode(question, question_mask)\n",
    "    words = torch.LongTensor([[start_token]]).to(device)\n",
    "    \n",
    "    for step in range(max_len - 1):\n",
    "        size = words.shape[1]\n",
    "        target_mask = torch.triu(torch.ones(size, size)).transpose(0, 1).type(dtype=torch.uint8)\n",
    "        target_mask = target_mask.to(device).unsqueeze(0).unsqueeze(0)\n",
    "        decoded = transformer.decode(words, target_mask, encoded, question_mask)\n",
    "        predictions = transformer.logit(decoded[:, -1])\n",
    "        _, next_word = torch.max(predictions, dim = 1)\n",
    "        next_word = next_word.item()\n",
    "        if next_word == word_map['<end>']:\n",
    "            break\n",
    "        words = torch.cat([words, torch.LongTensor([[next_word]]).to(device)], dim = 1)   # (1,step+2)\n",
    "        \n",
    "    # Construct Sentence\n",
    "    if words.dim() == 2:\n",
    "        words = words.squeeze(0)\n",
    "        words = words.tolist()\n",
    "        \n",
    "    sen_idx = [w for w in words if w not in {word_map['<start>']}]\n",
    "    sentence = ' '.join([rev_word_map[sen_idx[k]] for k in range(len(sen_idx))])\n",
    "    \n",
    "    return sentence"
   ]
  },
  {
   "cell_type": "code",
   "execution_count": 48,
   "metadata": {},
   "outputs": [],
   "source": [
    "device = torch.device(\"cuda\" if torch.cuda.is_available() else \"cpu\")"
   ]
  },
  {
   "cell_type": "markdown",
   "metadata": {},
   "source": [
    "## Transformers"
   ]
  },
  {
   "cell_type": "markdown",
   "metadata": {},
   "source": [
    "# Training"
   ]
  },
  {
   "cell_type": "markdown",
   "metadata": {},
   "source": [
    "## Vanilla"
   ]
  },
  {
   "cell_type": "code",
   "execution_count": null,
   "metadata": {},
   "outputs": [
    {
     "name": "stdout",
     "output_type": "stream",
     "text": [
      "[neptune] [info   ] Neptune initialized. Open in the app: https://app.neptune.ai/andialifs/fluent-tesis-playground-24/e/FLUEN-17\n",
      "size of encoded torch.Size([44, 90, 512])\n",
      "Epoch [0][0/1]\tLoss: 4.583\n",
      "Starting Evaluation\n",
      " torch.Size([44, 90, 512])\n",
      "Epoch [1][0/1]\tLoss: 4.580\n",
      "size of encoded torch.Size([44, 90, 512])\n",
      "Epoch [2][0/1]\tLoss: 4.576\n",
      "size of encoded torch.Size([44, 90, 512])\n",
      "Epoch [3][0/1]\tLoss: 4.592\n",
      "size of encoded torch.Size([44, 90, 512])\n",
      "Epoch [4][0/1]\tLoss: 4.568\n",
      "size of encoded torch.Size([44, 90, 512])\n",
      "Epoch [5][0/1]\tLoss: 4.584\n",
      "Starting Evaluation\n"
     ]
    },
    {
     "ename": "KeyboardInterrupt",
     "evalue": "",
     "output_type": "error",
     "traceback": [
      "\u001b[0;31m---------------------------------------------------------------------------\u001b[0m",
      "\u001b[0;31mKeyboardInterrupt\u001b[0m                         Traceback (most recent call last)",
      "Input \u001b[0;32mIn [52]\u001b[0m, in \u001b[0;36m<cell line: 25>\u001b[0;34m()\u001b[0m\n\u001b[1;32m     35\u001b[0m     question \u001b[38;5;241m=\u001b[39m torch\u001b[38;5;241m.\u001b[39mLongTensor([input_eval_question])\u001b[38;5;241m.\u001b[39mto(device)\n\u001b[1;32m     36\u001b[0m     question_mask \u001b[38;5;241m=\u001b[39m (question\u001b[38;5;241m!=\u001b[39m\u001b[38;5;241m0\u001b[39m)\u001b[38;5;241m.\u001b[39mto(device)\u001b[38;5;241m.\u001b[39munsqueeze(\u001b[38;5;241m1\u001b[39m)\u001b[38;5;241m.\u001b[39munsqueeze(\u001b[38;5;241m1\u001b[39m)  \n\u001b[0;32m---> 37\u001b[0m     generated_response \u001b[38;5;241m=\u001b[39m \u001b[43mevaluate\u001b[49m\u001b[43m(\u001b[49m\u001b[43mtransformer\u001b[49m\u001b[43m,\u001b[49m\u001b[43m \u001b[49m\u001b[43mquestion\u001b[49m\u001b[43m,\u001b[49m\u001b[43m \u001b[49m\u001b[43mquestion_mask\u001b[49m\u001b[43m,\u001b[49m\u001b[43m \u001b[49m\u001b[38;5;241;43m50\u001b[39;49m\u001b[43m,\u001b[49m\u001b[43m \u001b[49m\u001b[43mword_map\u001b[49m\u001b[43m)\u001b[49m\n\u001b[1;32m     38\u001b[0m     all_generated_response\u001b[38;5;241m.\u001b[39mappend(generated_response)\n\u001b[1;32m     40\u001b[0m bleu_eval_scores \u001b[38;5;241m=\u001b[39m calculate_bleu(all_generated_response, real_questions, truncated_real_answers)\n",
      "Input \u001b[0;32mIn [47]\u001b[0m, in \u001b[0;36mevaluate\u001b[0;34m(transformer, question, question_mask, max_len, word_map)\u001b[0m\n\u001b[1;32m     12\u001b[0m size \u001b[38;5;241m=\u001b[39m words\u001b[38;5;241m.\u001b[39mshape[\u001b[38;5;241m1\u001b[39m]\n\u001b[1;32m     13\u001b[0m target_mask \u001b[38;5;241m=\u001b[39m torch\u001b[38;5;241m.\u001b[39mtriu(torch\u001b[38;5;241m.\u001b[39mones(size, size))\u001b[38;5;241m.\u001b[39mtranspose(\u001b[38;5;241m0\u001b[39m, \u001b[38;5;241m1\u001b[39m)\u001b[38;5;241m.\u001b[39mtype(dtype\u001b[38;5;241m=\u001b[39mtorch\u001b[38;5;241m.\u001b[39muint8)\n\u001b[0;32m---> 14\u001b[0m target_mask \u001b[38;5;241m=\u001b[39m \u001b[43mtarget_mask\u001b[49m\u001b[38;5;241;43m.\u001b[39;49m\u001b[43mto\u001b[49m\u001b[43m(\u001b[49m\u001b[43mdevice\u001b[49m\u001b[43m)\u001b[49m\u001b[38;5;241m.\u001b[39munsqueeze(\u001b[38;5;241m0\u001b[39m)\u001b[38;5;241m.\u001b[39munsqueeze(\u001b[38;5;241m0\u001b[39m)\n\u001b[1;32m     15\u001b[0m decoded \u001b[38;5;241m=\u001b[39m transformer\u001b[38;5;241m.\u001b[39mdecode(words, target_mask, encoded, question_mask)\n\u001b[1;32m     16\u001b[0m predictions \u001b[38;5;241m=\u001b[39m transformer\u001b[38;5;241m.\u001b[39mlogit(decoded[:, \u001b[38;5;241m-\u001b[39m\u001b[38;5;241m1\u001b[39m])\n",
      "\u001b[0;31mKeyboardInterrupt\u001b[0m: "
     ]
    }
   ],
   "source": [
    "name = 'experiment_vanilla_16924_Ext1'\n",
    "# create_directory(directory)\n",
    "\n",
    "d_model = 512\n",
    "heads = 4\n",
    "num_layers_enc = 5\n",
    "num_layers_dec =  5\n",
    "epochs = 500\n",
    "\n",
    "run = neptune_init(name)\n",
    "\n",
    "loss_history_vanilla_transformer = []\n",
    "\n",
    "device = torch.device(\"cuda\" if torch.cuda.is_available() else \"cpu\")\n",
    "\n",
    "with open('WORDMAP_corpus_KBFILKOM.json', 'r') as j:\n",
    "    word_map = json.load(j)\n",
    "    \n",
    "transformer = Transformer(d_model = d_model, heads = heads, num_layers_enc = num_layers_enc, num_layers_dec= num_layers_dec, word_map = word_map, max_len=95)\n",
    "transformer = transformer.to(device)\n",
    "adam_optimizer = torch.optim.Adam(transformer.parameters(), lr=0.001, betas=(0.9, 0.98), eps=1e-9)\n",
    "transformer_optimizer = AdamWarmup(model_size = d_model, warmup_steps = 4000, optimizer = adam_optimizer)\n",
    "criterion = LossWithLS(len(word_map), 0.2)\n",
    "\n",
    "for epoch in range(epochs):\n",
    "    loss_train = train(train_loader, transformer, criterion, epoch)\n",
    "\n",
    "    run['train/loss'].append(loss_train)\n",
    "\n",
    "    if epoch % 5 == 0:\n",
    "        print(\"Starting Evaluation\")\n",
    "        all_generated_response = []\n",
    "        for eval_question in real_questions:\n",
    "            input_eval_question = [word_map.get(word, word_map['<unk>']) for word in eval_question.split()]\n",
    "            question = torch.LongTensor([input_eval_question]).to(device)\n",
    "            question_mask = (question!=0).to(device).unsqueeze(1).unsqueeze(1)  \n",
    "            generated_response = evaluate(transformer, question, question_mask, 50, word_map)\n",
    "            all_generated_response.append(generated_response)\n",
    "        \n",
    "        bleu_eval_scores = calculate_bleu(all_generated_response, real_questions, truncated_real_answers)\n",
    "        print(f\"BLEU Eval Scores: {bleu_eval_scores}\")\n",
    "        run['eval/bleu'].append(bleu_eval_scores[\"4-gram\"])\n",
    "\n",
    "        for i in range(3):\n",
    "            print(f\"Question: {real_questions[i]}\")\n",
    "            print(f\"Real Answer: {truncated_real_answers[i]}\")\n",
    "            print(f\"Predicted Answer: {all_generated_response[i]}\")\n",
    "            print()\n",
    "\n",
    "        print(\"Finished Evaluation\")\n",
    "\n",
    "\n",
    "save_dir = directory + '/experiment_' + '.pth.tar'\n",
    "# parameters = {\n",
    "#     'd_model': d_model,\n",
    "#     'heads': heads,\n",
    "#     'encoder_layers': num_layers_enc,\n",
    "#     'decoder_layers': num_layers_dec,\n",
    "#     'model_dir': save_dir,\n",
    "#     'total_params': summary(transformer).trainable_params\n",
    "# }\n",
    "# run['parameters'] = parameters\n",
    "\n",
    "\n",
    "state = {'epoch': epoch, 'transformer': transformer, 'transformer_optimizer': transformer_optimizer}\n",
    "# torch.save(state, save_dir)\n",
    "\n",
    "print('Model saved at epoch: {} name {}'.format(epoch, save_dir))"
   ]
  },
  {
   "cell_type": "code",
   "execution_count": 30,
   "metadata": {},
   "outputs": [],
   "source": [
    "save_dir = 'experiment_vanilla_16924/experiment_.pth.tar'"
   ]
  },
  {
   "cell_type": "code",
   "execution_count": 31,
   "metadata": {},
   "outputs": [],
   "source": [
    "torch.cuda.empty_cache()\n",
    "\n",
    "directory = save_dir\n",
    "checkpoint = torch.load(directory)\n",
    "transformer = checkpoint['transformer']"
   ]
  },
  {
   "cell_type": "code",
   "execution_count": 32,
   "metadata": {},
   "outputs": [
    {
     "name": "stdout",
     "output_type": "stream",
     "text": [
      "tensor([[62, 29]], device='cuda:0')\n",
      "tensor([[[[True, True]]]], device='cuda:0')\n",
      "tensor([[[ 0.6159, -0.3050, -0.9642,  ..., -0.6129,  1.0539,  0.1198],\n",
      "         [ 1.1908, -0.5067, -0.0990,  ..., -0.7826,  0.6089,  0.9292]]],\n",
      "       device='cuda:0', grad_fn=<NativeLayerNormBackward0>)\n"
     ]
    }
   ],
   "source": [
    "question = \"visi filkom\" \n",
    "max_len = 50\n",
    "enc_qus = [word_map.get(word, word_map['<unk>']) for word in question.split()]\n",
    "question = torch.LongTensor(enc_qus).to(device).unsqueeze(0)\n",
    "print(question)\n",
    "question_mask = (question!=0).to(device).unsqueeze(1).unsqueeze(1)  \n",
    "print(question_mask)\n",
    "encoded = transformer.encode(question, question_mask)\n",
    "print(encoded)"
   ]
  },
  {
   "cell_type": "code",
   "execution_count": 39,
   "metadata": {},
   "outputs": [
    {
     "data": {
      "text/plain": [
       "torch.Size([1, 2])"
      ]
     },
     "execution_count": 39,
     "metadata": {},
     "output_type": "execute_result"
    }
   ],
   "source": [
    "question.size()"
   ]
  },
  {
   "cell_type": "code",
   "execution_count": 40,
   "metadata": {},
   "outputs": [
    {
     "data": {
      "text/plain": [
       "torch.Size([1, 2, 512])"
      ]
     },
     "execution_count": 40,
     "metadata": {},
     "output_type": "execute_result"
    }
   ],
   "source": [
    "encoded.size()"
   ]
  },
  {
   "cell_type": "code",
   "execution_count": 68,
   "metadata": {},
   "outputs": [
    {
     "name": "stdout",
     "output_type": "stream",
     "text": [
      "menjadi fakultas yang berdaya saing internasional dan berkontribusi kepada pengembangan teknologi informasi dan ilmu komputer untuk menunjang industri dan pengabdian kepada masyarakat\n"
     ]
    }
   ],
   "source": [
    "question = \"apakah visi filkom\" \n",
    "max_len = 50\n",
    "enc_qus = [word_map.get(word, word_map['<unk>']) for word in question.split()]\n",
    "question = torch.LongTensor(enc_qus).to(device).unsqueeze(0)\n",
    "question_mask = (question!=0).to(device).unsqueeze(1).unsqueeze(1)  \n",
    "sentence = evaluate(transformer, question, question_mask, int(max_len), word_map)\n",
    "print(sentence)"
   ]
  },
  {
   "cell_type": "code",
   "execution_count": 70,
   "metadata": {},
   "outputs": [
    {
     "name": "stdout",
     "output_type": "stream",
     "text": [
      "menyelenggarakan pendidikan di bidang teknologi informasi dan ilmu komputer yang berkualitas dan berstandar internasional secara berkelanjutan meningkatkan kemampuan sivitas akademika dalam pengembangan penelitian dan pengabdian kepada masyarakat dalam skala nasional dan pengabdian kepada masyarakat dalam pengembangan penelitian dan pengabdian kepada masyarakat dalam pengembangan penelitian dan pengabdian kepada masyarakat dalam\n"
     ]
    }
   ],
   "source": [
    "question = \"misi filkom\" \n",
    "max_len = 50\n",
    "enc_qus = [word_map.get(word, word_map['<unk>']) for word in question.split()]\n",
    "question = torch.LongTensor(enc_qus).to(device).unsqueeze(0)\n",
    "question_mask = (question!=0).to(device).unsqueeze(1).unsqueeze(1)  \n",
    "sentence = evaluate(transformer, question, question_mask, int(max_len), word_map)\n",
    "print(sentence)"
   ]
  },
  {
   "cell_type": "code",
   "execution_count": 72,
   "metadata": {},
   "outputs": [
    {
     "name": "stdout",
     "output_type": "stream",
     "text": [
      "[202, 9, 223, 31]\n",
      "issa arwani skom msc\n"
     ]
    }
   ],
   "source": [
    "question = \"ketua departemen sistem informasi\" \n",
    "max_len = 50\n",
    "enc_qus = [word_map.get(word, word_map['<unk>']) for word in question.split()]\n",
    "print(enc_qus)\n",
    "question = torch.LongTensor(enc_qus).to(device).unsqueeze(0)\n",
    "question_mask = (question!=0).to(device).unsqueeze(1).unsqueeze(1)  \n",
    "sentence = evaluate(transformer, question, question_mask, int(max_len), word_map)\n",
    "print(sentence)"
   ]
  },
  {
   "cell_type": "code",
   "execution_count": 74,
   "metadata": {},
   "outputs": [
    {
     "name": "stdout",
     "output_type": "stream",
     "text": [
      "[206, 9, 844]\n",
      "s teknik informatika\n"
     ]
    }
   ],
   "source": [
    "question = \"sekretaris departemen si\" \n",
    "max_len = 50\n",
    "enc_qus = [word_map.get(word, word_map['<unk>']) for word in question.split()]\n",
    "print(enc_qus)\n",
    "question = torch.LongTensor(enc_qus).to(device).unsqueeze(0)\n",
    "question_mask = (question!=0).to(device).unsqueeze(1).unsqueeze(1)  \n",
    "sentence = evaluate(transformer, question, question_mask, int(max_len), word_map)\n",
    "print(sentence)"
   ]
  },
  {
   "cell_type": "code",
   "execution_count": 75,
   "metadata": {},
   "outputs": [
    {
     "name": "stdout",
     "output_type": "stream",
     "text": [
      "[202, 12, 13, 211, 15, 16]\n",
      "sabriansyah rizqika akbar st meng phd\n"
     ]
    }
   ],
   "source": [
    "question = \"ketua program studi magister ilmu komputer\" \n",
    "max_len = 50\n",
    "enc_qus = [word_map.get(word, word_map['<unk>']) for word in question.split()]\n",
    "print(enc_qus)\n",
    "question = torch.LongTensor(enc_qus).to(device).unsqueeze(0)\n",
    "question_mask = (question!=0).to(device).unsqueeze(1).unsqueeze(1)  \n",
    "sentence = evaluate(transformer, question, question_mask, int(max_len), word_map)\n",
    "print(sentence)"
   ]
  },
  {
   "cell_type": "code",
   "execution_count": 77,
   "metadata": {},
   "outputs": [
    {
     "name": "stdout",
     "output_type": "stream",
     "text": [
      "menjadi fakultas yang berdaya saing internasional dan berkontribusi kepada pengembangan teknologi informasi dan ilmu komputer untuk menunjang industri dan pengabdian kepada pengembangan teknologi informasi dan pengabdian kepada pengembangan teknologi informasi dan pengabdian kepada pengembangan teknologi informasi dan pengabdian kepada pengembangan teknologi informasi dan pengabdian kepada pengembangan teknologi informasi dan\n"
     ]
    }
   ],
   "source": [
    "question = \"visi filkom ub\" \n",
    "max_len = 50\n",
    "enc_qus = [word_map.get(word, word_map['<unk>']) for word in question.split()]\n",
    "question = torch.LongTensor(enc_qus).to(device).unsqueeze(0)\n",
    "question_mask = (question!=0).to(device).unsqueeze(1).unsqueeze(1)  \n",
    "sentence = evaluate(transformer, question, question_mask, int(max_len), word_map)\n",
    "print(sentence)"
   ]
  },
  {
   "cell_type": "code",
   "execution_count": 103,
   "metadata": {},
   "outputs": [
    {
     "name": "stdout",
     "output_type": "stream",
     "text": [
      "prof ir wayan firdaus mahmudy ssi mt phd\n"
     ]
    }
   ],
   "source": [
    "question = \"apakah visi fakultas ilmu\" \n",
    "max_len = 50\n",
    "enc_qus = [word_map.get(word, word_map['<unk>']) for word in question.split()]\n",
    "question = torch.LongTensor(enc_qus).to(device).unsqueeze(0)\n",
    "question_mask = (question!=0).to(device).unsqueeze(1).unsqueeze(1)  \n",
    "sentence = evaluate(transformer, question, question_mask, int(max_len), word_map)\n",
    "print(sentence)"
   ]
  },
  {
   "cell_type": "code",
   "execution_count": 74,
   "metadata": {},
   "outputs": [
    {
     "name": "stdout",
     "output_type": "stream",
     "text": [
      "menyelenggarakan pendidikan di bidang teknologi informasi dan ilmu komputer yang berkualitas dan berstandar internasional secara berkelanjutan meningkatkan kemampuan sivitas akademika dalam pengembangan penelitian dan pengabdian yang selaras dengan kebutuhan industri dan pengabdian yang selaras dengan tatakelola organisasi yang berkelanjutan di bidang pendidikan penelitian dan pengabdian yang berkelanjutan di bidang\n"
     ]
    }
   ],
   "source": [
    "question = \"misi fakultas\" \n",
    "max_len = 50\n",
    "enc_qus = [word_map.get(word, word_map['<unk>']) for word in question.split()]\n",
    "question = torch.LongTensor(enc_qus).to(device).unsqueeze(0)\n",
    "question_mask = (question!=0).to(device).unsqueeze(1).unsqueeze(1)  \n",
    "sentence = evaluate(transformer, question, question_mask, int(max_len), word_map)\n",
    "print(sentence)"
   ]
  },
  {
   "cell_type": "code",
   "execution_count": 80,
   "metadata": {},
   "outputs": [
    {
     "name": "stdout",
     "output_type": "stream",
     "text": [
      "oktober\n"
     ]
    }
   ],
   "source": [
    "question = \"tanggal dibentuk\" \n",
    "max_len = 50\n",
    "enc_qus = [word_map.get(word, word_map['<unk>']) for word in question.split()]\n",
    "question = torch.LongTensor(enc_qus).to(device).unsqueeze(0)\n",
    "question_mask = (question!=0).to(device).unsqueeze(1).unsqueeze(1)  \n",
    "sentence = evaluate(transformer, question, question_mask, int(max_len), word_map)\n",
    "print(sentence)"
   ]
  },
  {
   "cell_type": "code",
   "execution_count": 81,
   "metadata": {},
   "outputs": [
    {
     "name": "stdout",
     "output_type": "stream",
     "text": [
      "wiwin lukitohadi spsi prasetyo iskandar st mt phd\n"
     ]
    }
   ],
   "source": [
    "question = \"konselor filkom\" \n",
    "max_len = 50\n",
    "enc_qus = [word_map.get(word, word_map['<unk>']) for word in question.split()]\n",
    "question = torch.LongTensor(enc_qus).to(device).unsqueeze(0)\n",
    "question_mask = (question!=0).to(device).unsqueeze(1).unsqueeze(1)  \n",
    "sentence = evaluate(transformer, question, question_mask, int(max_len), word_map)\n",
    "print(sentence)"
   ]
  },
  {
   "cell_type": "code",
   "execution_count": 83,
   "metadata": {},
   "outputs": [
    {
     "name": "stdout",
     "output_type": "stream",
     "text": [
      "informasi alumni dapat diakses pada link berikut httpsfilkomubacidkemahasiswaaninfoalumni\n"
     ]
    }
   ],
   "source": [
    "question = \"saya butuh informasi alumni\" \n",
    "max_len = 50\n",
    "enc_qus = [word_map.get(word, word_map['<unk>']) for word in question.split()]\n",
    "question = torch.LongTensor(enc_qus).to(device).unsqueeze(0)\n",
    "question_mask = (question!=0).to(device).unsqueeze(1).unsqueeze(1)  \n",
    "sentence = evaluate(transformer, question, question_mask, int(max_len), word_map)\n",
    "print(sentence)"
   ]
  },
  {
   "cell_type": "code",
   "execution_count": 85,
   "metadata": {},
   "outputs": [
    {
     "name": "stdout",
     "output_type": "stream",
     "text": [
      "menghasilkan lulusan yang kompeten profesional berbudi pekerti luhur berjiwa entrepreneur dan berdaya saing internasional menghasilkan sivitas akademika yang berorientasi pada pembaruan dan masyarakat yang berdaya saing internasional menghasilkan sivitas akademika yang berdaya saing internasional menghasilkan sivitas akademika yang berdaya saing internasional menghasilkan sivitas akademika yang berdaya saing internasional menghasilkan\n"
     ]
    }
   ],
   "source": [
    "question = \"tujuan filkom\" \n",
    "max_len = 50\n",
    "enc_qus = [word_map.get(word, word_map['<unk>']) for word in question.split()]\n",
    "question = torch.LongTensor(enc_qus).to(device).unsqueeze(0)\n",
    "question_mask = (question!=0).to(device).unsqueeze(1).unsqueeze(1)  \n",
    "sentence = evaluate(transformer, question, question_mask, int(max_len), word_map)\n",
    "print(sentence)"
   ]
  },
  {
   "cell_type": "code",
   "execution_count": 87,
   "metadata": {},
   "outputs": [
    {
     "name": "stdout",
     "output_type": "stream",
     "text": [
      "meningkatkan kompetensi dan kualifikasi pendidikan dosen meningkatkan sarana dan prasarana pembelajaran mengembangkan kurikulum mengkuti perkembangan dan kebutuhan pemangku kepentingan meningkatkan sarana dan kebutuhan pemangku kepentingan meningkatkan sarana dan kebutuhan pemangku kepentingan meningkatkan sarana dan kebutuhan pemangku kepentingan meningkatkan sarana dan kebutuhan pemangku kepentingan meningkatkan sarana dan kebutuhan pemangku kepentingan\n"
     ]
    }
   ],
   "source": [
    "question = \"sasaran pendidikan filkom\" \n",
    "max_len = 50\n",
    "enc_qus = [word_map.get(word, word_map['<unk>']) for word in question.split()]\n",
    "question = torch.LongTensor(enc_qus).to(device).unsqueeze(0)\n",
    "question_mask = (question!=0).to(device).unsqueeze(1).unsqueeze(1)  \n",
    "sentence = evaluate(transformer, question, question_mask, int(max_len), word_map)\n",
    "print(sentence)"
   ]
  },
  {
   "cell_type": "code",
   "execution_count": 82,
   "metadata": {},
   "outputs": [
    {
     "name": "stdout",
     "output_type": "stream",
     "text": [
      "\n",
      "tensor([[ 0,  0,  0,  0,  0,  0,  0,  0, 62, 29]], device='cuda:0')\n",
      "tensor([[[[False, False, False, False, False, False, False, False,  True,  True]]]],\n",
      "       device='cuda:0')\n",
      "tensor([[[-0.0210, -1.4425, -1.5541,  ...,  0.5792, -0.3571,  0.1604],\n",
      "         [-0.0109, -1.4484, -1.5444,  ...,  0.5792, -0.3574,  0.1601],\n",
      "         [-0.0099, -1.4600, -1.5437,  ...,  0.5792, -0.3572,  0.1599],\n",
      "         ...,\n",
      "         [-0.0131, -1.4453, -1.5464,  ...,  0.5797, -0.3567,  0.1602],\n",
      "         [-1.3773,  0.0873, -1.7631,  ..., -1.3856, -1.0629,  0.2968],\n",
      "         [-0.1818, -0.2244,  1.5794,  ..., -0.2919, -0.5273,  1.3134]]],\n",
      "       device='cuda:0', grad_fn=<NativeLayerNormBackward0>)\n",
      "\n",
      "tensor([[   0,    0,    0,    0,    0,    0,    0, 2546,   62,   29]],\n",
      "       device='cuda:0')\n",
      "tensor([[[[False, False, False, False, False, False, False,  True,  True,  True]]]],\n",
      "       device='cuda:0')\n",
      "tensor([[[ 0.8684, -1.5382, -1.1784,  ...,  0.3129,  0.2648, -0.2526],\n",
      "         [ 0.8322, -1.4962, -1.2178,  ...,  0.3413,  0.2255, -0.2379],\n",
      "         [ 0.5334, -1.1792, -1.4425,  ...,  0.5213,  0.0079, -0.1859],\n",
      "         ...,\n",
      "         [ 0.3538, -1.3309,  0.0176,  ..., -0.6950,  0.0601,  0.4056],\n",
      "         [-1.2756, -0.2533, -2.0492,  ..., -2.1603, -0.2899, -0.0820],\n",
      "         [ 0.2590, -0.0989,  1.7050,  ...,  0.0184, -0.3413,  1.0072]]],\n",
      "       device='cuda:0', grad_fn=<NativeLayerNormBackward0>)\n",
      "\n",
      "tensor([[ 0,  0,  0,  0,  0,  0,  0,  0, 79, 29]], device='cuda:0')\n",
      "tensor([[[[False, False, False, False, False, False, False, False,  True,  True]]]],\n",
      "       device='cuda:0')\n",
      "tensor([[[ 0.7296, -0.8148, -1.0830,  ...,  1.4099,  0.5622,  0.0843],\n",
      "         [ 0.7383, -0.8199, -1.0744,  ...,  1.4096,  0.5620,  0.0843],\n",
      "         [ 0.7390, -0.8301, -1.0736,  ...,  1.4095,  0.5621,  0.0845],\n",
      "         ...,\n",
      "         [ 0.6216, -1.0369, -1.2433,  ...,  1.1923,  0.2950, -0.0330],\n",
      "         [-0.8870,  0.5626, -0.6908,  ..., -0.2164, -0.5580, -0.7957],\n",
      "         [ 0.0695, -0.0725,  1.3631,  ..., -1.0353, -0.6049,  0.0964]]],\n",
      "       device='cuda:0', grad_fn=<NativeLayerNormBackward0>)\n",
      "\n",
      "tensor([[   0,    0,    0,    0,    0,    0,    0, 2546,   79,   29]],\n",
      "       device='cuda:0')\n",
      "tensor([[[[False, False, False, False, False, False, False,  True,  True,  True]]]],\n",
      "       device='cuda:0')\n",
      "tensor([[[ 1.1358, -0.7084, -0.9287,  ...,  1.7955,  0.9542,  0.2644],\n",
      "         [ 1.1453, -0.7138, -0.9194,  ...,  1.7956,  0.9539,  0.2644],\n",
      "         [ 1.1461, -0.7250, -0.9187,  ...,  1.7959,  0.9538,  0.2646],\n",
      "         ...,\n",
      "         [ 0.4781, -0.8332,  0.7150,  ..., -1.0942,  0.0150, -0.3869],\n",
      "         [-1.4233,  0.4938, -1.1733,  ..., -0.4335, -0.4615, -0.4974],\n",
      "         [ 0.5426, -0.2123,  1.2203,  ..., -0.7187, -0.5314,  0.3341]]],\n",
      "       device='cuda:0', grad_fn=<NativeLayerNormBackward0>)\n",
      "\n",
      "tensor([[  0,   0,   0,   0,   0, 104, 105,  77,  81,  29]], device='cuda:0')\n",
      "tensor([[[[False, False, False, False, False,  True,  True,  True,  True,  True]]]],\n",
      "       device='cuda:0')\n",
      "tensor([[[ 0.3693, -1.9869, -1.3178,  ...,  1.0914, -1.1232, -1.0078],\n",
      "         [ 0.3780, -1.9918, -1.3093,  ...,  1.0912, -1.1239, -1.0082],\n",
      "         [ 0.3787, -2.0021, -1.3088,  ...,  1.0913, -1.1241, -1.0084],\n",
      "         ...,\n",
      "         [-0.3056, -0.9224,  0.9782,  ...,  0.1045, -1.0143,  0.2122],\n",
      "         [-0.6984, -0.0638,  0.5014,  ...,  0.9366, -1.2456,  0.1767],\n",
      "         [ 1.1449, -0.7185,  1.2923,  ...,  0.1062, -0.9777,  0.5880]]],\n",
      "       device='cuda:0', grad_fn=<NativeLayerNormBackward0>)\n",
      "\n",
      "tensor([[  0,   0,   0,   0,   0,   0,   0, 105,  77,  29]], device='cuda:0')\n",
      "tensor([[[[False, False, False, False, False, False, False,  True,  True,  True]]]],\n",
      "       device='cuda:0')\n",
      "tensor([[[ 0.1118, -1.7063, -1.1736,  ...,  1.1226, -1.2293, -0.0926],\n",
      "         [ 0.1200, -1.7109, -1.1654,  ...,  1.1225, -1.2298, -0.0929],\n",
      "         [ 0.1205, -1.7206, -1.1650,  ...,  1.1227, -1.2300, -0.0930],\n",
      "         ...,\n",
      "         [ 0.6966, -0.5614, -1.6369,  ..., -0.5432, -0.8879,  0.0920],\n",
      "         [-0.3024, -0.9314,  0.9825,  ...,  0.1045, -1.0138,  0.2125],\n",
      "         [ 1.1185, -0.4881,  1.1324,  ...,  0.0362, -0.8084,  0.4225]]],\n",
      "       device='cuda:0', grad_fn=<NativeLayerNormBackward0>)\n",
      "\n",
      "tensor([[   0,    0,    0,    0,    0,    0,    0, 2529,  171,   29]],\n",
      "       device='cuda:0')\n",
      "tensor([[[[False, False, False, False, False, False, False,  True,  True,  True]]]],\n",
      "       device='cuda:0')\n",
      "tensor([[[ 0.3758, -1.2325, -1.8158,  ...,  0.8807, -0.8698,  0.2190],\n",
      "         [ 0.3870, -1.2389, -1.8049,  ...,  0.8804, -0.8702,  0.2188],\n",
      "         [ 0.3881, -1.2517, -1.8038,  ...,  0.8803, -0.8703,  0.2190],\n",
      "         ...,\n",
      "         [-1.5290, -1.1721,  0.1989,  ..., -2.2435,  1.1281,  0.3913],\n",
      "         [-1.4599, -0.6551, -0.7919,  ...,  0.4859, -0.4659,  0.7329],\n",
      "         [ 0.3694,  0.0041,  1.4515,  ..., -0.4422, -0.0752,  0.8054]]],\n",
      "       device='cuda:0', grad_fn=<NativeLayerNormBackward0>)\n",
      "\n",
      "tensor([[   0,    0,    0,    0, 2529,  273,   12,   13,  223,   31]],\n",
      "       device='cuda:0')\n",
      "tensor([[[[False, False, False, False,  True,  True,  True,  True,  True,  True]]]],\n",
      "       device='cuda:0')\n",
      "tensor([[[ 1.1715, -0.7217, -1.6568,  ...,  0.3906,  0.1942,  0.3038],\n",
      "         [ 1.1822, -0.7278, -1.6463,  ...,  0.3903,  0.1935,  0.3035],\n",
      "         [ 1.1830, -0.7403, -1.6456,  ...,  0.3902,  0.1935,  0.3034],\n",
      "         ...,\n",
      "         [ 0.2072,  1.0720, -0.1556,  ..., -0.5972, -0.3047,  0.7004],\n",
      "         [ 1.5344,  0.6324, -0.4935,  ..., -0.6496,  1.0257,  0.0113],\n",
      "         [ 0.7715,  0.9892,  0.4277,  ..., -1.3592, -1.3548, -0.1491]]],\n",
      "       device='cuda:0', grad_fn=<NativeLayerNormBackward0>)\n",
      "\n",
      "tensor([[   0,    0,    0,    0,    0,    0, 2529, 2546,  223,   31]],\n",
      "       device='cuda:0')\n",
      "tensor([[[[False, False, False, False, False, False,  True,  True,  True,  True]]]],\n",
      "       device='cuda:0')\n",
      "tensor([[[ 1.8763, -0.4662, -1.9506,  ...,  1.5316,  0.4753,  0.0419],\n",
      "         [ 1.8870, -0.4720, -1.9403,  ...,  1.5316,  0.4749,  0.0417],\n",
      "         [ 1.8881, -0.4840, -1.9394,  ...,  1.5319,  0.4748,  0.0416],\n",
      "         ...,\n",
      "         [ 0.6613, -0.0091,  0.3424,  ..., -0.2732,  0.5128,  0.9503],\n",
      "         [ 1.8465,  0.6955, -0.9188,  ..., -0.0382,  0.9276,  0.0233],\n",
      "         [ 0.4020,  0.5665,  0.5089,  ..., -1.4602, -0.7492, -0.2799]]],\n",
      "       device='cuda:0', grad_fn=<NativeLayerNormBackward0>)\n"
     ]
    }
   ],
   "source": [
    "encoded_play = []\n",
    "\n",
    "words = [\n",
    "    \"visi filkom\",\n",
    "    \"apakah visi filkom\",\n",
    "    \"misi filkom\",\n",
    "    \"apakah misi filkom\",\n",
    "    \"apa tujuan pendidikan di filkom\",\n",
    "    \"tujuan pendidikan filkom\",\n",
    "    \"siapa dekan filkom\",\n",
    "    \"siapa kepala program studi sistem informasi\",\n",
    "    \"siapa kaprodi sistem informasi\",\n",
    "    ]\n",
    "\n",
    "labels_words = [\n",
    "    \"visi_1\",\n",
    "    \"visi_2\",\n",
    "    \"misi_1\",\n",
    "    \"misi_2\",\n",
    "    \"tujuan_pendidikan_1\",\n",
    "    \"tujuan_pendidikan_2\",\n",
    "    \"dekan_1\",\n",
    "    \"kp_si_1\",\n",
    "    \"kp_si_2\",\n",
    "    ]\n",
    "\n",
    "for i in range(len(words)):\n",
    "    words[i] = words[i].lower()\n",
    "    question = words[i] \n",
    "    max_len = 50\n",
    "    enc_qus = [word_map.get(word, word_map['<unk>']) for word in question.split()]\n",
    "    if len(enc_qus) < 10:\n",
    "        left_pad = [word_map['<pad>']] * (10 - len(enc_qus))\n",
    "        enc_qus = left_pad + enc_qus\n",
    "    question = torch.LongTensor(enc_qus).to(device).unsqueeze(0)\n",
    "    print()\n",
    "    print(question)\n",
    "    question_mask = (question!=0).to(device).unsqueeze(1).unsqueeze(1)  \n",
    "    print(question_mask)\n",
    "    encoded = transformer.encode(question, question_mask)\n",
    "    print(encoded)\n",
    "    encoded = encoded.detach().cpu().numpy()\n",
    "    if encoded.shape[0] > 1:\n",
    "        concetaned_encoded = np.concatenate(encoded, axis=0)\n",
    "        encoded = concetaned_encoded\n",
    "    encoded_play.append(encoded[0].flatten())\n"
   ]
  },
  {
   "cell_type": "code",
   "execution_count": 83,
   "metadata": {},
   "outputs": [
    {
     "data": {
      "image/png": "[encoded data removed]",
      "text/plain": [
       "<Figure size 720x720 with 1 Axes>"
      ]
     },
     "metadata": {
      "needs_background": "light"
     },
     "output_type": "display_data"
    }
   ],
   "source": [
    "pca = PCA(n_components=2)\n",
    "encoded_play_pca = pca.fit_transform(encoded_play)\n",
    "\n",
    "plt.figure(figsize=(10,10))\n",
    "plt.scatter(encoded_play_pca[:,0], encoded_play_pca[:,1], s=100)\n",
    "for i, txt in enumerate(labels_words):\n",
    "    plt.annotate(txt, (encoded_play_pca[i,0], encoded_play_pca[i,1]))"
   ]
  },
  {
   "cell_type": "code",
   "execution_count": 102,
   "metadata": {},
   "outputs": [
    {
     "data": {
      "image/png": "[encoded data removed]",
      "text/plain": [
       "<Figure size 720x720 with 1 Axes>"
      ]
     },
     "metadata": {
      "needs_background": "light"
     },
     "output_type": "display_data"
    }
   ],
   "source": [
    "pca = PCA(n_components=2)\n",
    "encoded_play_pca = pca.fit_transform(encoded_play)\n",
    "\n",
    "plt.figure(figsize=(10,10))\n",
    "plt.scatter(encoded_play_pca[:,0], encoded_play_pca[:,1], s=100)\n",
    "for i, txt in enumerate(labels_words):\n",
    "    plt.annotate(txt, (encoded_play_pca[i,0], encoded_play_pca[i,1]))"
   ]
  },
  {
   "cell_type": "markdown",
   "metadata": {},
   "source": [
    "# Reset Cache"
   ]
  },
  {
   "cell_type": "code",
   "execution_count": null,
   "metadata": {},
   "outputs": [],
   "source": [
    "import torch\n",
    "\n",
    "torch.cuda.empty_cache()\n",
    "\n",
    "print(torch.cuda.memory_summary(device=None, abbreviated=False))"
   ]
  }
 ],
 "metadata": {
  "kaggle": {
   "accelerator": "gpu",
   "dataSources": [],
   "dockerImageVersionId": 30733,
   "isGpuEnabled": true,
   "isInternetEnabled": true,
   "language": "python",
   "sourceType": "notebook"
  },
  "kernelspec": {
   "display_name": "base",
   "language": "python",
   "name": "base"
  }
 },
 "nbformat": 4,
 "nbformat_minor": 4
}
