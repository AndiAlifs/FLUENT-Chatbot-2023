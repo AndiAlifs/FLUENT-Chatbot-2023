{
 "cells": [
  {
   "cell_type": "code",
   "execution_count": null,
   "metadata": {},
   "outputs": [],
   "source": [
    "import jwt"
   ]
  },
  {
   "cell_type": "code",
   "execution_count": 10,
   "metadata": {},
   "outputs": [],
   "source": [
    "def ordered(obj):\n",
    "  if isinstance(obj, dict):\n",
    "    return sorted((k, ordered(v)) for k, v in obj.items())\n",
    "  if isinstance(obj, list):\n",
    "    return sorted(ordered(x) for x in obj)\n",
    "  else:\n",
    "    return obj"
   ]
  },
  {
   "cell_type": "code",
   "execution_count": 26,
   "metadata": {},
   "outputs": [],
   "source": [
    "payload = {\n",
    "    \"client_ip\": \"10.17.71.222\",\n",
    "    \"enc_pin\": \"ad7c437ef3cc410582a0a7f19a3364cf044dd07a\",\n",
    "    \"processing_code\": \"QRP\",\n",
    "    \"sign\":\"yJhbGciOiJIUzI1NiIsInR5cCI6IkpXVCJ9.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.r-rZLkgffieY7rv8b1ZomkUwwnrY4zEU0XxKhHV0Egc\",\n",
    "    \"description\": \"\",\n",
    "    \"acq_bank\": \"502995\",\n",
    "    \"transmission_date_time\": \"20241126192459\",\n",
    "    \"is_card_based\": \"F\",\n",
    "    \"system_trace_audit\": \"ab2124\",\n",
    "    \"stan\": \"ab2124\",\n",
    "    \"pos_terminal_type\": \"3001\",\n",
    "    \"client_id\": \"sprappa2a1\",\n",
    "    \"terminal_id\": \"00100010\",\n",
    "    \"iso_mti\": \"0200\",\n",
    "    \"flow_name\": \"qr\",\n",
    "    \"id_message\": \"1126192458949115\",\n",
    "    \"account_no\": \"0160699138\",\n",
    "    \"qr\": \"00020101021226770025ID.CO.BIMAQRIS.BANKJATENG011893600113000000027402150000000000002740303UMI51440014ID.CO.QRIS.WWW0215ID10232899479710303UMI520458145303360540125802ID5907BOOEBOO6013KOTA SEMARANG6105502426222051820241125174940226163046194\",\n",
    "    \"network_id\": \"25\",\n",
    "    \"trx_type\": \"QRP\",\n",
    "    \"add_data\": \"\",\n",
    "    \"trx_date_time\": \"20241126192433\",\n",
    "    \"trans_date_time\": \"20241126192459\",\n",
    "    \"qr_data\": {\n",
    "        \"additional_field\": \"0518202411251749402261\",\n",
    "        \"msg_id\": None,\n",
    "        \"fee_percent\": 0,\n",
    "        \"currency\": None,\n",
    "        \"merchant_type\": None,\n",
    "        \"dest_bank_name\": \"BANK JATENG\",\n",
    "        \"postal_code\": \"50242\",\n",
    "        \"acquirer_id\": None,\n",
    "        \"country_code\": \"ID\",\n",
    "        \"merchant_category\": \"5814\",\n",
    "        \"settlement_rate\": None,\n",
    "        \"account_no\": \"0160699138\",\n",
    "        \"merchant_criteria\": \"UMI\",\n",
    "        \"settlement_amount\": None,\n",
    "        \"customer_data\": \"AUSTRA ASTASADYA RAMADHAN     \",\n",
    "        \"reverse_domain_name\": \"ID.CO.BIMAQRIS.BANKJATENG\",\n",
    "        \"pan\": \"9360011300000002741\",\n",
    "        \"merchant_name\": \"BOOEBOO\",\n",
    "        \"terminal_id\": None,\n",
    "        \"merchant_city\": \"KOTA SEMARANG\",\n",
    "        \"merchant_id\": \"000000000000274\",\n",
    "        \"cardholder_amount\": 0,\n",
    "        \"terminal_label\": \"000000000000274\",\n",
    "        \"qr\": None,\n",
    "        \"destination_amount\": 0,\n",
    "        \"fee_amount\": 0,\n",
    "        \"amount\": 2.0,\n",
    "        \"cardholder_rate\": 0,\n",
    "        \"fee_indicator\": \"00\",\n",
    "        \"currency_code\": \"360\"\n",
    "    },\n",
    "    \"channel_code\": \"25\",\n",
    "    \"message_id\": \"1126192458949116\"\n",
    "}\n",
    "\n"
   ]
  },
  {
   "cell_type": "code",
   "execution_count": 27,
   "metadata": {},
   "outputs": [],
   "source": [
    "sign = payload.pop(\"sign\")"
   ]
  },
  {
   "cell_type": "code",
   "execution_count": null,
   "metadata": {},
   "outputs": [
    {
     "ename": "DecodeError",
     "evalue": "Invalid header string: 'utf-8' codec can't decode byte 0x88 in position 6: invalid start byte",
     "output_type": "error",
     "traceback": [
      "\u001b[0;31m---------------------------------------------------------------------------\u001b[0m",
      "\u001b[0;31mUnicodeDecodeError\u001b[0m                        Traceback (most recent call last)",
      "File \u001b[0;32m/opt/conda/lib/python3.10/site-packages/jwt/api_jws.py:269\u001b[0m, in \u001b[0;36mPyJWS._load\u001b[0;34m(self, jwt)\u001b[0m\n\u001b[1;32m    268\u001b[0m \u001b[38;5;28;01mtry\u001b[39;00m:\n\u001b[0;32m--> 269\u001b[0m     header \u001b[38;5;241m=\u001b[39m \u001b[43mjson\u001b[49m\u001b[38;5;241;43m.\u001b[39;49m\u001b[43mloads\u001b[49m\u001b[43m(\u001b[49m\u001b[43mheader_data\u001b[49m\u001b[43m)\u001b[49m\n\u001b[1;32m    270\u001b[0m \u001b[38;5;28;01mexcept\u001b[39;00m \u001b[38;5;167;01mValueError\u001b[39;00m \u001b[38;5;28;01mas\u001b[39;00m e:\n",
      "File \u001b[0;32m/opt/conda/lib/python3.10/json/__init__.py:341\u001b[0m, in \u001b[0;36mloads\u001b[0;34m(s, cls, object_hook, parse_float, parse_int, parse_constant, object_pairs_hook, **kw)\u001b[0m\n\u001b[1;32m    339\u001b[0m         \u001b[38;5;28;01mraise\u001b[39;00m \u001b[38;5;167;01mTypeError\u001b[39;00m(\u001b[38;5;124mf\u001b[39m\u001b[38;5;124m'\u001b[39m\u001b[38;5;124mthe JSON object must be str, bytes or bytearray, \u001b[39m\u001b[38;5;124m'\u001b[39m\n\u001b[1;32m    340\u001b[0m                         \u001b[38;5;124mf\u001b[39m\u001b[38;5;124m'\u001b[39m\u001b[38;5;124mnot \u001b[39m\u001b[38;5;132;01m{\u001b[39;00ms\u001b[38;5;241m.\u001b[39m\u001b[38;5;18m__class__\u001b[39m\u001b[38;5;241m.\u001b[39m\u001b[38;5;18m__name__\u001b[39m\u001b[38;5;132;01m}\u001b[39;00m\u001b[38;5;124m'\u001b[39m)\n\u001b[0;32m--> 341\u001b[0m     s \u001b[38;5;241m=\u001b[39m \u001b[43ms\u001b[49m\u001b[38;5;241;43m.\u001b[39;49m\u001b[43mdecode\u001b[49m\u001b[43m(\u001b[49m\u001b[43mdetect_encoding\u001b[49m\u001b[43m(\u001b[49m\u001b[43ms\u001b[49m\u001b[43m)\u001b[49m\u001b[43m,\u001b[49m\u001b[43m \u001b[49m\u001b[38;5;124;43m'\u001b[39;49m\u001b[38;5;124;43msurrogatepass\u001b[39;49m\u001b[38;5;124;43m'\u001b[39;49m\u001b[43m)\u001b[49m\n\u001b[1;32m    343\u001b[0m \u001b[38;5;28;01mif\u001b[39;00m (\u001b[38;5;28mcls\u001b[39m \u001b[38;5;129;01mis\u001b[39;00m \u001b[38;5;28;01mNone\u001b[39;00m \u001b[38;5;129;01mand\u001b[39;00m object_hook \u001b[38;5;129;01mis\u001b[39;00m \u001b[38;5;28;01mNone\u001b[39;00m \u001b[38;5;129;01mand\u001b[39;00m\n\u001b[1;32m    344\u001b[0m         parse_int \u001b[38;5;129;01mis\u001b[39;00m \u001b[38;5;28;01mNone\u001b[39;00m \u001b[38;5;129;01mand\u001b[39;00m parse_float \u001b[38;5;129;01mis\u001b[39;00m \u001b[38;5;28;01mNone\u001b[39;00m \u001b[38;5;129;01mand\u001b[39;00m\n\u001b[1;32m    345\u001b[0m         parse_constant \u001b[38;5;129;01mis\u001b[39;00m \u001b[38;5;28;01mNone\u001b[39;00m \u001b[38;5;129;01mand\u001b[39;00m object_pairs_hook \u001b[38;5;129;01mis\u001b[39;00m \u001b[38;5;28;01mNone\u001b[39;00m \u001b[38;5;129;01mand\u001b[39;00m \u001b[38;5;129;01mnot\u001b[39;00m kw):\n",
      "\u001b[0;31mUnicodeDecodeError\u001b[0m: 'utf-8' codec can't decode byte 0x88 in position 6: invalid start byte",
      "\nThe above exception was the direct cause of the following exception:\n",
      "\u001b[0;31mDecodeError\u001b[0m                               Traceback (most recent call last)",
      "Input \u001b[0;32mIn [28]\u001b[0m, in \u001b[0;36m<cell line: 1>\u001b[0;34m()\u001b[0m\n\u001b[0;32m----> 1\u001b[0m jwt_decoded \u001b[38;5;241m=\u001b[39m \u001b[43mjwt\u001b[49m\u001b[38;5;241;43m.\u001b[39;49m\u001b[43mdecode\u001b[49m\u001b[43m(\u001b[49m\u001b[43msign\u001b[49m\u001b[43m,\u001b[49m\u001b[43m \u001b[49m\u001b[38;5;124;43m'\u001b[39;49m\u001b[38;5;124;43m56ce0410-6f2b-5fd4-bb08-64cda66e55a3\u001b[39;49m\u001b[38;5;124;43m'\u001b[39;49m\u001b[43m,\u001b[49m\u001b[43m \u001b[49m\u001b[43malgorithms\u001b[49m\u001b[38;5;241;43m=\u001b[39;49m\u001b[43m[\u001b[49m\u001b[38;5;124;43m'\u001b[39;49m\u001b[38;5;124;43mHS256\u001b[39;49m\u001b[38;5;124;43m'\u001b[39;49m\u001b[43m]\u001b[49m\u001b[43m)\u001b[49m\n",
      "File \u001b[0;32m/opt/conda/lib/python3.10/site-packages/jwt/api_jwt.py:211\u001b[0m, in \u001b[0;36mPyJWT.decode\u001b[0;34m(self, jwt, key, algorithms, options, verify, detached_payload, audience, issuer, leeway, **kwargs)\u001b[0m\n\u001b[1;32m    204\u001b[0m \u001b[38;5;28;01mif\u001b[39;00m kwargs:\n\u001b[1;32m    205\u001b[0m     warnings\u001b[38;5;241m.\u001b[39mwarn(\n\u001b[1;32m    206\u001b[0m         \u001b[38;5;124m\"\u001b[39m\u001b[38;5;124mpassing additional kwargs to decode() is deprecated \u001b[39m\u001b[38;5;124m\"\u001b[39m\n\u001b[1;32m    207\u001b[0m         \u001b[38;5;124m\"\u001b[39m\u001b[38;5;124mand will be removed in pyjwt version 3. \u001b[39m\u001b[38;5;124m\"\u001b[39m\n\u001b[1;32m    208\u001b[0m         \u001b[38;5;124mf\u001b[39m\u001b[38;5;124m\"\u001b[39m\u001b[38;5;124mUnsupported kwargs: \u001b[39m\u001b[38;5;132;01m{\u001b[39;00m\u001b[38;5;28mtuple\u001b[39m(kwargs\u001b[38;5;241m.\u001b[39mkeys())\u001b[38;5;132;01m}\u001b[39;00m\u001b[38;5;124m\"\u001b[39m,\n\u001b[1;32m    209\u001b[0m         RemovedInPyjwt3Warning,\n\u001b[1;32m    210\u001b[0m     )\n\u001b[0;32m--> 211\u001b[0m decoded \u001b[38;5;241m=\u001b[39m \u001b[38;5;28;43mself\u001b[39;49m\u001b[38;5;241;43m.\u001b[39;49m\u001b[43mdecode_complete\u001b[49m\u001b[43m(\u001b[49m\n\u001b[1;32m    212\u001b[0m \u001b[43m    \u001b[49m\u001b[43mjwt\u001b[49m\u001b[43m,\u001b[49m\n\u001b[1;32m    213\u001b[0m \u001b[43m    \u001b[49m\u001b[43mkey\u001b[49m\u001b[43m,\u001b[49m\n\u001b[1;32m    214\u001b[0m \u001b[43m    \u001b[49m\u001b[43malgorithms\u001b[49m\u001b[43m,\u001b[49m\n\u001b[1;32m    215\u001b[0m \u001b[43m    \u001b[49m\u001b[43moptions\u001b[49m\u001b[43m,\u001b[49m\n\u001b[1;32m    216\u001b[0m \u001b[43m    \u001b[49m\u001b[43mverify\u001b[49m\u001b[38;5;241;43m=\u001b[39;49m\u001b[43mverify\u001b[49m\u001b[43m,\u001b[49m\n\u001b[1;32m    217\u001b[0m \u001b[43m    \u001b[49m\u001b[43mdetached_payload\u001b[49m\u001b[38;5;241;43m=\u001b[39;49m\u001b[43mdetached_payload\u001b[49m\u001b[43m,\u001b[49m\n\u001b[1;32m    218\u001b[0m \u001b[43m    \u001b[49m\u001b[43maudience\u001b[49m\u001b[38;5;241;43m=\u001b[39;49m\u001b[43maudience\u001b[49m\u001b[43m,\u001b[49m\n\u001b[1;32m    219\u001b[0m \u001b[43m    \u001b[49m\u001b[43missuer\u001b[49m\u001b[38;5;241;43m=\u001b[39;49m\u001b[43missuer\u001b[49m\u001b[43m,\u001b[49m\n\u001b[1;32m    220\u001b[0m \u001b[43m    \u001b[49m\u001b[43mleeway\u001b[49m\u001b[38;5;241;43m=\u001b[39;49m\u001b[43mleeway\u001b[49m\u001b[43m,\u001b[49m\n\u001b[1;32m    221\u001b[0m \u001b[43m\u001b[49m\u001b[43m)\u001b[49m\n\u001b[1;32m    222\u001b[0m \u001b[38;5;28;01mreturn\u001b[39;00m decoded[\u001b[38;5;124m\"\u001b[39m\u001b[38;5;124mpayload\u001b[39m\u001b[38;5;124m\"\u001b[39m]\n",
      "File \u001b[0;32m/opt/conda/lib/python3.10/site-packages/jwt/api_jwt.py:152\u001b[0m, in \u001b[0;36mPyJWT.decode_complete\u001b[0;34m(self, jwt, key, algorithms, options, verify, detached_payload, audience, issuer, leeway, **kwargs)\u001b[0m\n\u001b[1;32m    147\u001b[0m \u001b[38;5;28;01mif\u001b[39;00m options[\u001b[38;5;124m\"\u001b[39m\u001b[38;5;124mverify_signature\u001b[39m\u001b[38;5;124m\"\u001b[39m] \u001b[38;5;129;01mand\u001b[39;00m \u001b[38;5;129;01mnot\u001b[39;00m algorithms:\n\u001b[1;32m    148\u001b[0m     \u001b[38;5;28;01mraise\u001b[39;00m DecodeError(\n\u001b[1;32m    149\u001b[0m         \u001b[38;5;124m'\u001b[39m\u001b[38;5;124mIt is required that you pass in a value for the \u001b[39m\u001b[38;5;124m\"\u001b[39m\u001b[38;5;124malgorithms\u001b[39m\u001b[38;5;124m\"\u001b[39m\u001b[38;5;124m argument when calling decode().\u001b[39m\u001b[38;5;124m'\u001b[39m\n\u001b[1;32m    150\u001b[0m     )\n\u001b[0;32m--> 152\u001b[0m decoded \u001b[38;5;241m=\u001b[39m \u001b[43mapi_jws\u001b[49m\u001b[38;5;241;43m.\u001b[39;49m\u001b[43mdecode_complete\u001b[49m\u001b[43m(\u001b[49m\n\u001b[1;32m    153\u001b[0m \u001b[43m    \u001b[49m\u001b[43mjwt\u001b[49m\u001b[43m,\u001b[49m\n\u001b[1;32m    154\u001b[0m \u001b[43m    \u001b[49m\u001b[43mkey\u001b[49m\u001b[38;5;241;43m=\u001b[39;49m\u001b[43mkey\u001b[49m\u001b[43m,\u001b[49m\n\u001b[1;32m    155\u001b[0m \u001b[43m    \u001b[49m\u001b[43malgorithms\u001b[49m\u001b[38;5;241;43m=\u001b[39;49m\u001b[43malgorithms\u001b[49m\u001b[43m,\u001b[49m\n\u001b[1;32m    156\u001b[0m \u001b[43m    \u001b[49m\u001b[43moptions\u001b[49m\u001b[38;5;241;43m=\u001b[39;49m\u001b[43moptions\u001b[49m\u001b[43m,\u001b[49m\n\u001b[1;32m    157\u001b[0m \u001b[43m    \u001b[49m\u001b[43mdetached_payload\u001b[49m\u001b[38;5;241;43m=\u001b[39;49m\u001b[43mdetached_payload\u001b[49m\u001b[43m,\u001b[49m\n\u001b[1;32m    158\u001b[0m \u001b[43m\u001b[49m\u001b[43m)\u001b[49m\n\u001b[1;32m    160\u001b[0m payload \u001b[38;5;241m=\u001b[39m \u001b[38;5;28mself\u001b[39m\u001b[38;5;241m.\u001b[39m_decode_payload(decoded)\n\u001b[1;32m    162\u001b[0m merged_options \u001b[38;5;241m=\u001b[39m {\u001b[38;5;241m*\u001b[39m\u001b[38;5;241m*\u001b[39m\u001b[38;5;28mself\u001b[39m\u001b[38;5;241m.\u001b[39moptions, \u001b[38;5;241m*\u001b[39m\u001b[38;5;241m*\u001b[39moptions}\n",
      "File \u001b[0;32m/opt/conda/lib/python3.10/site-packages/jwt/api_jws.py:199\u001b[0m, in \u001b[0;36mPyJWS.decode_complete\u001b[0;34m(self, jwt, key, algorithms, options, detached_payload, **kwargs)\u001b[0m\n\u001b[1;32m    194\u001b[0m \u001b[38;5;28;01mif\u001b[39;00m verify_signature \u001b[38;5;129;01mand\u001b[39;00m \u001b[38;5;129;01mnot\u001b[39;00m algorithms \u001b[38;5;129;01mand\u001b[39;00m \u001b[38;5;129;01mnot\u001b[39;00m \u001b[38;5;28misinstance\u001b[39m(key, PyJWK):\n\u001b[1;32m    195\u001b[0m     \u001b[38;5;28;01mraise\u001b[39;00m DecodeError(\n\u001b[1;32m    196\u001b[0m         \u001b[38;5;124m'\u001b[39m\u001b[38;5;124mIt is required that you pass in a value for the \u001b[39m\u001b[38;5;124m\"\u001b[39m\u001b[38;5;124malgorithms\u001b[39m\u001b[38;5;124m\"\u001b[39m\u001b[38;5;124m argument when calling decode().\u001b[39m\u001b[38;5;124m'\u001b[39m\n\u001b[1;32m    197\u001b[0m     )\n\u001b[0;32m--> 199\u001b[0m payload, signing_input, header, signature \u001b[38;5;241m=\u001b[39m \u001b[38;5;28;43mself\u001b[39;49m\u001b[38;5;241;43m.\u001b[39;49m\u001b[43m_load\u001b[49m\u001b[43m(\u001b[49m\u001b[43mjwt\u001b[49m\u001b[43m)\u001b[49m\n\u001b[1;32m    201\u001b[0m \u001b[38;5;28;01mif\u001b[39;00m header\u001b[38;5;241m.\u001b[39mget(\u001b[38;5;124m\"\u001b[39m\u001b[38;5;124mb64\u001b[39m\u001b[38;5;124m\"\u001b[39m, \u001b[38;5;28;01mTrue\u001b[39;00m) \u001b[38;5;129;01mis\u001b[39;00m \u001b[38;5;28;01mFalse\u001b[39;00m:\n\u001b[1;32m    202\u001b[0m     \u001b[38;5;28;01mif\u001b[39;00m detached_payload \u001b[38;5;129;01mis\u001b[39;00m \u001b[38;5;28;01mNone\u001b[39;00m:\n",
      "File \u001b[0;32m/opt/conda/lib/python3.10/site-packages/jwt/api_jws.py:271\u001b[0m, in \u001b[0;36mPyJWS._load\u001b[0;34m(self, jwt)\u001b[0m\n\u001b[1;32m    269\u001b[0m     header \u001b[38;5;241m=\u001b[39m json\u001b[38;5;241m.\u001b[39mloads(header_data)\n\u001b[1;32m    270\u001b[0m \u001b[38;5;28;01mexcept\u001b[39;00m \u001b[38;5;167;01mValueError\u001b[39;00m \u001b[38;5;28;01mas\u001b[39;00m e:\n\u001b[0;32m--> 271\u001b[0m     \u001b[38;5;28;01mraise\u001b[39;00m DecodeError(\u001b[38;5;124mf\u001b[39m\u001b[38;5;124m\"\u001b[39m\u001b[38;5;124mInvalid header string: \u001b[39m\u001b[38;5;132;01m{\u001b[39;00me\u001b[38;5;132;01m}\u001b[39;00m\u001b[38;5;124m\"\u001b[39m) \u001b[38;5;28;01mfrom\u001b[39;00m \u001b[38;5;21;01me\u001b[39;00m\n\u001b[1;32m    273\u001b[0m \u001b[38;5;28;01mif\u001b[39;00m \u001b[38;5;129;01mnot\u001b[39;00m \u001b[38;5;28misinstance\u001b[39m(header, \u001b[38;5;28mdict\u001b[39m):\n\u001b[1;32m    274\u001b[0m     \u001b[38;5;28;01mraise\u001b[39;00m DecodeError(\u001b[38;5;124m\"\u001b[39m\u001b[38;5;124mInvalid header string: must be a json object\u001b[39m\u001b[38;5;124m\"\u001b[39m)\n",
      "\u001b[0;31mDecodeError\u001b[0m: Invalid header string: 'utf-8' codec can't decode byte 0x88 in position 6: invalid start byte"
     ]
    }
   ],
   "source": [
    "jwt_decoded = jwt.decode(sign, '56ce0410-6f2b-5fd4-bb08-64cda66e55a3', algorithms=['HS256'])"
   ]
  },
  {
   "cell_type": "code",
   "execution_count": 25,
   "metadata": {},
   "outputs": [],
   "source": [
    "ordered_payload = ordered(payload)\n",
    "ordered_decoded = ordered(jwt_decoded)"
   ]
  },
  {
   "cell_type": "code",
   "execution_count": 15,
   "metadata": {},
   "outputs": [
    {
     "data": {
      "text/plain": [
       "25"
      ]
     },
     "execution_count": 15,
     "metadata": {},
     "output_type": "execute_result"
    }
   ],
   "source": [
    "len(ordered_payload)"
   ]
  },
  {
   "cell_type": "code",
   "execution_count": 16,
   "metadata": {},
   "outputs": [
    {
     "data": {
      "text/plain": [
       "26"
      ]
     },
     "execution_count": 16,
     "metadata": {},
     "output_type": "execute_result"
    }
   ],
   "source": [
    "len(ordered_decoded)"
   ]
  },
  {
   "cell_type": "code",
   "execution_count": 19,
   "metadata": {},
   "outputs": [
    {
     "name": "stdout",
     "output_type": "stream",
     "text": [
      "('id_message', '1126192458949115') ('iat', 1732764034)\n"
     ]
    }
   ],
   "source": [
    "for i in range(len(ordered_payload)):\n",
    "    if ordered_payload[i] != ordered_decoded[i]:\n",
    "        print(ordered_payload[i], ordered_decoded[i])\n",
    "        break"
   ]
  },
  {
   "cell_type": "code",
   "execution_count": 30,
   "metadata": {},
   "outputs": [],
   "source": [
    "payload = {\n",
    "    \"client_ip\": \"10.17.71.222\",\n",
    "    \"enc_pin\": \"ad7c437ef3cc410582a0a7f19a3364cf044dd07a\",\n",
    "    \"processing_code\": \"QRP\",\n",
    "    \"description\": \"\",\n",
    "    \"acq_bank\": \"502995\",\n",
    "    \"transmission_date_time\": \"20241126192459\",\n",
    "    \"is_card_based\": \"F\",\n",
    "    \"system_trace_audit\": \"ab2124\",\n",
    "    \"stan\": \"ab2124\",\n",
    "    \"pos_terminal_type\": \"3001\",\n",
    "    \"client_id\": \"sprappa2a1\",\n",
    "    \"terminal_id\": \"00100010\",\n",
    "    \"iso_mti\": \"0200\",\n",
    "    \"flow_name\": \"qr\",\n",
    "    \"id_message\": \"1126192458949115\",\n",
    "    \"account_no\": \"0160699138\",\n",
    "    \"qr\": \"00020101021226770025ID.CO.BIMAQRIS.BANKJATENG011893600113000000027402150000000000002740303UMI51440014ID.CO.QRIS.WWW0215ID10232899479710303UMI520458145303360540125802ID5907BOOEBOO6013KOTA SEMARANG6105502426222051820241125174940226163046194\",\n",
    "    \"network_id\": \"25\",\n",
    "    \"trx_type\": \"QRP\",\n",
    "    \"add_data\": \"\",\n",
    "    \"trx_date_time\": \"20241126192433\",\n",
    "    \"trans_date_time\": \"20241126192459\",\n",
    "    \"qr_data\": {\n",
    "        \"additional_field\": \"0518202411251749402261\",\n",
    "        \"msg_id\": None,\n",
    "        \"fee_percent\": 0,\n",
    "        \"currency\": None,\n",
    "        \"merchant_type\": None,\n",
    "        \"dest_bank_name\": \"BANK JATENG\",\n",
    "        \"postal_code\": \"50242\",\n",
    "        \"acquirer_id\": None,\n",
    "        \"country_code\": \"ID\",\n",
    "        \"merchant_category\": \"5814\",\n",
    "        \"settlement_rate\": None,\n",
    "        \"account_no\": \"0160699138\",\n",
    "        \"merchant_criteria\": \"UMI\",\n",
    "        \"settlement_amount\": None,\n",
    "        \"customer_data\": \"AUSTRA ASTASADYA RAMADHAN     \",\n",
    "        \"reverse_domain_name\": \"ID.CO.BIMAQRIS.BANKJATENG\",\n",
    "        \"pan\": \"9360011300000002741\",\n",
    "        \"merchant_name\": \"BOOEBOO\",\n",
    "        \"terminal_id\": None,\n",
    "        \"merchant_city\": \"KOTA SEMARANG\",\n",
    "        \"merchant_id\": \"000000000000274\",\n",
    "        \"cardholder_amount\": 0,\n",
    "        \"terminal_label\": \"000000000000274\",\n",
    "        \"qr\": None,\n",
    "        \"destination_amount\": 0,\n",
    "        \"fee_amount\": 0,\n",
    "        \"amount\": 2.0,\n",
    "        \"cardholder_rate\": 0,\n",
    "        \"fee_indicator\": \"00\",\n",
    "        \"currency_code\": \"360\"\n",
    "    },\n",
    "    \"channel_code\": \"25\",\n",
    "    \"message_id\": \"1126192458949116\"\n",
    "}\n"
   ]
  },
  {
   "cell_type": "code",
   "execution_count": 32,
   "metadata": {},
   "outputs": [
    {
     "data": {
      "text/plain": [
       "'eyJhbGciOiJIUzI1NiIsInR5cCI6IkpXVCJ9.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.r-rZLkgffieY7rv8b1ZomkUwwnrY4zEU0XxKhHV0Egc'"
      ]
     },
     "execution_count": 32,
     "metadata": {},
     "output_type": "execute_result"
    }
   ],
   "source": [
    "jwt_encode = jwt.encode(payload, '56ce0410-6f2b-5fd4-bb08-64cda66e55a3', algorithm='HS256')\n",
    "jwt_encode"
   ]
  },
  {
   "cell_type": "code",
   "execution_count": 5,
   "metadata": {},
   "outputs": [
    {
     "name": "stdout",
     "output_type": "stream",
     "text": [
      "<Response [200]>\n"
     ]
    }
   ],
   "source": [
    "import requests\n",
    "import json\n",
    "\n",
    "url = \"http://172.31.202.95:8080/BJBSPPATKWSS/inquiry_risk_profile_existing_cif\"\n",
    "\n",
    "payload = {\n",
    "    \"dateTime\": \"13/03/2024 14:50:40\",\n",
    "    \"referenceNumber\": \"201507131507262221400000001975\",\n",
    "    \"noNasabah\": \"0000089184\"\n",
    "}\n",
    "\n",
    "headers = {\n",
    "  'Content-Type': 'application/json'\n",
    "}\n",
    "\n",
    "response = requests.request(\"POST\", url, headers=headers, data=payload)\n",
    "\n",
    "print(response)\n"
   ]
  },
  {
   "cell_type": "code",
   "execution_count": 6,
   "metadata": {},
   "outputs": [
    {
     "name": "stdout",
     "output_type": "stream",
     "text": [
      "{'noNasabah': '0000089184', 'kodeCabangNasabah': '008', 'kodeKategori': '2', 'keterangan': 'HIGH', 'tglProses': '18/11/2024', 'penjelasanParamResiko01': 'IDENTITAS NASABAH (WNI, NASABAH INDIVIDU, PENGENAL KTP)', 'penjelasanParamResiko02': 'LOKASI USAHA (KOTA CABANG / CABANG PEMBUKA = HIGH RISK)', 'penjelasanParamResiko03': 'PROFIL NASABAH (JENIS PEKERJAAN NON HIGH RISK)', 'penjelasanParamResiko04': 'JUMLAH TRANSAKSI (JUMLAH TRANSAKSI 3 BULAN TERAKHIR 1 - 120)', 'penjelasanParamResiko05': '', 'penjelasanParamResiko06': 'PRODUK YANG DIGUNAKAN (NASABAH MEMILIKI > 4 REKENING)', 'penjelasanParamResiko07': 'PEP (PEP)', 'penjelasanParamResiko08': 'NASABAH PRIORITAS (TIDAK)', 'penjelasanParamResiko09': 'WATCHLIST (WATCHLIST)', 'responseCode': '00', 'responseMessage': 'Success'}\n"
     ]
    }
   ],
   "source": [
    "import requests\n",
    "import json\n",
    "\n",
    "url = \"http://172.31.202.95:8080/BJBSPPATKWSS/inquiry_risk_profile_existing_cif\"\n",
    "\n",
    "payload = json.dumps({\n",
    "  \"dateTime\": \"13/03/2024 14:50:40\",\n",
    "  \"referenceNumber\": \"201507131507262221400000001975\",\n",
    "  \"noNasabah\": \"0000089184\"\n",
    "})\n",
    "headers = {\n",
    "  'Content-Type': 'application/json'\n",
    "}\n",
    "\n",
    "response = requests.request(\"POST\", url, headers=headers, data=payload)\n",
    "\n",
    "print(response.json())\n"
   ]
  },
  {
   "cell_type": "code",
   "execution_count": 12,
   "metadata": {},
   "outputs": [
    {
     "data": {
      "text/plain": [
       "'29/11/2024 10:32:40'"
      ]
     },
     "execution_count": 12,
     "metadata": {},
     "output_type": "execute_result"
    }
   ],
   "source": [
    "from datetime import datetime \n",
    "\n",
    "datetime.now().strftime(\"%d/%m/%Y %H:%M:%S\")"
   ]
  },
  {
   "cell_type": "code",
   "execution_count": 14,
   "metadata": {},
   "outputs": [
    {
     "data": {
      "text/plain": [
       "datetime.datetime(2024, 11, 29, 10, 33, 31, 421221)"
      ]
     },
     "execution_count": 14,
     "metadata": {},
     "output_type": "execute_result"
    }
   ],
   "source": [
    "datetime.now()"
   ]
  },
  {
   "cell_type": "code",
   "execution_count": 17,
   "metadata": {},
   "outputs": [
    {
     "data": {
      "text/plain": [
       "'202411291034229678170010010'"
      ]
     },
     "execution_count": 17,
     "metadata": {},
     "output_type": "execute_result"
    }
   ],
   "source": [
    "datetime.now().strftime(\"%Y%m%d%H%M%S%f\")+\"0010010\""
   ]
  },
  {
   "cell_type": "code",
   "execution_count": 7,
   "metadata": {},
   "outputs": [
    {
     "name": "stdout",
     "output_type": "stream",
     "text": [
      "{\"noNasabah\":\"0000089184\",\"kodeCabangNasabah\":\"008\",\"kodeKategori\":\"2\",\"keterangan\":\"HIGH\",\"tglProses\":\"18/11/2024\",\"penjelasanParamResiko01\":\"IDENTITAS NASABAH (WNI, NASABAH INDIVIDU, PENGENAL KTP)\",\"penjelasanParamResiko02\":\"LOKASI USAHA (KOTA CABANG / CABANG PEMBUKA \\u003d HIGH RISK)\",\"penjelasanParamResiko03\":\"PROFIL NASABAH (JENIS PEKERJAAN NON HIGH RISK)\",\"penjelasanParamResiko04\":\"JUMLAH TRANSAKSI (JUMLAH TRANSAKSI 3 BULAN TERAKHIR 1 - 120)\",\"penjelasanParamResiko05\":\"\",\"penjelasanParamResiko06\":\"PRODUK YANG DIGUNAKAN (NASABAH MEMILIKI \\u003e 4 REKENING)\",\"penjelasanParamResiko07\":\"PEP (PEP)\",\"penjelasanParamResiko08\":\"NASABAH PRIORITAS (TIDAK)\",\"penjelasanParamResiko09\":\"WATCHLIST (WATCHLIST)\",\"responseCode\":\"00\",\"responseMessage\":\"Success\"}\n"
     ]
    }
   ],
   "source": [
    "import requests\n",
    "import json\n",
    "\n",
    "url = \"http://172.31.202.95:8080/BJBSPPATKWSS/inquiry_risk_profile_existing_cif\"\n",
    "\n",
    "payload = json.dumps({\n",
    "  \"dateTime\": \"13/03/2024 14:50:40\",\n",
    "  \"referenceNumber\": \"20150713150726222140000089184\",\n",
    "  \"noNasabah\": \"0000089184\"\n",
    "})\n",
    "headers = {\n",
    "  'Content-Type': 'application/json'\n",
    "}\n",
    "\n",
    "response = requests.request(\"POST\", url, headers=headers, data=payload)\n",
    "\n",
    "print(response.text)\n"
   ]
  }
 ],
 "metadata": {
  "kernelspec": {
   "display_name": "Python 3",
   "language": "python",
   "name": "python3"
  },
  "language_info": {
   "codemirror_mode": {
    "name": "ipython",
    "version": 3
   },
   "file_extension": ".py",
   "mimetype": "text/x-python",
   "name": "python",
   "nbconvert_exporter": "python",
   "pygments_lexer": "ipython3",
   "version": "3.9.0"
  }
 },
 "nbformat": 4,
 "nbformat_minor": 2
}
