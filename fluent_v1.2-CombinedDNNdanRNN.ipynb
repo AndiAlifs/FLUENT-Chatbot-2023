{
 "cells": [
  {
   "cell_type": "markdown",
   "metadata": {},
   "source": [
    "### Informasi Eksperimen\n",
    "FLUENT - ICONNIC\n",
    "\n",
    "\n",
    "DNN (non-cross val; param default) vs RNN (non-cross val; param default) + (2); (3); (4)\n",
    "\n",
    "(2) evaluasi dengan BLEU (3) analisa dengan 5 prompt pertanyaan yang dispesifikasikan dan 5 prompt bebas dari user (4) menujukkan hasil evaluasi hasil prompt bebas dengan kategori buruk netral baik\n",
    "\n",
    "Referensi tambahan:\n",
    "https://www.researchgate.net/publication/336203630_Indonesian_Chatbot_of_University_Admission_Using_a_Question_Answering_System_Based_on_Sequence-to-Sequence_Model"
   ]
  },
  {
   "cell_type": "code",
   "execution_count": 1,
   "metadata": {},
   "outputs": [],
   "source": [
    "import numpy as np\n",
    "import tensorflow as tf\n",
    "import pandas as pd\n",
    "from tensorflow.keras.models import Model, Sequential\n",
    "from tensorflow.keras.layers import Input, LSTM, Dense, Dropout\n",
    "from tensorflow.keras.preprocessing.text import Tokenizer\n",
    "from tensorflow.keras.callbacks import EarlyStopping, ModelCheckpoint\n",
    "from tensorflow.keras.preprocessing.sequence import pad_sequences\n",
    "from sklearn.preprocessing import OneHotEncoder\n",
    "from tensorflow.keras import preprocessing, utils\n",
    "import os\n",
    "import yaml"
   ]
  },
  {
   "cell_type": "markdown",
   "metadata": {},
   "source": [
    "# Retrieve data train"
   ]
  },
  {
   "cell_type": "code",
   "execution_count": 2,
   "metadata": {},
   "outputs": [
    {
     "data": {
      "text/html": [
       "<div>\n",
       "<style scoped>\n",
       "    .dataframe tbody tr th:only-of-type {\n",
       "        vertical-align: middle;\n",
       "    }\n",
       "\n",
       "    .dataframe tbody tr th {\n",
       "        vertical-align: top;\n",
       "    }\n",
       "\n",
       "    .dataframe thead th {\n",
       "        text-align: right;\n",
       "    }\n",
       "</style>\n",
       "<table border=\"1\" class=\"dataframe\">\n",
       "  <thead>\n",
       "    <tr style=\"text-align: right;\">\n",
       "      <th></th>\n",
       "      <th>No</th>\n",
       "      <th>Contributor</th>\n",
       "      <th>Topik/Tag</th>\n",
       "      <th>Pertanyaan</th>\n",
       "      <th>Jenis</th>\n",
       "      <th>Jawaban</th>\n",
       "      <th>Link Jawaban</th>\n",
       "      <th>Keterangan Tambahan</th>\n",
       "    </tr>\n",
       "  </thead>\n",
       "  <tbody>\n",
       "    <tr>\n",
       "      <th>0</th>\n",
       "      <td>0.0</td>\n",
       "      <td>Fitra</td>\n",
       "      <td>Informasi Dosen</td>\n",
       "      <td>email Fitra A. Bachtiar</td>\n",
       "      <td>Statis</td>\n",
       "      <td>fitra.bachtiar[at]ub.ac.id</td>\n",
       "      <td>https://filkom.ub.ac.id/sdm-dosen/?search_f7a8...</td>\n",
       "      <td>NaN</td>\n",
       "    </tr>\n",
       "    <tr>\n",
       "      <th>1</th>\n",
       "      <td>NaN</td>\n",
       "      <td>NaN</td>\n",
       "      <td>NaN</td>\n",
       "      <td>NIK/NIP Fitra A. Bachtiar</td>\n",
       "      <td>Statis</td>\n",
       "      <td>198406282019031006</td>\n",
       "      <td>NaN</td>\n",
       "      <td>NaN</td>\n",
       "    </tr>\n",
       "    <tr>\n",
       "      <th>2</th>\n",
       "      <td>NaN</td>\n",
       "      <td>NaN</td>\n",
       "      <td>NaN</td>\n",
       "      <td>nama lengkap Fitra A. Bachtiar</td>\n",
       "      <td>Statis</td>\n",
       "      <td>Dr.Eng. Fitra A. Bachtiar</td>\n",
       "      <td>https://filkom.ub.ac.id/sdm-dosen/?search_f7a8...</td>\n",
       "      <td>NaN</td>\n",
       "    </tr>\n",
       "    <tr>\n",
       "      <th>3</th>\n",
       "      <td>NaN</td>\n",
       "      <td>NaN</td>\n",
       "      <td>NaN</td>\n",
       "      <td>Departemen Fitra A. Bachtiar</td>\n",
       "      <td>Dinamis</td>\n",
       "      <td>Departemen Teknik Informatika</td>\n",
       "      <td>https://filkom.ub.ac.id/sdm-dosen/?search_f7a8...</td>\n",
       "      <td>NaN</td>\n",
       "    </tr>\n",
       "    <tr>\n",
       "      <th>4</th>\n",
       "      <td>NaN</td>\n",
       "      <td>NaN</td>\n",
       "      <td>NaN</td>\n",
       "      <td>Program Studi Fitra A. Bachtiar</td>\n",
       "      <td>Dinamis</td>\n",
       "      <td>S2 Ilmu Komputer</td>\n",
       "      <td>https://filkom.ub.ac.id/sdm-dosen/?search_f7a8...</td>\n",
       "      <td>NaN</td>\n",
       "    </tr>\n",
       "  </tbody>\n",
       "</table>\n",
       "</div>"
      ],
      "text/plain": [
       "    No Contributor        Topik/Tag                       Pertanyaan    Jenis  \\\n",
       "0  0.0       Fitra  Informasi Dosen          email Fitra A. Bachtiar   Statis   \n",
       "1  NaN         NaN              NaN        NIK/NIP Fitra A. Bachtiar   Statis   \n",
       "2  NaN         NaN              NaN   nama lengkap Fitra A. Bachtiar   Statis   \n",
       "3  NaN         NaN              NaN     Departemen Fitra A. Bachtiar  Dinamis   \n",
       "4  NaN         NaN              NaN  Program Studi Fitra A. Bachtiar  Dinamis   \n",
       "\n",
       "                         Jawaban  \\\n",
       "0     fitra.bachtiar[at]ub.ac.id   \n",
       "1             198406282019031006   \n",
       "2      Dr.Eng. Fitra A. Bachtiar   \n",
       "3  Departemen Teknik Informatika   \n",
       "4               S2 Ilmu Komputer   \n",
       "\n",
       "                                        Link Jawaban  Keterangan Tambahan  \n",
       "0  https://filkom.ub.ac.id/sdm-dosen/?search_f7a8...                  NaN  \n",
       "1                                                NaN                  NaN  \n",
       "2  https://filkom.ub.ac.id/sdm-dosen/?search_f7a8...                  NaN  \n",
       "3  https://filkom.ub.ac.id/sdm-dosen/?search_f7a8...                  NaN  \n",
       "4  https://filkom.ub.ac.id/sdm-dosen/?search_f7a8...                  NaN  "
      ]
     },
     "execution_count": 2,
     "metadata": {},
     "output_type": "execute_result"
    }
   ],
   "source": [
    "knowledgebase = pd.read_excel('https://raw.githubusercontent.com/AndiAlifs/FLUENT-Chatbot-2023/main/KnowledgeBaseFilkom.xlsx', engine='openpyxl')\n",
    "knowledgebase.head()"
   ]
  },
  {
   "cell_type": "code",
   "execution_count": 3,
   "metadata": {},
   "outputs": [
    {
     "data": {
      "text/html": [
       "<div>\n",
       "<style scoped>\n",
       "    .dataframe tbody tr th:only-of-type {\n",
       "        vertical-align: middle;\n",
       "    }\n",
       "\n",
       "    .dataframe tbody tr th {\n",
       "        vertical-align: top;\n",
       "    }\n",
       "\n",
       "    .dataframe thead th {\n",
       "        text-align: right;\n",
       "    }\n",
       "</style>\n",
       "<table border=\"1\" class=\"dataframe\">\n",
       "  <thead>\n",
       "    <tr style=\"text-align: right;\">\n",
       "      <th></th>\n",
       "      <th>Pertanyaan</th>\n",
       "      <th>Jawaban</th>\n",
       "    </tr>\n",
       "  </thead>\n",
       "  <tbody>\n",
       "    <tr>\n",
       "      <th>0</th>\n",
       "      <td>email Fitra A. Bachtiar</td>\n",
       "      <td>fitra.bachtiar[at]ub.ac.id</td>\n",
       "    </tr>\n",
       "    <tr>\n",
       "      <th>1</th>\n",
       "      <td>NIK/NIP Fitra A. Bachtiar</td>\n",
       "      <td>198406282019031006</td>\n",
       "    </tr>\n",
       "    <tr>\n",
       "      <th>2</th>\n",
       "      <td>nama lengkap Fitra A. Bachtiar</td>\n",
       "      <td>Dr.Eng. Fitra A. Bachtiar</td>\n",
       "    </tr>\n",
       "    <tr>\n",
       "      <th>3</th>\n",
       "      <td>Departemen Fitra A. Bachtiar</td>\n",
       "      <td>Departemen Teknik Informatika</td>\n",
       "    </tr>\n",
       "    <tr>\n",
       "      <th>4</th>\n",
       "      <td>Program Studi Fitra A. Bachtiar</td>\n",
       "      <td>S2 Ilmu Komputer</td>\n",
       "    </tr>\n",
       "    <tr>\n",
       "      <th>...</th>\n",
       "      <td>...</td>\n",
       "      <td>...</td>\n",
       "    </tr>\n",
       "    <tr>\n",
       "      <th>1229</th>\n",
       "      <td>Apa Manfaat Konseling FILKOM ?</td>\n",
       "      <td>1. Masalah ditangani oleh ahli yang kompeten d...</td>\n",
       "    </tr>\n",
       "    <tr>\n",
       "      <th>1230</th>\n",
       "      <td>Berikan informasi mengenai Layanan Konseling</td>\n",
       "      <td>Informasi mengenai Layanan Konseling dapat dia...</td>\n",
       "    </tr>\n",
       "    <tr>\n",
       "      <th>1231</th>\n",
       "      <td>Siapa Konselor Bimbingan dan Konseling di FILK...</td>\n",
       "      <td>Ada 2 konselor Bimbingan dan Konseling di FILK...</td>\n",
       "    </tr>\n",
       "    <tr>\n",
       "      <th>1232</th>\n",
       "      <td>Siapa Koordinator Konselor Sebaya ?</td>\n",
       "      <td>Koordinator Konselor Sebaya adalah Muhammad Da...</td>\n",
       "    </tr>\n",
       "    <tr>\n",
       "      <th>1233</th>\n",
       "      <td>Berikan Rincian Layanan ULTKSP</td>\n",
       "      <td>Rincian Layanan ULTKSP dapat diakses pada taut...</td>\n",
       "    </tr>\n",
       "  </tbody>\n",
       "</table>\n",
       "<p>1198 rows × 2 columns</p>\n",
       "</div>"
      ],
      "text/plain": [
       "                                             Pertanyaan  \\\n",
       "0                               email Fitra A. Bachtiar   \n",
       "1                             NIK/NIP Fitra A. Bachtiar   \n",
       "2                        nama lengkap Fitra A. Bachtiar   \n",
       "3                          Departemen Fitra A. Bachtiar   \n",
       "4                       Program Studi Fitra A. Bachtiar   \n",
       "...                                                 ...   \n",
       "1229                     Apa Manfaat Konseling FILKOM ?   \n",
       "1230       Berikan informasi mengenai Layanan Konseling   \n",
       "1231  Siapa Konselor Bimbingan dan Konseling di FILK...   \n",
       "1232                Siapa Koordinator Konselor Sebaya ?   \n",
       "1233                     Berikan Rincian Layanan ULTKSP   \n",
       "\n",
       "                                                Jawaban  \n",
       "0                            fitra.bachtiar[at]ub.ac.id  \n",
       "1                                    198406282019031006  \n",
       "2                             Dr.Eng. Fitra A. Bachtiar  \n",
       "3                         Departemen Teknik Informatika  \n",
       "4                                      S2 Ilmu Komputer  \n",
       "...                                                 ...  \n",
       "1229  1. Masalah ditangani oleh ahli yang kompeten d...  \n",
       "1230  Informasi mengenai Layanan Konseling dapat dia...  \n",
       "1231  Ada 2 konselor Bimbingan dan Konseling di FILK...  \n",
       "1232  Koordinator Konselor Sebaya adalah Muhammad Da...  \n",
       "1233  Rincian Layanan ULTKSP dapat diakses pada taut...  \n",
       "\n",
       "[1198 rows x 2 columns]"
      ]
     },
     "execution_count": 3,
     "metadata": {},
     "output_type": "execute_result"
    }
   ],
   "source": [
    "qa_paired = knowledgebase.drop(columns=knowledgebase.columns.drop(['Pertanyaan', 'Jawaban']))\n",
    "qa_paired.dropna(inplace=True)\n",
    "qa_paired"
   ]
  },
  {
   "cell_type": "markdown",
   "metadata": {},
   "source": [
    "# Implementasi RNN "
   ]
  },
  {
   "cell_type": "markdown",
   "metadata": {},
   "source": [
    "## Preprocessing Data"
   ]
  },
  {
   "cell_type": "code",
   "execution_count": 4,
   "metadata": {},
   "outputs": [],
   "source": [
    "# remove all the punctuation from qa_paired\n",
    "qa_paired['Pertanyaan'] = qa_paired['Pertanyaan'].str.replace('[^\\w\\s]',' ').str.lower()\n",
    "qa_paired['Jawaban'] = qa_paired['Jawaban'].str.replace('[^\\w\\s]',' ').str.lower()"
   ]
  },
  {
   "cell_type": "code",
   "execution_count": 5,
   "metadata": {},
   "outputs": [],
   "source": [
    "vocab = sorted(set(\" \".join(qa_paired['Pertanyaan'] +\" \" + qa_paired['Jawaban']).split()))"
   ]
  },
  {
   "cell_type": "code",
   "execution_count": 6,
   "metadata": {},
   "outputs": [
    {
     "name": "stdout",
     "output_type": "stream",
     "text": [
      "VOCAB SIZE : 2601\n"
     ]
    }
   ],
   "source": [
    "questions = qa_paired['Pertanyaan']\n",
    "\n",
    "answers = list()\n",
    "for i in range( len(qa_paired['Jawaban']) ) :\n",
    "    answers.append( '<START> ' + \" \".join(qa_paired['Jawaban'].iloc[i].split()) + ' <END>' )\n",
    "\n",
    "tokenizer = preprocessing.text.Tokenizer(oov_token='<UNK>')\n",
    "tokenizer.fit_on_texts( questions + answers )\n",
    "VOCAB_SIZE = len( tokenizer.word_index )+1\n",
    "print( 'VOCAB SIZE : {}'.format( VOCAB_SIZE ))"
   ]
  },
  {
   "cell_type": "markdown",
   "metadata": {},
   "source": [
    "### Encoder-Decoder"
   ]
  },
  {
   "cell_type": "code",
   "execution_count": 7,
   "metadata": {},
   "outputs": [],
   "source": [
    "from gensim.models import Word2Vec\n",
    "import re"
   ]
  },
  {
   "cell_type": "code",
   "execution_count": 8,
   "metadata": {},
   "outputs": [],
   "source": [
    "vocab = []\n",
    "for word in tokenizer.word_index:\n",
    "  vocab.append(word)\n",
    "\n",
    "def tokenize(sentences):\n",
    "  tokens_list = []\n",
    "  vocabulary = []\n",
    "  for sentence in sentences:\n",
    "    sentence = sentence.lower()\n",
    "    sentence = re.sub('[^a-zA-Z]', ' ', sentence)\n",
    "    tokens = sentence.split()\n",
    "    vocabulary += tokens\n",
    "    tokens_list.append(tokens)\n",
    "  return tokens_list, vocabulary"
   ]
  },
  {
   "cell_type": "code",
   "execution_count": 9,
   "metadata": {},
   "outputs": [
    {
     "name": "stdout",
     "output_type": "stream",
     "text": [
      "(1198, 13) 13\n"
     ]
    }
   ],
   "source": [
    "#encoder_input_data\n",
    "tokenized_questions = tokenizer.texts_to_sequences( questions )\n",
    "maxlen_questions = max( [len(x) for x in tokenized_questions ] )\n",
    "padded_questions = preprocessing.sequence.pad_sequences( tokenized_questions, maxlen = maxlen_questions, padding = 'post')\n",
    "encoder_input_data = np.array(padded_questions)\n",
    "print(encoder_input_data.shape, maxlen_questions)"
   ]
  },
  {
   "cell_type": "code",
   "execution_count": 10,
   "metadata": {},
   "outputs": [
    {
     "name": "stdout",
     "output_type": "stream",
     "text": [
      "(1198, 294) 294\n"
     ]
    }
   ],
   "source": [
    "# decoder_input_data\n",
    "tokenized_answers = tokenizer.texts_to_sequences( answers )\n",
    "maxlen_answers = max( [ len(x) for x in tokenized_answers ] )\n",
    "padded_answers = preprocessing.sequence.pad_sequences( tokenized_answers , maxlen=maxlen_answers , padding='post' )\n",
    "decoder_input_data = np.array( padded_answers )\n",
    "print( decoder_input_data.shape , maxlen_answers )"
   ]
  },
  {
   "cell_type": "code",
   "execution_count": 11,
   "metadata": {},
   "outputs": [
    {
     "name": "stdout",
     "output_type": "stream",
     "text": [
      "(1198, 294, 2601)\n"
     ]
    }
   ],
   "source": [
    "# decoder_output_data\n",
    "tokenized_answers = tokenizer.texts_to_sequences( answers )\n",
    "for i in range(len(tokenized_answers)) :\n",
    "    tokenized_answers[i] = tokenized_answers[i][1:]\n",
    "padded_answers = preprocessing.sequence.pad_sequences( tokenized_answers , maxlen=maxlen_answers , padding='post' )\n",
    "onehot_answers = utils.to_categorical( padded_answers , VOCAB_SIZE )\n",
    "decoder_output_data = np.array( onehot_answers )\n",
    "print( decoder_output_data.shape )"
   ]
  },
  {
   "cell_type": "markdown",
   "metadata": {},
   "source": [
    "## Modelling"
   ]
  },
  {
   "cell_type": "code",
   "execution_count": 12,
   "metadata": {},
   "outputs": [],
   "source": [
    "from keras.callbacks import ModelCheckpoint\n",
    "from keras.callbacks import EarlyStopping\n",
    "\n",
    "# define the checkpoint\n",
    "checkpoint = ModelCheckpoint('riset/fluent/2023/model_alif/rnn_model_weights_v1.3.h5', monitor='loss', verbose=1, save_best_only=True, mode='min')\n",
    "earlystopping = EarlyStopping(monitor='loss', patience=5, verbose=1, mode='min')"
   ]
  },
  {
   "cell_type": "code",
   "execution_count": 13,
   "metadata": {},
   "outputs": [],
   "source": [
    "# reset model\n",
    "tf.keras.backend.clear_session()"
   ]
  },
  {
   "cell_type": "code",
   "execution_count": 14,
   "metadata": {},
   "outputs": [
    {
     "name": "stdout",
     "output_type": "stream",
     "text": [
      "Model: \"model\"\n",
      "__________________________________________________________________________________________________\n",
      "Layer (type)                    Output Shape         Param #     Connected to                     \n",
      "==================================================================================================\n",
      "input_1 (InputLayer)            [(None, 13)]         0                                            \n",
      "__________________________________________________________________________________________________\n",
      "input_2 (InputLayer)            [(None, 294)]        0                                            \n",
      "__________________________________________________________________________________________________\n",
      "embedding (Embedding)           (None, 13, 500)      1301000     input_1[0][0]                    \n",
      "__________________________________________________________________________________________________\n",
      "embedding_1 (Embedding)         (None, 294, 500)     1300500     input_2[0][0]                    \n",
      "__________________________________________________________________________________________________\n",
      "lstm (LSTM)                     [(None, 500), (None, 2002000     embedding[0][0]                  \n",
      "__________________________________________________________________________________________________\n",
      "lstm_1 (LSTM)                   [(None, 294, 500), ( 2002000     embedding_1[0][0]                \n",
      "                                                                 lstm[0][1]                       \n",
      "                                                                 lstm[0][2]                       \n",
      "__________________________________________________________________________________________________\n",
      "dense (Dense)                   (None, 294, 2601)    1303101     lstm_1[0][0]                     \n",
      "==================================================================================================\n",
      "Total params: 7,908,601\n",
      "Trainable params: 7,908,601\n",
      "Non-trainable params: 0\n",
      "__________________________________________________________________________________________________\n"
     ]
    }
   ],
   "source": [
    "encoder_inputs = tf.keras.layers.Input(shape=( maxlen_questions , ))\n",
    "encoder_embedding = tf.keras.layers.Embedding( VOCAB_SIZE+1, 500 , mask_zero=True ) (encoder_inputs)\n",
    "encoder_outputs , state_h , state_c = tf.keras.layers.LSTM( 500 , return_state=True )( encoder_embedding )\n",
    "encoder_states = [ state_h , state_c ]\n",
    "\n",
    "decoder_inputs = tf.keras.layers.Input(shape=( maxlen_answers ,  ))\n",
    "decoder_embedding = tf.keras.layers.Embedding( VOCAB_SIZE, 500 , mask_zero=True) (decoder_inputs)\n",
    "decoder_lstm = tf.keras.layers.LSTM( 500 , return_state=True , return_sequences=True )\n",
    "decoder_outputs , _ , _ = decoder_lstm ( decoder_embedding , initial_state=encoder_states )\n",
    "decoder_dense = tf.keras.layers.Dense( VOCAB_SIZE , activation=tf.keras.activations.softmax ) \n",
    "output = decoder_dense ( decoder_outputs )\n",
    "\n",
    "model = tf.keras.models.Model([encoder_inputs, decoder_inputs], output )\n",
    "model.compile(optimizer=tf.keras.optimizers.RMSprop(), loss='categorical_crossentropy')\n",
    "\n",
    "model.summary()"
   ]
  },
  {
   "cell_type": "code",
   "execution_count": 16,
   "metadata": {},
   "outputs": [
    {
     "name": "stdout",
     "output_type": "stream",
     "text": [
      "Epoch 1/10\n",
      "24/24 [==============================] - 38s 2s/step - loss: 0.3850\n",
      "\n",
      "Epoch 00001: loss improved from 0.44430 to 0.38497, saving model to riset/fluent/2023/model_alif/rnn_model_weights_v1.3.h5\n",
      "Epoch 2/10\n",
      "24/24 [==============================] - 37s 2s/step - loss: 0.3563\n",
      "\n",
      "Epoch 00002: loss improved from 0.38497 to 0.35626, saving model to riset/fluent/2023/model_alif/rnn_model_weights_v1.3.h5\n",
      "Epoch 3/10\n",
      "24/24 [==============================] - 37s 2s/step - loss: 0.3307\n",
      "\n",
      "Epoch 00003: loss improved from 0.35626 to 0.33067, saving model to riset/fluent/2023/model_alif/rnn_model_weights_v1.3.h5\n",
      "Epoch 4/10\n",
      "24/24 [==============================] - 37s 2s/step - loss: 0.3081\n",
      "\n",
      "Epoch 00004: loss improved from 0.33067 to 0.30813, saving model to riset/fluent/2023/model_alif/rnn_model_weights_v1.3.h5\n",
      "Epoch 5/10\n",
      "24/24 [==============================] - 37s 2s/step - loss: 0.2889\n",
      "\n",
      "Epoch 00005: loss improved from 0.30813 to 0.28892, saving model to riset/fluent/2023/model_alif/rnn_model_weights_v1.3.h5\n",
      "Epoch 6/10\n",
      "24/24 [==============================] - 37s 2s/step - loss: 0.2707\n",
      "\n",
      "Epoch 00006: loss improved from 0.28892 to 0.27069, saving model to riset/fluent/2023/model_alif/rnn_model_weights_v1.3.h5\n",
      "Epoch 7/10\n",
      "24/24 [==============================] - 36s 2s/step - loss: 0.2544\n",
      "\n",
      "Epoch 00007: loss improved from 0.27069 to 0.25438, saving model to riset/fluent/2023/model_alif/rnn_model_weights_v1.3.h5\n",
      "Epoch 8/10\n",
      "24/24 [==============================] - 37s 2s/step - loss: 0.2398\n",
      "\n",
      "Epoch 00008: loss improved from 0.25438 to 0.23978, saving model to riset/fluent/2023/model_alif/rnn_model_weights_v1.3.h5\n",
      "Epoch 9/10\n",
      "24/24 [==============================] - 37s 2s/step - loss: 0.2266\n",
      "\n",
      "Epoch 00009: loss improved from 0.23978 to 0.22659, saving model to riset/fluent/2023/model_alif/rnn_model_weights_v1.3.h5\n",
      "Epoch 10/10\n",
      "24/24 [==============================] - 37s 2s/step - loss: 0.2123\n",
      "\n",
      "Epoch 00010: loss improved from 0.22659 to 0.21233, saving model to riset/fluent/2023/model_alif/rnn_model_weights_v1.3.h5\n"
     ]
    }
   ],
   "source": [
    "history = model.fit([encoder_input_data , decoder_input_data], \n",
    "                    decoder_output_data, \n",
    "                    batch_size=50, \n",
    "                    epochs=10,\n",
    "                    callbacks=[checkpoint, \n",
    "                               earlystopping]) "
   ]
  },
  {
   "cell_type": "code",
   "execution_count": 364,
   "metadata": {},
   "outputs": [],
   "source": [
    "with open('riset/fluent/2023/model_alif/history_rnn_v1.1_14923.yaml', 'w') as f:\n",
    "    yaml.dump(history.history, f)"
   ]
  },
  {
   "cell_type": "code",
   "execution_count": 206,
   "metadata": {},
   "outputs": [],
   "source": [
    "# load model best weights\n",
    "# model.load_weights('riset/fluent/2023/model_alif/model/rnn_model_weights.h5')\n",
    "model.load_weights('riset/fluent/2023/model_alif/rnn_model_weights_v1.1.h5')"
   ]
  },
  {
   "cell_type": "code",
   "execution_count": 354,
   "metadata": {},
   "outputs": [
    {
     "data": {
      "image/png": "[encoded data removed]",
      "text/plain": [
       "<Figure size 720x360 with 1 Axes>"
      ]
     },
     "metadata": {},
     "output_type": "display_data"
    }
   ],
   "source": [
    "import matplotlib.pyplot as plt\n",
    "\n",
    "plt.plot(history.history['loss'])\n",
    "fig_size = plt.rcParams[\"figure.figsize\"]\n",
    "fig_size[0] = 10\n",
    "fig_size[1] = 5\n",
    "# plt.title('Model CatCross Entropy Loss over Epochs')\n",
    "plt.ylabel('Loss')\n",
    "plt.xlabel('Epoch')\n",
    "plt.legend(['Train Loss'], loc='upper right')\n",
    "\n",
    "for i, loss in enumerate(history.history['loss']):\n",
    "    # print(\"Epoch\", i, \":\", loss)\n",
    "    if i % 10 == 0 or i == len(history.history['loss']) - 1:\n",
    "        plt.annotate(str(round(loss, 4)), xy=(i,loss), xytext=(i,loss))\n",
    "plt.show()"
   ]
  },
  {
   "cell_type": "code",
   "execution_count": 112,
   "metadata": {},
   "outputs": [
    {
     "data": {
      "image/png": "[encoded data removed]",
      "text/plain": [
       "<Figure size 720x360 with 1 Axes>"
      ]
     },
     "metadata": {},
     "output_type": "display_data"
    }
   ],
   "source": [
    "import matplotlib.pyplot as plt\n",
    "\n",
    "plt.plot(history.history['loss'])\n",
    "fig_size = plt.rcParams[\"figure.figsize\"]\n",
    "fig_size[0] = 10\n",
    "fig_size[1] = 5\n",
    "# plt.title('Model CatCross Entropy Loss over Epochs')\n",
    "plt.ylabel('Loss')\n",
    "plt.xlabel('Epoch')\n",
    "plt.legend(['Train Loss'], loc='upper right')\n",
    "\n",
    "for i, loss in enumerate(history.history['loss']):\n",
    "    # print(\"Epoch\", i, \":\", loss)\n",
    "    if i % 10 == 0 or i == len(history.history['loss']) - 1:\n",
    "        plt.annotate(str(round(loss, 4)), xy=(i,loss), xytext=(i,loss))\n",
    "plt.show()\n"
   ]
  },
  {
   "cell_type": "markdown",
   "metadata": {},
   "source": [
    "## Test the chatbot"
   ]
  },
  {
   "cell_type": "code",
   "execution_count": 17,
   "metadata": {},
   "outputs": [],
   "source": [
    "def make_inference_models():\n",
    "    \n",
    "    encoder_model = tf.keras.models.Model(encoder_inputs, encoder_states)\n",
    "    \n",
    "    decoder_state_input_h = tf.keras.layers.Input(shape=( 500 ,))\n",
    "    decoder_state_input_c = tf.keras.layers.Input(shape=( 500 ,))\n",
    "    \n",
    "    decoder_states_inputs = [decoder_state_input_h, decoder_state_input_c]\n",
    "    \n",
    "    decoder_outputs, state_h, state_c = decoder_lstm(\n",
    "        decoder_embedding , initial_state=decoder_states_inputs)\n",
    "    \n",
    "    decoder_states = [state_h, state_c]\n",
    "\n",
    "    decoder_outputs = decoder_dense(decoder_outputs)\n",
    "    \n",
    "    decoder_model = tf.keras.models.Model(\n",
    "        [decoder_inputs] + decoder_states_inputs,\n",
    "        [decoder_outputs] + decoder_states)\n",
    "    \n",
    "    return encoder_model , decoder_model"
   ]
  },
  {
   "cell_type": "code",
   "execution_count": 18,
   "metadata": {},
   "outputs": [],
   "source": [
    "def str_to_tokens( sentence : str ):\n",
    "\n",
    "    words = sentence.lower().split()\n",
    "    tokens_list = list()\n",
    "\n",
    "    for word in words:\n",
    "        try:\n",
    "            tokens_list.append( tokenizer.word_index[ word ] )\n",
    "        except KeyError:\n",
    "            tokens_list.append(1)\n",
    "    return preprocessing.sequence.pad_sequences( [tokens_list] , maxlen=maxlen_questions , padding='post')\n"
   ]
  },
  {
   "cell_type": "code",
   "execution_count": 19,
   "metadata": {},
   "outputs": [],
   "source": [
    "def get_response_rnn(question):\n",
    "    enc_model , dec_model = make_inference_models()\n",
    "\n",
    "    quest = question\n",
    "\n",
    "    states_values = enc_model.predict( str_to_tokens(quest) )\n",
    "    empty_target_seq = np.zeros( ( 1 , 1 ) )\n",
    "    empty_target_seq[0, 0] = tokenizer.word_index['start']\n",
    "    stop_condition = False\n",
    "    decoded_translation = ''\n",
    "    while not stop_condition :\n",
    "        dec_outputs , h , c = dec_model.predict([ empty_target_seq ] + states_values )\n",
    "        sampled_word_index = np.argmax( dec_outputs[0, -1, :] )\n",
    "        sampled_word = None\n",
    "        for word , index in tokenizer.word_index.items() :\n",
    "            if sampled_word_index == index :\n",
    "                decoded_translation += ' {}'.format( word )\n",
    "                sampled_word = word\n",
    "        \n",
    "        if sampled_word == 'end' or len(decoded_translation.split()) > maxlen_answers:\n",
    "            stop_condition = True\n",
    "            \n",
    "        empty_target_seq = np.zeros( ( 1 , 1 ) )  \n",
    "        empty_target_seq[ 0 , 0 ] = sampled_word_index\n",
    "        states_values = [ h , c ] \n",
    "\n",
    "    return decoded_translation.strip()\n",
    "\n",
    "# quest = input(\"Masukkan pertanyaan : \")\n",
    "# print(\"Pertanyaan : \", quest.strip())\n",
    "# print(\"Jawaban : \", get_response_rnn(quest))"
   ]
  },
  {
   "cell_type": "markdown",
   "metadata": {},
   "source": [
    "# Implementasi DNN "
   ]
  },
  {
   "cell_type": "markdown",
   "metadata": {},
   "source": [
    "## Prepocessing Data"
   ]
  },
  {
   "cell_type": "code",
   "execution_count": 20,
   "metadata": {},
   "outputs": [
    {
     "data": {
      "text/html": [
       "<div>\n",
       "<style scoped>\n",
       "    .dataframe tbody tr th:only-of-type {\n",
       "        vertical-align: middle;\n",
       "    }\n",
       "\n",
       "    .dataframe tbody tr th {\n",
       "        vertical-align: top;\n",
       "    }\n",
       "\n",
       "    .dataframe thead th {\n",
       "        text-align: right;\n",
       "    }\n",
       "</style>\n",
       "<table border=\"1\" class=\"dataframe\">\n",
       "  <thead>\n",
       "    <tr style=\"text-align: right;\">\n",
       "      <th></th>\n",
       "      <th>Pertanyaan</th>\n",
       "      <th>Jawaban</th>\n",
       "      <th>tag</th>\n",
       "    </tr>\n",
       "  </thead>\n",
       "  <tbody>\n",
       "    <tr>\n",
       "      <th>0</th>\n",
       "      <td>email fitra a  bachtiar</td>\n",
       "      <td>fitra bachtiar at ub ac id</td>\n",
       "      <td>0</td>\n",
       "    </tr>\n",
       "    <tr>\n",
       "      <th>1</th>\n",
       "      <td>nik nip fitra a  bachtiar</td>\n",
       "      <td>198406282019031006</td>\n",
       "      <td>1</td>\n",
       "    </tr>\n",
       "    <tr>\n",
       "      <th>2</th>\n",
       "      <td>nama lengkap fitra a  bachtiar</td>\n",
       "      <td>dr eng  fitra a  bachtiar</td>\n",
       "      <td>2</td>\n",
       "    </tr>\n",
       "    <tr>\n",
       "      <th>3</th>\n",
       "      <td>departemen fitra a  bachtiar</td>\n",
       "      <td>departemen teknik informatika</td>\n",
       "      <td>3</td>\n",
       "    </tr>\n",
       "    <tr>\n",
       "      <th>4</th>\n",
       "      <td>program studi fitra a  bachtiar</td>\n",
       "      <td>s2 ilmu komputer</td>\n",
       "      <td>4</td>\n",
       "    </tr>\n",
       "    <tr>\n",
       "      <th>...</th>\n",
       "      <td>...</td>\n",
       "      <td>...</td>\n",
       "      <td>...</td>\n",
       "    </tr>\n",
       "    <tr>\n",
       "      <th>1229</th>\n",
       "      <td>apa manfaat konseling filkom</td>\n",
       "      <td>1  masalah ditangani oleh ahli yang kompeten d...</td>\n",
       "      <td>1229</td>\n",
       "    </tr>\n",
       "    <tr>\n",
       "      <th>1230</th>\n",
       "      <td>berikan informasi mengenai layanan konseling</td>\n",
       "      <td>informasi mengenai layanan konseling dapat dia...</td>\n",
       "      <td>1230</td>\n",
       "    </tr>\n",
       "    <tr>\n",
       "      <th>1231</th>\n",
       "      <td>siapa konselor bimbingan dan konseling di filk...</td>\n",
       "      <td>ada 2 konselor bimbingan dan konseling di filk...</td>\n",
       "      <td>1231</td>\n",
       "    </tr>\n",
       "    <tr>\n",
       "      <th>1232</th>\n",
       "      <td>siapa koordinator konselor sebaya</td>\n",
       "      <td>koordinator konselor sebaya adalah muhammad da...</td>\n",
       "      <td>1232</td>\n",
       "    </tr>\n",
       "    <tr>\n",
       "      <th>1233</th>\n",
       "      <td>berikan rincian layanan ultksp</td>\n",
       "      <td>rincian layanan ultksp dapat diakses pada taut...</td>\n",
       "      <td>1233</td>\n",
       "    </tr>\n",
       "  </tbody>\n",
       "</table>\n",
       "<p>1198 rows × 3 columns</p>\n",
       "</div>"
      ],
      "text/plain": [
       "                                             Pertanyaan  \\\n",
       "0                               email fitra a  bachtiar   \n",
       "1                             nik nip fitra a  bachtiar   \n",
       "2                        nama lengkap fitra a  bachtiar   \n",
       "3                          departemen fitra a  bachtiar   \n",
       "4                       program studi fitra a  bachtiar   \n",
       "...                                                 ...   \n",
       "1229                     apa manfaat konseling filkom     \n",
       "1230       berikan informasi mengenai layanan konseling   \n",
       "1231  siapa konselor bimbingan dan konseling di filk...   \n",
       "1232                siapa koordinator konselor sebaya     \n",
       "1233                     berikan rincian layanan ultksp   \n",
       "\n",
       "                                                Jawaban   tag  \n",
       "0                            fitra bachtiar at ub ac id     0  \n",
       "1                                    198406282019031006     1  \n",
       "2                             dr eng  fitra a  bachtiar     2  \n",
       "3                         departemen teknik informatika     3  \n",
       "4                                      s2 ilmu komputer     4  \n",
       "...                                                 ...   ...  \n",
       "1229  1  masalah ditangani oleh ahli yang kompeten d...  1229  \n",
       "1230  informasi mengenai layanan konseling dapat dia...  1230  \n",
       "1231  ada 2 konselor bimbingan dan konseling di filk...  1231  \n",
       "1232  koordinator konselor sebaya adalah muhammad da...  1232  \n",
       "1233  rincian layanan ultksp dapat diakses pada taut...  1233  \n",
       "\n",
       "[1198 rows x 3 columns]"
      ]
     },
     "execution_count": 20,
     "metadata": {},
     "output_type": "execute_result"
    }
   ],
   "source": [
    "qa_paired_dnn = qa_paired\n",
    "qa_paired_dnn['tag'] = qa_paired_dnn.index\n",
    "qa_paired"
   ]
  },
  {
   "cell_type": "code",
   "execution_count": 21,
   "metadata": {},
   "outputs": [],
   "source": [
    "X_train = qa_paired_dnn['Pertanyaan'].astype(str)"
   ]
  },
  {
   "cell_type": "code",
   "execution_count": 22,
   "metadata": {},
   "outputs": [],
   "source": [
    "# tokenize Pertanyaan using tf \n",
    "\n",
    "tokenizer = Tokenizer(oov_token='x')\n",
    "tokenizer.fit_on_texts(X_train)\n",
    "\n",
    "doc_X = tokenizer.texts_to_sequences(X_train)\n",
    "doc_X = pad_sequences(doc_X, maxlen=20, padding='post')\n",
    "\n",
    "docs_Y = qa_paired_dnn['tag']\n",
    "docs_Y = np.array(docs_Y).reshape(-1, 1)\n",
    "encoder = OneHotEncoder(sparse=False)\n",
    "doc_Y = encoder.fit_transform(docs_Y)\n",
    "\n",
    "output_shape = len(doc_Y[0])"
   ]
  },
  {
   "cell_type": "markdown",
   "metadata": {},
   "source": [
    "## Modelling"
   ]
  },
  {
   "cell_type": "code",
   "execution_count": 23,
   "metadata": {},
   "outputs": [
    {
     "name": "stdout",
     "output_type": "stream",
     "text": [
      "Model: \"sequential\"\n",
      "_________________________________________________________________\n",
      "Layer (type)                 Output Shape              Param #   \n",
      "=================================================================\n",
      "dense_1 (Dense)              (None, 4096)              86016     \n",
      "_________________________________________________________________\n",
      "dense_2 (Dense)              (None, 4096)              16781312  \n",
      "_________________________________________________________________\n",
      "dense_3 (Dense)              (None, 2048)              8390656   \n",
      "_________________________________________________________________\n",
      "dense_4 (Dense)              (None, 1198)              2454702   \n",
      "=================================================================\n",
      "Total params: 27,712,686\n",
      "Trainable params: 27,712,686\n",
      "Non-trainable params: 0\n",
      "_________________________________________________________________\n",
      "None\n"
     ]
    }
   ],
   "source": [
    "#deep learning model\n",
    "model_dnn = Sequential()\n",
    "model_dnn.add(Dense(4096, input_shape=(20,), activation=\"relu\"))\n",
    "model_dnn.add(Dense(4096, activation=\"relu\"))\n",
    "model_dnn.add(Dense(2048, activation=\"relu\"))\n",
    "model_dnn.add(Dense(output_shape, activation=\"sigmoid\"))\n",
    "model_dnn.compile(loss='categorical_crossentropy',\n",
    "              optimizer='adam',\n",
    "              metrics=[\"accuracy\"])\n",
    "print(model_dnn.summary())"
   ]
  },
  {
   "cell_type": "code",
   "execution_count": 24,
   "metadata": {},
   "outputs": [],
   "source": [
    "# reset model\n",
    "tf.keras.backend.clear_session()"
   ]
  },
  {
   "cell_type": "code",
   "execution_count": 25,
   "metadata": {},
   "outputs": [],
   "source": [
    "checkpoint = ModelCheckpoint('riset/fluent/2023/model_alif/dnn_model_weights_v1.3.h5', monitor='accuracy', verbose=1, save_best_only=True, mode='max')\n",
    "earlystopping = EarlyStopping(monitor='accuracy', patience=10, verbose=1, mode='max')"
   ]
  },
  {
   "cell_type": "code",
   "execution_count": 26,
   "metadata": {},
   "outputs": [
    {
     "name": "stdout",
     "output_type": "stream",
     "text": [
      "Epoch 1/10\n",
      "38/38 [==============================] - 4s 83ms/step - loss: 19.8169 - accuracy: 0.0000e+00\n",
      "\n",
      "Epoch 00001: accuracy improved from -inf to 0.00000, saving model to riset/fluent/2023/model_alif/dnn_model_weights_v1.3.h5\n",
      "Epoch 2/10\n",
      "38/38 [==============================] - 3s 83ms/step - loss: 7.0061 - accuracy: 0.0017\n",
      "\n",
      "Epoch 00002: accuracy improved from 0.00000 to 0.00167, saving model to riset/fluent/2023/model_alif/dnn_model_weights_v1.3.h5\n",
      "Epoch 3/10\n",
      "38/38 [==============================] - 3s 82ms/step - loss: 6.1805 - accuracy: 0.0117\n",
      "\n",
      "Epoch 00003: accuracy improved from 0.00167 to 0.01169, saving model to riset/fluent/2023/model_alif/dnn_model_weights_v1.3.h5\n",
      "Epoch 4/10\n",
      "38/38 [==============================] - 3s 83ms/step - loss: 5.4446 - accuracy: 0.0284\n",
      "\n",
      "Epoch 00004: accuracy improved from 0.01169 to 0.02838, saving model to riset/fluent/2023/model_alif/dnn_model_weights_v1.3.h5\n",
      "Epoch 5/10\n",
      "38/38 [==============================] - 3s 83ms/step - loss: 5.0810 - accuracy: 0.0384\n",
      "\n",
      "Epoch 00005: accuracy improved from 0.02838 to 0.03840, saving model to riset/fluent/2023/model_alif/dnn_model_weights_v1.3.h5\n",
      "Epoch 6/10\n",
      "38/38 [==============================] - 3s 83ms/step - loss: 4.7965 - accuracy: 0.0551\n",
      "\n",
      "Epoch 00006: accuracy improved from 0.03840 to 0.05509, saving model to riset/fluent/2023/model_alif/dnn_model_weights_v1.3.h5\n",
      "Epoch 7/10\n",
      "38/38 [==============================] - 3s 83ms/step - loss: 4.6177 - accuracy: 0.0659\n",
      "\n",
      "Epoch 00007: accuracy improved from 0.05509 to 0.06594, saving model to riset/fluent/2023/model_alif/dnn_model_weights_v1.3.h5\n",
      "Epoch 8/10\n",
      "38/38 [==============================] - 3s 83ms/step - loss: 4.4160 - accuracy: 0.0751\n",
      "\n",
      "Epoch 00008: accuracy improved from 0.06594 to 0.07513, saving model to riset/fluent/2023/model_alif/dnn_model_weights_v1.3.h5\n",
      "Epoch 9/10\n",
      "38/38 [==============================] - 3s 83ms/step - loss: 4.2708 - accuracy: 0.0902\n",
      "\n",
      "Epoch 00009: accuracy improved from 0.07513 to 0.09015, saving model to riset/fluent/2023/model_alif/dnn_model_weights_v1.3.h5\n",
      "Epoch 10/10\n",
      "38/38 [==============================] - 3s 83ms/step - loss: 4.0963 - accuracy: 0.1060\n",
      "\n",
      "Epoch 00010: accuracy improved from 0.09015 to 0.10601, saving model to riset/fluent/2023/model_alif/dnn_model_weights_v1.3.h5\n"
     ]
    }
   ],
   "source": [
    "history_model_dnn = model_dnn.fit(x=doc_X, \n",
    "                       y=doc_Y,\n",
    "                       epochs=10,\n",
    "                       verbose=1,\n",
    "                       callbacks=[checkpoint, \n",
    "                               earlystopping])"
   ]
  },
  {
   "cell_type": "code",
   "execution_count": null,
   "metadata": {},
   "outputs": [],
   "source": []
  },
  {
   "cell_type": "code",
   "execution_count": 194,
   "metadata": {},
   "outputs": [],
   "source": [
    "model_dnn.load_weights('riset/fluent/2023/model_alif/model/dnn_model_weights.h5')"
   ]
  },
  {
   "cell_type": "code",
   "execution_count": 114,
   "metadata": {},
   "outputs": [
    {
     "data": {
      "image/png": "[encoded data removed]",
      "text/plain": [
       "<Figure size 720x288 with 1 Axes>"
      ]
     },
     "metadata": {},
     "output_type": "display_data"
    },
    {
     "data": {
      "image/png": "[encoded data removed]",
      "text/plain": [
       "<Figure size 720x288 with 1 Axes>"
      ]
     },
     "metadata": {},
     "output_type": "display_data"
    }
   ],
   "source": [
    "plt.plot(history_model_dnn.history['accuracy'])\n",
    "fig_size = plt.rcParams[\"figure.figsize\"]\n",
    "fig_size[0] = 10\n",
    "fig_size[1] = 4\n",
    "# plt.title('Model Accuracy over Epochs')\n",
    "plt.ylabel('Accuracy')\n",
    "plt.xlabel('Epoch')\n",
    "\n",
    "for i, acc in enumerate(history_model_dnn.history['accuracy']):\n",
    "    if i % 10 == 0 or i == len(history_model_dnn.history['accuracy']) - 1:\n",
    "        plt.annotate('{:.2f}'.format(acc), xy=(i, acc), xytext=(i, acc + 0.01))\n",
    "\n",
    "plt.show()\n",
    "\n",
    "plt.plot(history_model_dnn.history['loss'])\n",
    "fig_size = plt.rcParams[\"figure.figsize\"]\n",
    "fig_size[0] = 10\n",
    "fig_size[1] = 4\n",
    "# plt.title('Model CatCross Entropy Loss over Epochs')\n",
    "plt.ylabel('Loss')\n",
    "plt.xlabel('Epoch')\n",
    "plt.legend(['Train Loss'], loc='upper right')\n",
    "\n",
    "for i, loss in enumerate(history_model_dnn.history['loss']):\n",
    "    # print(\"Epoch\", i, \":\", loss)\n",
    "    if i % 10 == 0 or i == len(history_model_dnn.history['loss']) - 1:\n",
    "        plt.annotate(str(round(loss, 4)), xy=(i,loss), xytext=(i,loss))\n",
    "plt.show()"
   ]
  },
  {
   "cell_type": "markdown",
   "metadata": {},
   "source": [
    "## Test the chatbot"
   ]
  },
  {
   "cell_type": "code",
   "execution_count": 195,
   "metadata": {},
   "outputs": [],
   "source": [
    "import numpy as np\n",
    "\n",
    "def get_response_dnn(input_text):\n",
    "    class_tag = predict_class(input_text)\n",
    "    response = qa_paired_dnn[qa_paired_dnn['tag'] == class_tag].iloc[0].Jawaban.strip()\n",
    "    return response\n",
    "\n",
    "def predict_class(input_text):\n",
    "    question = preprocess_input(input_text)\n",
    "    pred = model_dnn.predict(question.reshape(1,20))\n",
    "    return encoder.inverse_transform(np.array(pred))[0][0]\n",
    "\n",
    "def preprocess_input(input_text):\n",
    "    input_text = input_text.lower()\n",
    "    input_text = re.sub('[^a-zA-Z]', ' ', input_text)\n",
    "    tokenized_text = tokenizer.texts_to_sequences([input_text])[0]\n",
    "    tokenized_text = pad_sequences([tokenized_text], maxlen=20, padding='post')[0]\n",
    "\n",
    "    return tokenized_text"
   ]
  },
  {
   "cell_type": "markdown",
   "metadata": {},
   "source": [
    "# Comparison Model"
   ]
  },
  {
   "cell_type": "markdown",
   "metadata": {},
   "source": [
    "## Learning Curve by Loss"
   ]
  },
  {
   "cell_type": "code",
   "execution_count": 103,
   "metadata": {},
   "outputs": [],
   "source": [
    "history_dnn = {\n",
    "    'accuracy': history_model_dnn.history['accuracy'],\n",
    "    'loss': history_model_dnn.history['loss']\n",
    "}\n",
    "\n",
    "history_rnn = {\n",
    "    'loss': history.history['loss']\n",
    "}\n",
    "\n",
    "with open('riset/fluent/2023/model_alif/history_dnn_13923.yaml', 'w') as file:\n",
    "    documents = yaml.dump(history_dnn, file)\n",
    "\n",
    "with open('riset/fluent/2023/model_alif/history_rnn_13923.yaml', 'w') as file:\n",
    "    documents = yaml.dump(history_rnn, file)"
   ]
  },
  {
   "cell_type": "code",
   "execution_count": 124,
   "metadata": {},
   "outputs": [
    {
     "data": {
      "image/png": "[encoded data removed]",
      "text/plain": [
       "<Figure size 720x360 with 1 Axes>"
      ]
     },
     "metadata": {},
     "output_type": "display_data"
    }
   ],
   "source": [
    "# remove whitegrid\n",
    "plt.style.use('bmh')\n",
    "\n",
    "fig_size = plt.rcParams[\"figure.figsize\"]\n",
    "fig_size[0] = 10\n",
    "fig_size[1] = 5\n",
    "\n",
    "loss_rnn = history.history['loss'][:94]\n",
    "loss_dnn = history_model_dnn.history['loss'][:94]\n",
    "\n",
    "plt.ylabel('Loss')\n",
    "plt.xlabel('Epoch')\n",
    "\n",
    "plt.plot(loss_rnn, label='RNN Model')\n",
    "plt.plot(loss_dnn, label='DNN Model')\n",
    "plt.legend()\n",
    "\n",
    "# Add value labels for every 20 epochs\n",
    "for i, loss in enumerate(loss_rnn):\n",
    "    if i % 10 == 0 or i == 93:\n",
    "        plt.annotate(str(round(loss, 2)), xy=(i, loss), xytext=(i, loss+0.1), ha='center')\n",
    "\n",
    "for i, loss in enumerate(loss_dnn):\n",
    "    if i % 10 == 0 or i == 93:\n",
    "        plt.annotate(str(round(loss, 2)), xy=(i, loss), xytext=(i, loss+0.1), ha='center')\n",
    "\n",
    "plt.show()"
   ]
  },
  {
   "cell_type": "markdown",
   "metadata": {},
   "source": [
    "## Answering Quesitons"
   ]
  },
  {
   "cell_type": "code",
   "execution_count": 293,
   "metadata": {},
   "outputs": [],
   "source": [
    "tables = pd.read_csv('riset/fluent/2023/model_alif/rnn_preds_answers.csv')\n",
    "tables.drop(columns=['pred_answers'], inplace=True)\n",
    "\n",
    "prompts = [\n",
    "    {\n",
    "        \"question\": \"email fajar pradana\",\n",
    "        \"expected\": tables[tables['questions'].str.contains(\"email fajar pradana\").fillna(False)].iloc[0].real_answers.strip()\n",
    "    },{\n",
    "        \"question\": \"kalender akademik\",\n",
    "        \"expected\": tables[tables['questions'].str.contains(\"kalender akademik\").fillna(False)].iloc[0].real_answers.strip()\n",
    "    },{\n",
    "        \"question\": \"informasi yudisium\",\n",
    "        \"expected\": tables[tables['questions'].str.contains(\"informasi yudisium\").fillna(False)].iloc[0].real_answers.strip()\n",
    "    },{\n",
    "        \"question\": \"apa itu laboratorium sistem cerdas\",\n",
    "        \"expected\": tables[tables['questions'].str.contains(\"laboratorium sistem cerdas\").fillna(False)].iloc[2].real_answers.strip()\n",
    "    },{\n",
    "        \"question\": \"ketua senat filkom\",\n",
    "        \"expected\": tables[tables['questions'].str.contains(\"ketua senat\").fillna(False)].iloc[0].real_answers.strip()\n",
    "    },{\n",
    "        \"question\": \"apa itu bcc\",\n",
    "        \"expected\": tables[tables['real_answers'].str.contains(\"bcc\").fillna(False)].iloc[1].real_answers.strip()\n",
    "    },{\n",
    "        \"question\": \"apa manfaat konseling di filkom\",\n",
    "        \"expected\": tables[tables['real_answers'].str.contains(\"terarah\").fillna(False)].iloc[0].real_answers.strip()\n",
    "    }\n",
    "\n",
    "]"
   ]
  },
  {
   "cell_type": "code",
   "execution_count": 294,
   "metadata": {},
   "outputs": [
    {
     "name": "stdout",
     "output_type": "stream",
     "text": [
      "WARNING:tensorflow:Model was constructed with shape (None, 294) for input KerasTensor(type_spec=TensorSpec(shape=(None, 294), dtype=tf.float32, name='input_2'), name='input_2', description=\"created by layer 'input_2'\"), but it was called on an input with incompatible shape (None, 1).\n",
      "WARNING:tensorflow:Model was constructed with shape (None, 294) for input KerasTensor(type_spec=TensorSpec(shape=(None, 294), dtype=tf.float32, name='input_2'), name='input_2', description=\"created by layer 'input_2'\"), but it was called on an input with incompatible shape (None, 1).\n",
      "WARNING:tensorflow:Model was constructed with shape (None, 294) for input KerasTensor(type_spec=TensorSpec(shape=(None, 294), dtype=tf.float32, name='input_2'), name='input_2', description=\"created by layer 'input_2'\"), but it was called on an input with incompatible shape (None, 1).\n",
      "WARNING:tensorflow:Model was constructed with shape (None, 294) for input KerasTensor(type_spec=TensorSpec(shape=(None, 294), dtype=tf.float32, name='input_2'), name='input_2', description=\"created by layer 'input_2'\"), but it was called on an input with incompatible shape (None, 1).\n",
      "WARNING:tensorflow:Model was constructed with shape (None, 294) for input KerasTensor(type_spec=TensorSpec(shape=(None, 294), dtype=tf.float32, name='input_2'), name='input_2', description=\"created by layer 'input_2'\"), but it was called on an input with incompatible shape (None, 1).\n",
      "WARNING:tensorflow:Model was constructed with shape (None, 294) for input KerasTensor(type_spec=TensorSpec(shape=(None, 294), dtype=tf.float32, name='input_2'), name='input_2', description=\"created by layer 'input_2'\"), but it was called on an input with incompatible shape (None, 1).\n",
      "WARNING:tensorflow:Model was constructed with shape (None, 294) for input KerasTensor(type_spec=TensorSpec(shape=(None, 294), dtype=tf.float32, name='input_2'), name='input_2', description=\"created by layer 'input_2'\"), but it was called on an input with incompatible shape (None, 1).\n"
     ]
    }
   ],
   "source": [
    "human_eval = pd.DataFrame(columns=['question', 'real_answers', 'rnn_answers', 'dnn_answers'])\n",
    "\n",
    "for prompt in prompts:\n",
    "    question = prompt['question']\n",
    "    real_answer = prompt['expected']\n",
    "\n",
    "    rnn_answer = get_response_rnn(question)\n",
    "    dnn_answer = get_response_dnn(question)\n",
    "\n",
    "    human_eval = human_eval.append({\n",
    "        'question': question,\n",
    "        'real_answers': real_answer,\n",
    "        'rnn_answers': rnn_answer,\n",
    "        'dnn_answers': dnn_answer\n",
    "    }, ignore_index=True)"
   ]
  },
  {
   "cell_type": "code",
   "execution_count": 295,
   "metadata": {},
   "outputs": [
    {
     "data": {
      "text/html": [
       "<div>\n",
       "<style scoped>\n",
       "    .dataframe tbody tr th:only-of-type {\n",
       "        vertical-align: middle;\n",
       "    }\n",
       "\n",
       "    .dataframe tbody tr th {\n",
       "        vertical-align: top;\n",
       "    }\n",
       "\n",
       "    .dataframe thead th {\n",
       "        text-align: right;\n",
       "    }\n",
       "</style>\n",
       "<table border=\"1\" class=\"dataframe\">\n",
       "  <thead>\n",
       "    <tr style=\"text-align: right;\">\n",
       "      <th></th>\n",
       "      <th>question</th>\n",
       "      <th>real_answers</th>\n",
       "      <th>rnn_answers</th>\n",
       "      <th>dnn_answers</th>\n",
       "    </tr>\n",
       "  </thead>\n",
       "  <tbody>\n",
       "    <tr>\n",
       "      <th>0</th>\n",
       "      <td>email fajar pradana</td>\n",
       "      <td>fajar p at ub ac id</td>\n",
       "      <td>fajar p at ub ac id end</td>\n",
       "      <td>bayu_priyambadha at ub ac id</td>\n",
       "    </tr>\n",
       "    <tr>\n",
       "      <th>1</th>\n",
       "      <td>kalender akademik</td>\n",
       "      <td>https filkom ub ac id pendidikan kalender akad...</td>\n",
       "      <td>https filkom ub ac id pendidikan kalender akad...</td>\n",
       "      <td>merdeka filkom merupakan portal merdeka belaja...</td>\n",
       "    </tr>\n",
       "    <tr>\n",
       "      <th>2</th>\n",
       "      <td>informasi yudisium</td>\n",
       "      <td>https filkom ub ac id wp content uploads 2021 ...</td>\n",
       "      <td>https filkom ub ac id wp content uploads 2021 ...</td>\n",
       "      <td>halofilkom merupakan platform ticketing yang d...</td>\n",
       "    </tr>\n",
       "    <tr>\n",
       "      <th>3</th>\n",
       "      <td>apa itu laboratorium sistem cerdas</td>\n",
       "      <td>laboratorium sistem cerdas merupakan salah sat...</td>\n",
       "      <td>laboratorium sistem cerdas merupakan salah sat...</td>\n",
       "      <td>laboratorium sistem cerdas merupakan salah sat...</td>\n",
       "    </tr>\n",
       "    <tr>\n",
       "      <th>4</th>\n",
       "      <td>ketua senat filkom</td>\n",
       "      <td>tri astoto kurniawan s t m t ph d</td>\n",
       "      <td>tri astoto kurniawan s t m t ph d end</td>\n",
       "      <td>https   filkom ub ac id wp content uploads 202...</td>\n",
       "    </tr>\n",
       "    <tr>\n",
       "      <th>5</th>\n",
       "      <td>apa itu bcc</td>\n",
       "      <td>bcc merupakan komunitas yang berada dibawah na...</td>\n",
       "      <td>bcc merupakan komunitas yang berada dibawah na...</td>\n",
       "      <td>laboratorium sistem cerdas merupakan salah sat...</td>\n",
       "    </tr>\n",
       "    <tr>\n",
       "      <th>6</th>\n",
       "      <td>apa manfaat konseling di filkom</td>\n",
       "      <td>1 masalah ditangani oleh ahli yang kompeten di...</td>\n",
       "      <td>1 masalah ditangani oleh ahli yang kompeten di...</td>\n",
       "      <td>nurudin santoso  s t   m t</td>\n",
       "    </tr>\n",
       "  </tbody>\n",
       "</table>\n",
       "</div>"
      ],
      "text/plain": [
       "                             question  \\\n",
       "0                 email fajar pradana   \n",
       "1                   kalender akademik   \n",
       "2                  informasi yudisium   \n",
       "3  apa itu laboratorium sistem cerdas   \n",
       "4                  ketua senat filkom   \n",
       "5                         apa itu bcc   \n",
       "6     apa manfaat konseling di filkom   \n",
       "\n",
       "                                        real_answers  \\\n",
       "0                                fajar p at ub ac id   \n",
       "1  https filkom ub ac id pendidikan kalender akad...   \n",
       "2  https filkom ub ac id wp content uploads 2021 ...   \n",
       "3  laboratorium sistem cerdas merupakan salah sat...   \n",
       "4                  tri astoto kurniawan s t m t ph d   \n",
       "5  bcc merupakan komunitas yang berada dibawah na...   \n",
       "6  1 masalah ditangani oleh ahli yang kompeten di...   \n",
       "\n",
       "                                         rnn_answers  \\\n",
       "0                            fajar p at ub ac id end   \n",
       "1  https filkom ub ac id pendidikan kalender akad...   \n",
       "2  https filkom ub ac id wp content uploads 2021 ...   \n",
       "3  laboratorium sistem cerdas merupakan salah sat...   \n",
       "4              tri astoto kurniawan s t m t ph d end   \n",
       "5  bcc merupakan komunitas yang berada dibawah na...   \n",
       "6  1 masalah ditangani oleh ahli yang kompeten di...   \n",
       "\n",
       "                                         dnn_answers  \n",
       "0                       bayu_priyambadha at ub ac id  \n",
       "1  merdeka filkom merupakan portal merdeka belaja...  \n",
       "2  halofilkom merupakan platform ticketing yang d...  \n",
       "3  laboratorium sistem cerdas merupakan salah sat...  \n",
       "4  https   filkom ub ac id wp content uploads 202...  \n",
       "5  laboratorium sistem cerdas merupakan salah sat...  \n",
       "6                         nurudin santoso  s t   m t  "
      ]
     },
     "execution_count": 295,
     "metadata": {},
     "output_type": "execute_result"
    }
   ],
   "source": [
    "human_eval.to_csv('riset/fluent/2023/model_alif/human_eval.csv', index=False)\n",
    "human_eval"
   ]
  },
  {
   "cell_type": "code",
   "execution_count": 306,
   "metadata": {},
   "outputs": [],
   "source": [
    "from sklearn.feature_extraction.text import CountVectorizer\n",
    "from sklearn.metrics.pairwise import cosine_similarity\n",
    "\n",
    "def cosine_similarity_strings(str1, str2):\n",
    "    # create a CountVectorizer object\n",
    "    vectorizer = CountVectorizer()\n",
    "\n",
    "    # create a matrix of word counts for each string\n",
    "    matrix = vectorizer.fit_transform([str1, str2])\n",
    "\n",
    "    # calculate the cosine similarity between the two strings\n",
    "    cosine_sim = cosine_similarity(matrix[0], matrix[1])[0][0]\n",
    "\n",
    "    return cosine_sim\n"
   ]
  },
  {
   "cell_type": "code",
   "execution_count": 304,
   "metadata": {},
   "outputs": [],
   "source": [
    "human_eval_results = pd.DataFrame(columns=['prompt', 'rnn_valid', 'dnn_valid'])\n",
    "\n",
    "for res in human_eval.iterrows():\n",
    "    prompt = res[1].question\n",
    "    real_answer = res[1].real_answers\n",
    "    rnn_words = res[1].rnn_answers.split()\n",
    "    rnn_count = 0\n",
    "    dnn_words = res[1].dnn_answers.split()\n",
    "    dnn_count = 0\n",
    "    for word in rnn_words:\n",
    "        if word in real_answer:\n",
    "            rnn_count += 1\n",
    "    for word in dnn_words:\n",
    "        if word in real_answer:\n",
    "            dnn_count += 1\n",
    "    threshold = len(real_answer.split()) * 0.7\n",
    "    rnn_result = rnn_count >= threshold\n",
    "    dnn_result = dnn_count >= threshold\n",
    "    human_eval_results = human_eval_results.append({\n",
    "        'prompt': prompt,\n",
    "        'rnn_valid': rnn_result,\n",
    "        'dnn_valid': dnn_result\n",
    "    }, ignore_index=True)"
   ]
  },
  {
   "cell_type": "code",
   "execution_count": 305,
   "metadata": {},
   "outputs": [
    {
     "data": {
      "text/html": [
       "<div>\n",
       "<style scoped>\n",
       "    .dataframe tbody tr th:only-of-type {\n",
       "        vertical-align: middle;\n",
       "    }\n",
       "\n",
       "    .dataframe tbody tr th {\n",
       "        vertical-align: top;\n",
       "    }\n",
       "\n",
       "    .dataframe thead th {\n",
       "        text-align: right;\n",
       "    }\n",
       "</style>\n",
       "<table border=\"1\" class=\"dataframe\">\n",
       "  <thead>\n",
       "    <tr style=\"text-align: right;\">\n",
       "      <th></th>\n",
       "      <th>prompt</th>\n",
       "      <th>rnn_valid</th>\n",
       "      <th>dnn_valid</th>\n",
       "    </tr>\n",
       "  </thead>\n",
       "  <tbody>\n",
       "    <tr>\n",
       "      <th>0</th>\n",
       "      <td>email fajar pradana</td>\n",
       "      <td>True</td>\n",
       "      <td>False</td>\n",
       "    </tr>\n",
       "    <tr>\n",
       "      <th>1</th>\n",
       "      <td>kalender akademik</td>\n",
       "      <td>True</td>\n",
       "      <td>False</td>\n",
       "    </tr>\n",
       "    <tr>\n",
       "      <th>2</th>\n",
       "      <td>informasi yudisium</td>\n",
       "      <td>True</td>\n",
       "      <td>False</td>\n",
       "    </tr>\n",
       "    <tr>\n",
       "      <th>3</th>\n",
       "      <td>apa itu laboratorium sistem cerdas</td>\n",
       "      <td>True</td>\n",
       "      <td>True</td>\n",
       "    </tr>\n",
       "    <tr>\n",
       "      <th>4</th>\n",
       "      <td>ketua senat filkom</td>\n",
       "      <td>True</td>\n",
       "      <td>False</td>\n",
       "    </tr>\n",
       "    <tr>\n",
       "      <th>5</th>\n",
       "      <td>apa itu bcc</td>\n",
       "      <td>True</td>\n",
       "      <td>False</td>\n",
       "    </tr>\n",
       "    <tr>\n",
       "      <th>6</th>\n",
       "      <td>apa manfaat konseling di filkom</td>\n",
       "      <td>True</td>\n",
       "      <td>False</td>\n",
       "    </tr>\n",
       "  </tbody>\n",
       "</table>\n",
       "</div>"
      ],
      "text/plain": [
       "                               prompt rnn_valid dnn_valid\n",
       "0                 email fajar pradana      True     False\n",
       "1                   kalender akademik      True     False\n",
       "2                  informasi yudisium      True     False\n",
       "3  apa itu laboratorium sistem cerdas      True      True\n",
       "4                  ketua senat filkom      True     False\n",
       "5                         apa itu bcc      True     False\n",
       "6     apa manfaat konseling di filkom      True     False"
      ]
     },
     "execution_count": 305,
     "metadata": {},
     "output_type": "execute_result"
    }
   ],
   "source": [
    "\n",
    "human_eval_results"
   ]
  },
  {
   "cell_type": "code",
   "execution_count": 199,
   "metadata": {},
   "outputs": [],
   "source": [
    "intent = [\n",
    "    \"Email fajar pradana\",\n",
    "    \"info kalender akademik\",\n",
    "    \"informasi yudisium\" ,\n",
    "    \"surat edaran skripsi\",\n",
    "    \"laboratorium sistem cerdas\"\n",
    "]"
   ]
  },
  {
   "cell_type": "code",
   "execution_count": 217,
   "metadata": {},
   "outputs": [
    {
     "name": "stdout",
     "output_type": "stream",
     "text": [
      "Pertanyaan :  Halo, anda adalah seorang mahasiswa yang juga merupakan pengurus BEM FILKOM UB. Anda betugas sebagai pengurus advokasi yang juga menjadi penghubung atas segala informasi terkait akademik dan kebijakan-kebijakan yang baru saja diupdate dan berlaku. Pada kasus kali ini, anda diminta untuk menjadi penghubung antara mahasiswa semester akhir dan salah satu dosen yang bertugas untuk membimbingnya mengerjakan skripsi, yaitu Pak Fajar Pradana. Tolong carikan seluruh kontak media sosial Pak Fajar Pradana yang dapat dihubungi, setidaknya alamat emailnya.\n",
      "WARNING:tensorflow:Model was constructed with shape (None, 294) for input KerasTensor(type_spec=TensorSpec(shape=(None, 294), dtype=tf.float32, name='input_2'), name='input_2', description=\"created by layer 'input_2'\"), but it was called on an input with incompatible shape (None, 1).\n",
      "Jawaban RNN :  fajar p at ub ac id end\n",
      "Jawaban DNN :  tugas utama gjm adalah melakukan penjaminan mutu akademik internal untuk mencapai beberapa tujuan sebagai berikut  \n",
      "1  kesesuaian terhadap kebijakan akademik  standar akademik  peraturan akademik dan manual mutu akademik\n",
      "2  kepastian bahwa setiap siswa memiliki pengalaman belajar sesuai dengan spesifikasi program studi\n",
      "3  kepastian bahwa lulusan memiliki kompetensi sesuai dengan spesifikasi program studi\n",
      "4  fleksibilitas kurikulum untuk mengakomodasi kepentingan masing masing siswa untuk mengambil kursus lintas program studi atau fakultas\n",
      "5  relevansi program pendidikan dan penelitian dengan tuntutan masyarakat  perusahaan dan pemegang kepentingan\n",
      "6  pelaksanaan tri dharma perguruan tinggi untuk menjadi agent of change\n",
      "\n",
      "RNNScore :  g\n",
      "DNNScore :  p\n",
      "-------next intent--------\n",
      "Pertanyaan :  Sekarang tanggal 14 september 2023. Apa agenda akademik FILKOM UB yang sedang berlangung dan akan dilaksanakan dalam rentang 1 bulan ke depan\n",
      "WARNING:tensorflow:Model was constructed with shape (None, 294) for input KerasTensor(type_spec=TensorSpec(shape=(None, 294), dtype=tf.float32, name='input_2'), name='input_2', description=\"created by layer 'input_2'\"), but it was called on an input with incompatible shape (None, 1).\n",
      "Jawaban RNN :  https filkom ub ac id pendidikan kalender akademik end\n",
      "Jawaban DNN :  https   filkom ub ac id wp content uploads 2021 07 infografis sa scaled jpg\n",
      "\n",
      "RNNScore :  p\n",
      "DNNScore :  p\n",
      "-------next intent--------\n",
      "Pertanyaan :  Saya ingin mengambil melaksanakan ujian akhir sarjana. Tolong beritahu saya terkait informasi yudisium yang perlu saya ketahui\n",
      "WARNING:tensorflow:Model was constructed with shape (None, 294) for input KerasTensor(type_spec=TensorSpec(shape=(None, 294), dtype=tf.float32, name='input_2'), name='input_2', description=\"created by layer 'input_2'\"), but it was called on an input with incompatible shape (None, 1).\n",
      "Jawaban RNN :  https filkom ub ac id wp content uploads 2021 07 infografis yudisium jpg end\n",
      "Jawaban DNN :  halofilkom merupakan platform ticketing yang digunakan untuk menyampaikan pertanyaan seputar administratif dan akan dijawab oleh unit terkait\n",
      "\n",
      "RNNScore :  n\n",
      "DNNScore :  p\n",
      "-------next intent--------\n",
      "Pertanyaan :  Untuk semester ini, apakah terdapat perubahan kebijakan terkait skripsi?\n",
      "WARNING:tensorflow:Model was constructed with shape (None, 294) for input KerasTensor(type_spec=TensorSpec(shape=(None, 294), dtype=tf.float32, name='input_2'), name='input_2', description=\"created by layer 'input_2'\"), but it was called on an input with incompatible shape (None, 1).\n",
      "Jawaban RNN :  https filkom ub ac id wp content uploads 2021 07 3 1 400x875 jpg end\n",
      "Jawaban DNN :  1  masalah ditangani oleh ahli yang kompeten di bidangnya \n",
      "2  memberikan solusi yang lebih terarah dan profesional \n",
      "3  kerahasiaan identitas dan masalah terjaga\n",
      "\n",
      "RNNScore :  n\n",
      "DNNScore :  p\n",
      "-------next intent--------\n",
      "Pertanyaan :  Saya dengar terdapat fasilitas laboratorium-laboratorium FILKOM yang boleh digunakan secara bebas oleh mahasiswa. Karena saya ingin mempelajari dan mengembangkan sistem cerdas, tolong beritahu saya terkait laboratorium sistem cerdas FILKOM UB\n",
      "WARNING:tensorflow:Model was constructed with shape (None, 294) for input KerasTensor(type_spec=TensorSpec(shape=(None, 294), dtype=tf.float32, name='input_2'), name='input_2', description=\"created by layer 'input_2'\"), but it was called on an input with incompatible shape (None, 1).\n",
      "Jawaban RNN :  laboratorium sistem cerdas merupakan salah satu laboratorium komputer yang memfokuskan diri pada bidang pengembangan sistem cerdas di fakultas ilmu komputer universitas brawijaya filkom ub laboratorium sistem cerdas terletak di gedung f filkom ub adapun kegiatan yang dapat dilakukan dilingkup laboratorium sistem cerdas meliputi kegiatan praktikum penggunaan ruang laboratorium penggunaan laboratorium untuk penelitian dan kerjasama penelitian pengabdian masyarakat praktik pembelajaran diskusi simulasi pengerjaan skripsi sertifikasi atau sejenisnya fungsi utama dari laboratorium sebagai sarana untuk melakukan praktik atau penerapan atas teori penelitian dan pengembangan keilmuan di lingkungan filkom ub sehingga menjadi unsur penting dalam kegiatan pendidikan pengabdian dan penelitian end\n",
      "Jawaban DNN :  laboratorium sistem cerdas merupakan salah satu laboratorium komputer yang memfokuskan diri pada bidang pengembangan sistem cerdas di fakultas ilmu komputer universitas brawijaya  filkom ub   laboratorium sistem cerdas terletak di gedung f filkom ub  adapun kegiatan yang dapat dilakukan dilingkup laboratorium sistem cerdas meliputi kegiatan praktikum  penggunaan ruang laboratorium  penggunaan laboratorium untuk penelitian dan kerjasama penelitian  pengabdian masyarakat  praktik pembelajaran  diskusi  simulasi  pengerjaan skripsi  sertifikasi atau sejenisnya  fungsi utama dari laboratorium sebagai sarana untuk melakukan praktik atau penerapan atas teori  penelitian dan pengembangan keilmuan di lingkungan filkom ub  sehingga menjadi unsur penting dalam kegiatan pendidikan  pengabdian  dan penelitian\n",
      "\n",
      "RNNScore :  g\n",
      "DNNScore :  g\n",
      "-------next intent--------\n"
     ]
    }
   ],
   "source": [
    "rnn_scores_by_user = []\n",
    "dnn_scores_by_user = []\n",
    "\n",
    "user_questions = []\n",
    "\n",
    "for i in intent:\n",
    "    pertanyaan_user = input(\"Masukkan pertanyaan anda berdasarkan intent \" + i + \" : \")\n",
    "    user_questions.append(pertanyaan_user)\n",
    "    print(\"Pertanyaan : \", pertanyaan_user.strip())\n",
    "    print(\"Jawaban RNN : \", get_response_rnn(i))\n",
    "    print(\"Jawaban DNN : \", get_response_dnn(i))\n",
    "    print(\"\")\n",
    "    rnn_score = input(\"Bagaimana menurut anda jawaban RNN? (p: poor, n: neutral, g: good) : \")\n",
    "    dnn_score = input(\"Bagaimana menurut anda jawaban DNN? (p: poor, n: neutral, g: good) : \")\n",
    "    print(\"RNNScore : \", rnn_score)\n",
    "    print(\"DNNScore : \", dnn_score)\n",
    "    rnn_scores_by_user.append(rnn_score)\n",
    "    dnn_scores_by_user.append(dnn_score)\n",
    "    print(\"-------next intent--------\")\n"
   ]
  },
  {
   "cell_type": "code",
   "execution_count": 377,
   "metadata": {},
   "outputs": [
    {
     "data": {
      "text/html": [
       "<div>\n",
       "<style scoped>\n",
       "    .dataframe tbody tr th:only-of-type {\n",
       "        vertical-align: middle;\n",
       "    }\n",
       "\n",
       "    .dataframe tbody tr th {\n",
       "        vertical-align: top;\n",
       "    }\n",
       "\n",
       "    .dataframe thead th {\n",
       "        text-align: right;\n",
       "    }\n",
       "</style>\n",
       "<table border=\"1\" class=\"dataframe\">\n",
       "  <thead>\n",
       "    <tr style=\"text-align: right;\">\n",
       "      <th></th>\n",
       "      <th>intent</th>\n",
       "      <th>user_question</th>\n",
       "      <th>rnn_score</th>\n",
       "      <th>dnn_score</th>\n",
       "    </tr>\n",
       "  </thead>\n",
       "  <tbody>\n",
       "    <tr>\n",
       "      <th>0</th>\n",
       "      <td>Email fajar pradana</td>\n",
       "      <td>berikan saya email bapak fajar pradana</td>\n",
       "      <td>Positive</td>\n",
       "      <td>Negative</td>\n",
       "    </tr>\n",
       "    <tr>\n",
       "      <th>1</th>\n",
       "      <td>info kalender akademik</td>\n",
       "      <td>dimana saya dapat mengakses informasi kalender...</td>\n",
       "      <td>Positive</td>\n",
       "      <td>Negative</td>\n",
       "    </tr>\n",
       "    <tr>\n",
       "      <th>2</th>\n",
       "      <td>informasi yudisium</td>\n",
       "      <td>kapan jadwal pelaksanaan yudisium FILKOM UB</td>\n",
       "      <td>Negative</td>\n",
       "      <td>Negative</td>\n",
       "    </tr>\n",
       "    <tr>\n",
       "      <th>3</th>\n",
       "      <td>surat edaran skripsi</td>\n",
       "      <td>berikan saya informasi mengenai surat edaran s...</td>\n",
       "      <td>Negative</td>\n",
       "      <td>Negative</td>\n",
       "    </tr>\n",
       "    <tr>\n",
       "      <th>4</th>\n",
       "      <td>laboratorium sistem cerdas</td>\n",
       "      <td>apa itu laboratorium sistem cerdas</td>\n",
       "      <td>Positive</td>\n",
       "      <td>Positive</td>\n",
       "    </tr>\n",
       "  </tbody>\n",
       "</table>\n",
       "</div>"
      ],
      "text/plain": [
       "                       intent  \\\n",
       "0         Email fajar pradana   \n",
       "1      info kalender akademik   \n",
       "2          informasi yudisium   \n",
       "3        surat edaran skripsi   \n",
       "4  laboratorium sistem cerdas   \n",
       "\n",
       "                                       user_question rnn_score dnn_score  \n",
       "0             berikan saya email bapak fajar pradana  Positive  Negative  \n",
       "1  dimana saya dapat mengakses informasi kalender...  Positive  Negative  \n",
       "2        kapan jadwal pelaksanaan yudisium FILKOM UB  Negative  Negative  \n",
       "3  berikan saya informasi mengenai surat edaran s...  Negative  Negative  \n",
       "4                 apa itu laboratorium sistem cerdas  Positive  Positive  "
      ]
     },
     "execution_count": 377,
     "metadata": {},
     "output_type": "execute_result"
    }
   ],
   "source": [
    "# pengujian pertama\n",
    "user_eval = pd.DataFrame(columns=['intent', 'user_question', 'rnn_score', 'dnn_score'])\n",
    "\n",
    "def translate_score(score):\n",
    "    if score == 'p':\n",
    "        return 'Positive'\n",
    "    elif score == 'n':\n",
    "        return 'Negative'\n",
    "    else:\n",
    "        return 'Neutral'\n",
    "\n",
    "for i in range(len(intent)):\n",
    "    user_eval = user_eval.append({\n",
    "        'intent': intent[i],\n",
    "        'user_question': user_questions[i],\n",
    "        'rnn_score': translate_score(rnn_scores_by_user[i]),\n",
    "        'dnn_score': translate_score(dnn_scores_by_user[i])\n",
    "    }, ignore_index=True)  \n",
    "\n",
    "user_eval "
   ]
  },
  {
   "cell_type": "code",
   "execution_count": 215,
   "metadata": {},
   "outputs": [
    {
     "data": {
      "text/html": [
       "<div>\n",
       "<style scoped>\n",
       "    .dataframe tbody tr th:only-of-type {\n",
       "        vertical-align: middle;\n",
       "    }\n",
       "\n",
       "    .dataframe tbody tr th {\n",
       "        vertical-align: top;\n",
       "    }\n",
       "\n",
       "    .dataframe thead th {\n",
       "        text-align: right;\n",
       "    }\n",
       "</style>\n",
       "<table border=\"1\" class=\"dataframe\">\n",
       "  <thead>\n",
       "    <tr style=\"text-align: right;\">\n",
       "      <th></th>\n",
       "      <th>intent</th>\n",
       "      <th>user_question</th>\n",
       "      <th>rnn_score</th>\n",
       "      <th>dnn_score</th>\n",
       "    </tr>\n",
       "  </thead>\n",
       "  <tbody>\n",
       "    <tr>\n",
       "      <th>0</th>\n",
       "      <td>Email fajar pradana</td>\n",
       "      <td>apa email fajar pradana ?</td>\n",
       "      <td>good</td>\n",
       "      <td>poor</td>\n",
       "    </tr>\n",
       "    <tr>\n",
       "      <th>1</th>\n",
       "      <td>info kalender akademik</td>\n",
       "      <td>kapan waktu pelaksanaan UTS dan UAS ?</td>\n",
       "      <td>good</td>\n",
       "      <td>poor</td>\n",
       "    </tr>\n",
       "    <tr>\n",
       "      <th>2</th>\n",
       "      <td>informasi yudisium</td>\n",
       "      <td>kapan pelaksanaan yudisium ?</td>\n",
       "      <td>neutral</td>\n",
       "      <td>poor</td>\n",
       "    </tr>\n",
       "    <tr>\n",
       "      <th>3</th>\n",
       "      <td>surat edaran skripsi</td>\n",
       "      <td>kapan pelaksanaan skripsi ?</td>\n",
       "      <td>good</td>\n",
       "      <td>poor</td>\n",
       "    </tr>\n",
       "    <tr>\n",
       "      <th>4</th>\n",
       "      <td>laboratorium sistem cerdas</td>\n",
       "      <td>kapan pelaksanaan praktikum di laboratorium si...</td>\n",
       "      <td>neutral</td>\n",
       "      <td>neutral</td>\n",
       "    </tr>\n",
       "  </tbody>\n",
       "</table>\n",
       "</div>"
      ],
      "text/plain": [
       "                       intent  \\\n",
       "0         Email fajar pradana   \n",
       "1      info kalender akademik   \n",
       "2          informasi yudisium   \n",
       "3        surat edaran skripsi   \n",
       "4  laboratorium sistem cerdas   \n",
       "\n",
       "                                       user_question rnn_score dnn_score  \n",
       "0                          apa email fajar pradana ?      good      poor  \n",
       "1              kapan waktu pelaksanaan UTS dan UAS ?      good      poor  \n",
       "2                       kapan pelaksanaan yudisium ?   neutral      poor  \n",
       "3                        kapan pelaksanaan skripsi ?      good      poor  \n",
       "4  kapan pelaksanaan praktikum di laboratorium si...   neutral   neutral  "
      ]
     },
     "execution_count": 215,
     "metadata": {},
     "output_type": "execute_result"
    }
   ],
   "source": [
    "# pengujian kedua\n",
    "user_eval = pd.DataFrame(columns=['intent', 'user_question', 'rnn_score', 'dnn_score'])\n",
    "\n",
    "def translate_score(score):\n",
    "    if score == 'p':\n",
    "        return 'poor'\n",
    "    elif score == 'n':\n",
    "        return 'neutral'\n",
    "    else:\n",
    "        return 'good'\n",
    "\n",
    "for i in range(len(intent)):\n",
    "    user_eval = user_eval.append({\n",
    "        'intent': intent[i],\n",
    "        'user_question': user_questions[i],\n",
    "        'rnn_score': translate_score(rnn_scores_by_user[i]),\n",
    "        'dnn_score': translate_score(dnn_scores_by_user[i])\n",
    "    }, ignore_index=True)  \n",
    "\n",
    "user_eval "
   ]
  },
  {
   "cell_type": "code",
   "execution_count": 218,
   "metadata": {},
   "outputs": [
    {
     "data": {
      "text/html": [
       "<div>\n",
       "<style scoped>\n",
       "    .dataframe tbody tr th:only-of-type {\n",
       "        vertical-align: middle;\n",
       "    }\n",
       "\n",
       "    .dataframe tbody tr th {\n",
       "        vertical-align: top;\n",
       "    }\n",
       "\n",
       "    .dataframe thead th {\n",
       "        text-align: right;\n",
       "    }\n",
       "</style>\n",
       "<table border=\"1\" class=\"dataframe\">\n",
       "  <thead>\n",
       "    <tr style=\"text-align: right;\">\n",
       "      <th></th>\n",
       "      <th>intent</th>\n",
       "      <th>user_question</th>\n",
       "      <th>rnn_score</th>\n",
       "      <th>dnn_score</th>\n",
       "    </tr>\n",
       "  </thead>\n",
       "  <tbody>\n",
       "    <tr>\n",
       "      <th>0</th>\n",
       "      <td>Email fajar pradana</td>\n",
       "      <td>Halo, anda adalah seorang mahasiswa yang juga ...</td>\n",
       "      <td>good</td>\n",
       "      <td>poor</td>\n",
       "    </tr>\n",
       "    <tr>\n",
       "      <th>1</th>\n",
       "      <td>info kalender akademik</td>\n",
       "      <td>Sekarang tanggal 14 september 2023. Apa agenda...</td>\n",
       "      <td>poor</td>\n",
       "      <td>poor</td>\n",
       "    </tr>\n",
       "    <tr>\n",
       "      <th>2</th>\n",
       "      <td>informasi yudisium</td>\n",
       "      <td>Saya ingin mengambil melaksanakan ujian akhir ...</td>\n",
       "      <td>neutral</td>\n",
       "      <td>poor</td>\n",
       "    </tr>\n",
       "    <tr>\n",
       "      <th>3</th>\n",
       "      <td>surat edaran skripsi</td>\n",
       "      <td>Untuk semester ini, apakah terdapat perubahan ...</td>\n",
       "      <td>neutral</td>\n",
       "      <td>poor</td>\n",
       "    </tr>\n",
       "    <tr>\n",
       "      <th>4</th>\n",
       "      <td>laboratorium sistem cerdas</td>\n",
       "      <td>Saya dengar terdapat fasilitas laboratorium-la...</td>\n",
       "      <td>good</td>\n",
       "      <td>good</td>\n",
       "    </tr>\n",
       "  </tbody>\n",
       "</table>\n",
       "</div>"
      ],
      "text/plain": [
       "                       intent  \\\n",
       "0         Email fajar pradana   \n",
       "1      info kalender akademik   \n",
       "2          informasi yudisium   \n",
       "3        surat edaran skripsi   \n",
       "4  laboratorium sistem cerdas   \n",
       "\n",
       "                                       user_question rnn_score dnn_score  \n",
       "0  Halo, anda adalah seorang mahasiswa yang juga ...      good      poor  \n",
       "1  Sekarang tanggal 14 september 2023. Apa agenda...      poor      poor  \n",
       "2  Saya ingin mengambil melaksanakan ujian akhir ...   neutral      poor  \n",
       "3  Untuk semester ini, apakah terdapat perubahan ...   neutral      poor  \n",
       "4  Saya dengar terdapat fasilitas laboratorium-la...      good      good  "
      ]
     },
     "execution_count": 218,
     "metadata": {},
     "output_type": "execute_result"
    }
   ],
   "source": [
    "# pengujian ketiga\n",
    "user_eval = pd.DataFrame(columns=['intent', 'user_question', 'rnn_score', 'dnn_score'])\n",
    "\n",
    "def translate_score(score):\n",
    "    if score == 'p':\n",
    "        return 'poor'\n",
    "    elif score == 'n':\n",
    "        return 'neutral'\n",
    "    else:\n",
    "        return 'good'\n",
    "\n",
    "for i in range(len(intent)):\n",
    "    user_eval = user_eval.append({\n",
    "        'intent': intent[i],\n",
    "        'user_question': user_questions[i],\n",
    "        'rnn_score': translate_score(rnn_scores_by_user[i]),\n",
    "        'dnn_score': translate_score(dnn_scores_by_user[i])\n",
    "    }, ignore_index=True)  \n",
    "\n",
    "user_eval "
   ]
  },
  {
   "cell_type": "markdown",
   "metadata": {},
   "source": [
    "## BLEU Score"
   ]
  },
  {
   "cell_type": "code",
   "execution_count": 27,
   "metadata": {},
   "outputs": [],
   "source": [
    "from nltk.translate.bleu_score import sentence_bleu\n",
    "\n",
    "def calculate_bleu(preds, questions, answers):\n",
    "    bleu_score_1 = 0\n",
    "    bleu_score_2 = 0\n",
    "    bleu_score_3 = 0\n",
    "    bleu_score_4 = 0\n",
    "    bleu_score_all = 0\n",
    "\n",
    "    num_of_rows_calculated = 0\n",
    "\n",
    "    for i, (question, real_answer) in enumerate(zip(questions, answers)):\n",
    "        try:\n",
    "            refs = [real_answer.split(' ')]\n",
    "            hyp = preds[i].split(' ')\n",
    "\n",
    "            bleu_score_1 += sentence_bleu(refs, hyp, weights=(1,0,0,0))\n",
    "            bleu_score_2 += sentence_bleu(refs, hyp, weights=(0,1,0,0))\n",
    "            bleu_score_3 += sentence_bleu(refs, hyp, weights=(0,0,1,0))\n",
    "            bleu_score_4 += sentence_bleu(refs, hyp, weights=(0,0,0,1))\n",
    "            bleu_score_all += sentence_bleu(refs, hyp, weights=(.25,.25,.25,.25))\n",
    "\n",
    "            num_of_rows_calculated+=1\n",
    "        except:\n",
    "            continue\n",
    "\n",
    "    results = {\"1-gram\": (bleu_score_1/num_of_rows_calculated),\n",
    "                \"2-gram\": (bleu_score_2/num_of_rows_calculated),\n",
    "                \"3-gram\": (bleu_score_3/num_of_rows_calculated),\n",
    "                \"4-gram\": (bleu_score_all/num_of_rows_calculated)}\n",
    "    \n",
    "    return results"
   ]
  },
  {
   "cell_type": "markdown",
   "metadata": {},
   "source": [
    "### RNN Scoring"
   ]
  },
  {
   "cell_type": "code",
   "execution_count": 228,
   "metadata": {},
   "outputs": [
    {
     "name": "stderr",
     "output_type": "stream",
     "text": [
      "/home/acrig/.local/lib/python3.6/site-packages/nltk/translate/bleu_score.py:552: UserWarning: \n",
      "The hypothesis contains 0 counts of 2-gram overlaps.\n",
      "Therefore the BLEU score evaluates to 0, independently of\n",
      "how many N-gram overlaps of lower order it contains.\n",
      "Consider using lower n-gram order or use SmoothingFunction()\n",
      "  warnings.warn(_msg)\n",
      "/home/acrig/.local/lib/python3.6/site-packages/nltk/translate/bleu_score.py:552: UserWarning: \n",
      "The hypothesis contains 0 counts of 3-gram overlaps.\n",
      "Therefore the BLEU score evaluates to 0, independently of\n",
      "how many N-gram overlaps of lower order it contains.\n",
      "Consider using lower n-gram order or use SmoothingFunction()\n",
      "  warnings.warn(_msg)\n",
      "/home/acrig/.local/lib/python3.6/site-packages/nltk/translate/bleu_score.py:552: UserWarning: \n",
      "The hypothesis contains 0 counts of 4-gram overlaps.\n",
      "Therefore the BLEU score evaluates to 0, independently of\n",
      "how many N-gram overlaps of lower order it contains.\n",
      "Consider using lower n-gram order or use SmoothingFunction()\n",
      "  warnings.warn(_msg)\n"
     ]
    }
   ],
   "source": [
    "tables = pd.read_csv('riset/fluent/2023/model_alif/rnn_preds_answers.csv')\n",
    "\n",
    "rnn_bleu = calculate_bleu(tables['pred_answers'], tables['questions'], tables['real_answers'])\n",
    "rnn_bleu['mean'] = np.mean(list(rnn_bleu.values()))"
   ]
  },
  {
   "cell_type": "code",
   "execution_count": 231,
   "metadata": {},
   "outputs": [
    {
     "data": {
      "image/png": "[encoded data removed]",
      "text/plain": [
       "<Figure size 720x360 with 1 Axes>"
      ]
     },
     "metadata": {},
     "output_type": "display_data"
    },
    {
     "data": {
      "text/plain": [
       "<Figure size 1440x720 with 0 Axes>"
      ]
     },
     "metadata": {},
     "output_type": "display_data"
    }
   ],
   "source": [
    "plt.style.use('bmh')\n",
    "plt.xlabel('BLEU Score')\n",
    "plt.ylabel('Score')\n",
    "for index, (key, value) in enumerate(rnn_bleu.items()):\n",
    "    if index == len(rnn_bleu.values()) - 1:\n",
    "        plt.bar(index, value, color='orange', hatch='//')\n",
    "    else:\n",
    "        plt.bar(index, value, color='orange')\n",
    "    plt.text(index, value, str(round(value, 4)))\n",
    "plt.xticks(range(len(rnn_bleu)), rnn_bleu.keys())\n",
    "plt.yticks(np.arange(0, 1.03, 0.2))\n",
    "plt.figure(figsize=(20, 10))\n",
    "plt.show()"
   ]
  },
  {
   "cell_type": "markdown",
   "metadata": {},
   "source": [
    "### DNN Scoring"
   ]
  },
  {
   "cell_type": "code",
   "execution_count": null,
   "metadata": {},
   "outputs": [],
   "source": [
    "dnn_preds_answers = []\n",
    "for question in tables['questions']:\n",
    "    try:\n",
    "        dnn_preds_answers.append(get_response_dnn(question))\n",
    "    except:\n",
    "        dnn_preds_answers.append('tidak mengerti input')\n",
    "        print(question)"
   ]
  },
  {
   "cell_type": "code",
   "execution_count": null,
   "metadata": {},
   "outputs": [],
   "source": [
    "dnn_bleu = calculate_bleu(dnn_preds_answers, tables['questions'], tables['real_answers'])\n",
    "dnn_bleu['mean'] = np.mean(list(dnn_bleu.values()))"
   ]
  },
  {
   "cell_type": "code",
   "execution_count": 30,
   "metadata": {},
   "outputs": [
    {
     "ename": "NameError",
     "evalue": "name 'dnn_bleu' is not defined",
     "output_type": "error",
     "traceback": [
      "\u001b[0;31m---------------------------------------------------------------------------\u001b[0m",
      "\u001b[0;31mNameError\u001b[0m                                 Traceback (most recent call last)",
      "\u001b[0;32m<ipython-input-30-135d0e547164>\u001b[0m in \u001b[0;36m<module>\u001b[0;34m\u001b[0m\n\u001b[1;32m      2\u001b[0m \u001b[0mplt\u001b[0m\u001b[0;34m.\u001b[0m\u001b[0mxlabel\u001b[0m\u001b[0;34m(\u001b[0m\u001b[0;34m'BLEU Score'\u001b[0m\u001b[0;34m)\u001b[0m\u001b[0;34m\u001b[0m\u001b[0;34m\u001b[0m\u001b[0m\n\u001b[1;32m      3\u001b[0m \u001b[0mplt\u001b[0m\u001b[0;34m.\u001b[0m\u001b[0mylabel\u001b[0m\u001b[0;34m(\u001b[0m\u001b[0;34m'Score'\u001b[0m\u001b[0;34m)\u001b[0m\u001b[0;34m\u001b[0m\u001b[0;34m\u001b[0m\u001b[0m\n\u001b[0;32m----> 4\u001b[0;31m \u001b[0;32mfor\u001b[0m \u001b[0mindex\u001b[0m\u001b[0;34m,\u001b[0m \u001b[0;34m(\u001b[0m\u001b[0mkey\u001b[0m\u001b[0;34m,\u001b[0m \u001b[0mvalue\u001b[0m\u001b[0;34m)\u001b[0m \u001b[0;32min\u001b[0m \u001b[0menumerate\u001b[0m\u001b[0;34m(\u001b[0m\u001b[0mdnn_bleu\u001b[0m\u001b[0;34m.\u001b[0m\u001b[0mitems\u001b[0m\u001b[0;34m(\u001b[0m\u001b[0;34m)\u001b[0m\u001b[0;34m)\u001b[0m\u001b[0;34m:\u001b[0m\u001b[0;34m\u001b[0m\u001b[0;34m\u001b[0m\u001b[0m\n\u001b[0m\u001b[1;32m      5\u001b[0m     \u001b[0;32mif\u001b[0m \u001b[0mindex\u001b[0m \u001b[0;34m==\u001b[0m \u001b[0mlen\u001b[0m\u001b[0;34m(\u001b[0m\u001b[0mdnn_bleu\u001b[0m\u001b[0;34m.\u001b[0m\u001b[0mvalues\u001b[0m\u001b[0;34m(\u001b[0m\u001b[0;34m)\u001b[0m\u001b[0;34m)\u001b[0m \u001b[0;34m-\u001b[0m \u001b[0;36m1\u001b[0m\u001b[0;34m:\u001b[0m\u001b[0;34m\u001b[0m\u001b[0;34m\u001b[0m\u001b[0m\n\u001b[1;32m      6\u001b[0m         \u001b[0mplt\u001b[0m\u001b[0;34m.\u001b[0m\u001b[0mbar\u001b[0m\u001b[0;34m(\u001b[0m\u001b[0mindex\u001b[0m\u001b[0;34m,\u001b[0m \u001b[0mvalue\u001b[0m\u001b[0;34m,\u001b[0m \u001b[0mcolor\u001b[0m\u001b[0;34m=\u001b[0m\u001b[0;34m'orange'\u001b[0m\u001b[0;34m,\u001b[0m \u001b[0mhatch\u001b[0m\u001b[0;34m=\u001b[0m\u001b[0;34m'//'\u001b[0m\u001b[0;34m)\u001b[0m\u001b[0;34m\u001b[0m\u001b[0;34m\u001b[0m\u001b[0m\n",
      "\u001b[0;31mNameError\u001b[0m: name 'dnn_bleu' is not defined"
     ]
    },
    {
     "data": {
      "image/png": "[encoded data removed]",
      "text/plain": [
       "<Figure size 432x288 with 1 Axes>"
      ]
     },
     "metadata": {
      "needs_background": "light"
     },
     "output_type": "display_data"
    }
   ],
   "source": [
    "plt.style.use('bmh')\n",
    "plt.xlabel('BLEU Score')\n",
    "plt.ylabel('Score')\n",
    "for index, (key, value) in enumerate(dnn_bleu.items()):\n",
    "    if index == len(dnn_bleu.values()) - 1:\n",
    "        plt.bar(index, value, color='orange', hatch='//')\n",
    "    else:\n",
    "        plt.bar(index, value, color='orange')\n",
    "    plt.text(index, value, str(round(value, 4)))\n",
    "plt.xticks(range(len(dnn_bleu)), dnn_bleu.keys())\n",
    "plt.yticks(np.arange(0, 1.03, 0.2))\n",
    "plt.figure(figsize=(20, 10))\n",
    "plt.show()"
   ]
  },
  {
   "cell_type": "markdown",
   "metadata": {},
   "source": [
    "### Comparison BLEU Score"
   ]
  },
  {
   "cell_type": "code",
   "execution_count": 29,
   "metadata": {},
   "outputs": [
    {
     "ename": "NameError",
     "evalue": "name 'rnn_bleu' is not defined",
     "output_type": "error",
     "traceback": [
      "\u001b[0;31m---------------------------------------------------------------------------\u001b[0m",
      "\u001b[0;31mNameError\u001b[0m                                 Traceback (most recent call last)",
      "\u001b[0;32m<ipython-input-29-c9eb467fd1fc>\u001b[0m in \u001b[0;36m<module>\u001b[0;34m\u001b[0m\n\u001b[1;32m      3\u001b[0m \u001b[0mplt\u001b[0m\u001b[0;34m.\u001b[0m\u001b[0mxlabel\u001b[0m\u001b[0;34m(\u001b[0m\u001b[0;34m'BLEU Score'\u001b[0m\u001b[0;34m)\u001b[0m\u001b[0;34m\u001b[0m\u001b[0;34m\u001b[0m\u001b[0m\n\u001b[1;32m      4\u001b[0m \u001b[0mplt\u001b[0m\u001b[0;34m.\u001b[0m\u001b[0mylabel\u001b[0m\u001b[0;34m(\u001b[0m\u001b[0;34m'Score'\u001b[0m\u001b[0;34m)\u001b[0m\u001b[0;34m\u001b[0m\u001b[0;34m\u001b[0m\u001b[0m\n\u001b[0;32m----> 5\u001b[0;31m \u001b[0;32mfor\u001b[0m \u001b[0mindex\u001b[0m\u001b[0;34m,\u001b[0m \u001b[0;34m(\u001b[0m\u001b[0mkey\u001b[0m\u001b[0;34m,\u001b[0m \u001b[0mvalue\u001b[0m\u001b[0;34m)\u001b[0m \u001b[0;32min\u001b[0m \u001b[0menumerate\u001b[0m\u001b[0;34m(\u001b[0m\u001b[0mrnn_bleu\u001b[0m\u001b[0;34m.\u001b[0m\u001b[0mitems\u001b[0m\u001b[0;34m(\u001b[0m\u001b[0;34m)\u001b[0m\u001b[0;34m)\u001b[0m\u001b[0;34m:\u001b[0m\u001b[0;34m\u001b[0m\u001b[0;34m\u001b[0m\u001b[0m\n\u001b[0m\u001b[1;32m      6\u001b[0m     \u001b[0;32mif\u001b[0m \u001b[0mindex\u001b[0m \u001b[0;34m==\u001b[0m \u001b[0mlen\u001b[0m\u001b[0;34m(\u001b[0m\u001b[0mrnn_bleu\u001b[0m\u001b[0;34m.\u001b[0m\u001b[0mvalues\u001b[0m\u001b[0;34m(\u001b[0m\u001b[0;34m)\u001b[0m\u001b[0;34m)\u001b[0m \u001b[0;34m-\u001b[0m \u001b[0;36m1\u001b[0m\u001b[0;34m:\u001b[0m\u001b[0;34m\u001b[0m\u001b[0;34m\u001b[0m\u001b[0m\n\u001b[1;32m      7\u001b[0m         \u001b[0mplt\u001b[0m\u001b[0;34m.\u001b[0m\u001b[0mbar\u001b[0m\u001b[0;34m(\u001b[0m\u001b[0mindex\u001b[0m\u001b[0;34m,\u001b[0m \u001b[0mvalue\u001b[0m\u001b[0;34m,\u001b[0m \u001b[0mcolor\u001b[0m\u001b[0;34m=\u001b[0m\u001b[0;34m'orange'\u001b[0m\u001b[0;34m,\u001b[0m \u001b[0mhatch\u001b[0m\u001b[0;34m=\u001b[0m\u001b[0;34m'//'\u001b[0m\u001b[0;34m,\u001b[0m \u001b[0mlabel\u001b[0m\u001b[0;34m=\u001b[0m\u001b[0;34m'RNN Model'\u001b[0m\u001b[0;34m)\u001b[0m\u001b[0;34m\u001b[0m\u001b[0;34m\u001b[0m\u001b[0m\n",
      "\u001b[0;31mNameError\u001b[0m: name 'rnn_bleu' is not defined"
     ]
    },
    {
     "data": {
      "image/png": "[encoded data removed]",
      "text/plain": [
       "<Figure size 432x288 with 1 Axes>"
      ]
     },
     "metadata": {
      "needs_background": "light"
     },
     "output_type": "display_data"
    }
   ],
   "source": [
    "# combine and compare two bleu score in grouped bar chart\n",
    "plt.style.use('bmh')\n",
    "plt.xlabel('BLEU Score')\n",
    "plt.ylabel('Score')\n",
    "for index, (key, value) in enumerate(rnn_bleu.items()):\n",
    "    if index == len(rnn_bleu.values()) - 1:\n",
    "        plt.bar(index, value, color='orange', hatch='//', label='RNN Model')\n",
    "    else:\n",
    "        plt.bar(index, value, color='orange', label='_nolegend_')\n",
    "    plt.text(index, value, str(round(value, 4)))\n",
    "for index, (key, value) in enumerate(dnn_bleu.items()):\n",
    "    if index == len(dnn_bleu.values()) - 1:\n",
    "        plt.bar(index+0.2, value, color='blue', hatch='//', label='DNN Model')\n",
    "    else:\n",
    "        plt.bar(index+0.2, value, color='blue', label='_nolegend_')\n",
    "    plt.text(index+0.2, value, str(round(value, 4)))\n",
    "plt.xticks(range(len(rnn_bleu)), rnn_bleu.keys())\n",
    "plt.yticks(np.arange(0, 1.03, 0.2))\n",
    "plt.legend()\n",
    "plt.figure(figsize=(20, 10))\n",
    "plt.show()"
   ]
  },
  {
   "cell_type": "code",
   "execution_count": 34,
   "metadata": {},
   "outputs": [
    {
     "data": {
      "image/png": "[encoded data removed]",
      "text/plain": [
       "<Figure size 720x360 with 1 Axes>"
      ]
     },
     "metadata": {
      "needs_background": "light"
     },
     "output_type": "display_data"
    },
    {
     "data": {
      "image/png": "[encoded data removed]",
      "text/plain": [
       "<Figure size 720x360 with 1 Axes>"
      ]
     },
     "metadata": {
      "needs_background": "light"
     },
     "output_type": "display_data"
    },
    {
     "data": {
      "text/plain": [
       "<Figure size 720x360 with 0 Axes>"
      ]
     },
     "metadata": {},
     "output_type": "display_data"
    }
   ],
   "source": [
    "import numpy as np\n",
    "import matplotlib.pyplot as plt\n",
    "\n",
    "bleuRNN = {'1-gram': 0.8813, '2-gram': 0.8581, '3-gram': 0.8153, '4-gram': 0.7293}\n",
    "bleuDNN = {'1-gram': 0.1812, '2-gram': 0.1361, '3-gram': 0.106, '4-gram': 0.0882}\n",
    "\n",
    "rnn_mean_bleu = np.mean(list(bleuRNN.values()))\n",
    "dnn_mean_bleu = np.mean(list(bleuDNN.values()))\n",
    "\n",
    "plt.figure(figsize=(10, 5))\n",
    "plt.style.use('bmh')\n",
    "plt.xlabel('BLEU Score')\n",
    "plt.ylabel('Score')\n",
    "for index, (key, value) in enumerate(bleuRNN.items()):\n",
    "    if index == len(bleuRNN.values()) - 1:\n",
    "        plt.bar(index, value, color='orange', label='LSTM Model')\n",
    "    else:\n",
    "        plt.bar(index, value, color='orange', label='_nolegend_')\n",
    "    plt.text(index, value, str(round(value, 4)))\n",
    "for index, (key, value) in enumerate(bleuDNN.items()):\n",
    "    if index == len(bleuDNN.values()) - 1:\n",
    "        plt.bar(index+0.2, value, color='blue', label='DNN Model')\n",
    "    else:\n",
    "        plt.bar(index+0.2, value, color='blue', label='_nolegend_')\n",
    "    plt.text(index+0.2, value, str(round(value, 4)))\n",
    "plt.xticks(range(len(bleuRNN)), bleuRNN.keys())\n",
    "plt.yticks(np.arange(0, 1.03, 0.2))\n",
    "plt.legend()\n",
    "plt.show()\n",
    "\n",
    "plt.style.use('bmh')\n",
    "plt.figure(figsize=(10, 5))\n",
    "plt.xlabel('Model')\n",
    "plt.ylabel('Mean BLEU Score')\n",
    "plt.bar('RNN', rnn_mean_bleu, color='orange', label='LSTM Model')\n",
    "plt.bar('DNN', dnn_mean_bleu, color='blue', label='DNN Model')\n",
    "plt.text(0, rnn_mean_bleu, str(round(rnn_mean_bleu, 4)))\n",
    "plt.text(1, dnn_mean_bleu, str(round(dnn_mean_bleu, 4)))\n",
    "plt.yticks(np.arange(0, 1.03, 0.2))\n",
    "plt.legend()\n",
    "plt.figure(figsize=(10, 5))\n",
    "plt.show()\n"
   ]
  }
 ],
 "metadata": {
  "kernelspec": {
   "display_name": "Python 3",
   "language": "python",
   "name": "python3"
  },
  "language_info": {
   "codemirror_mode": {
    "name": "ipython",
    "version": 3
   },
   "file_extension": ".py",
   "mimetype": "text/x-python",
   "name": "python",
   "nbconvert_exporter": "python",
   "pygments_lexer": "ipython3",
   "version": "3.6.9"
  },
  "orig_nbformat": 4
 },
 "nbformat": 4,
 "nbformat_minor": 2
}
