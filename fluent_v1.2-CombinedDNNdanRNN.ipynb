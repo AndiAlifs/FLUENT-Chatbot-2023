{
 "cells": [
  {
   "cell_type": "markdown",
   "metadata": {},
   "source": [
    "### Informasi Eksperimen\n",
    "FLUENT - ICONNIC\n",
    "\n",
    "\n",
    "DNN (non-cross val; param default) vs RNN (non-cross val; param default) + (2); (3); (4)\n",
    "\n",
    "(2) evaluasi dengan BLEU (3) analisa dengan 5 prompt pertanyaan yang dispesifikasikan dan 5 prompt bebas dari user (4) menujukkan hasil evaluasi hasil prompt bebas dengan kategori buruk netral baik\n",
    "\n",
    "Referensi tambahan:\n",
    "https://www.researchgate.net/publication/336203630_Indonesian_Chatbot_of_University_Admission_Using_a_Question_Answering_System_Based_on_Sequence-to-Sequence_Model"
   ]
  },
  {
   "cell_type": "code",
   "execution_count": 46,
   "metadata": {},
   "outputs": [],
   "source": [
    "import numpy as np\n",
    "import tensorflow as tf\n",
    "import pandas as pd\n",
    "from tensorflow.keras.models import Model, Sequential\n",
    "from tensorflow.keras.layers import Input, LSTM, Dense, Dropout\n",
    "from tensorflow.keras.preprocessing.text import Tokenizer\n",
    "from tensorflow.keras.callbacks import EarlyStopping, ModelCheckpoint\n",
    "from tensorflow.keras.preprocessing.sequence import pad_sequences\n",
    "from sklearn.preprocessing import OneHotEncoder\n",
    "from tensorflow.keras import preprocessing, utils\n",
    "import os\n",
    "import yaml"
   ]
  },
  {
   "cell_type": "markdown",
   "metadata": {},
   "source": [
    "# Retrieve data train"
   ]
  },
  {
   "cell_type": "code",
   "execution_count": 177,
   "metadata": {},
   "outputs": [
    {
     "data": {
      "text/html": [
       "<div>\n",
       "<style scoped>\n",
       "    .dataframe tbody tr th:only-of-type {\n",
       "        vertical-align: middle;\n",
       "    }\n",
       "\n",
       "    .dataframe tbody tr th {\n",
       "        vertical-align: top;\n",
       "    }\n",
       "\n",
       "    .dataframe thead th {\n",
       "        text-align: right;\n",
       "    }\n",
       "</style>\n",
       "<table border=\"1\" class=\"dataframe\">\n",
       "  <thead>\n",
       "    <tr style=\"text-align: right;\">\n",
       "      <th></th>\n",
       "      <th>No</th>\n",
       "      <th>Contributor</th>\n",
       "      <th>Topik/Tag</th>\n",
       "      <th>Pertanyaan</th>\n",
       "      <th>Jenis</th>\n",
       "      <th>Jawaban</th>\n",
       "      <th>Link Jawaban</th>\n",
       "      <th>Keterangan Tambahan</th>\n",
       "    </tr>\n",
       "  </thead>\n",
       "  <tbody>\n",
       "    <tr>\n",
       "      <th>0</th>\n",
       "      <td>0.0</td>\n",
       "      <td>Fitra</td>\n",
       "      <td>Informasi Dosen</td>\n",
       "      <td>email Fitra A. Bachtiar</td>\n",
       "      <td>Statis</td>\n",
       "      <td>fitra.bachtiar[at]ub.ac.id</td>\n",
       "      <td>https://filkom.ub.ac.id/sdm-dosen/?search_f7a8...</td>\n",
       "      <td>NaN</td>\n",
       "    </tr>\n",
       "    <tr>\n",
       "      <th>1</th>\n",
       "      <td>NaN</td>\n",
       "      <td>NaN</td>\n",
       "      <td>NaN</td>\n",
       "      <td>NIK/NIP Fitra A. Bachtiar</td>\n",
       "      <td>Statis</td>\n",
       "      <td>198406282019031006</td>\n",
       "      <td>NaN</td>\n",
       "      <td>NaN</td>\n",
       "    </tr>\n",
       "    <tr>\n",
       "      <th>2</th>\n",
       "      <td>NaN</td>\n",
       "      <td>NaN</td>\n",
       "      <td>NaN</td>\n",
       "      <td>nama lengkap Fitra A. Bachtiar</td>\n",
       "      <td>Statis</td>\n",
       "      <td>Dr.Eng. Fitra A. Bachtiar</td>\n",
       "      <td>https://filkom.ub.ac.id/sdm-dosen/?search_f7a8...</td>\n",
       "      <td>NaN</td>\n",
       "    </tr>\n",
       "    <tr>\n",
       "      <th>3</th>\n",
       "      <td>NaN</td>\n",
       "      <td>NaN</td>\n",
       "      <td>NaN</td>\n",
       "      <td>Departemen Fitra A. Bachtiar</td>\n",
       "      <td>Dinamis</td>\n",
       "      <td>Departemen Teknik Informatika</td>\n",
       "      <td>https://filkom.ub.ac.id/sdm-dosen/?search_f7a8...</td>\n",
       "      <td>NaN</td>\n",
       "    </tr>\n",
       "    <tr>\n",
       "      <th>4</th>\n",
       "      <td>NaN</td>\n",
       "      <td>NaN</td>\n",
       "      <td>NaN</td>\n",
       "      <td>Program Studi Fitra A. Bachtiar</td>\n",
       "      <td>Dinamis</td>\n",
       "      <td>S2 Ilmu Komputer</td>\n",
       "      <td>https://filkom.ub.ac.id/sdm-dosen/?search_f7a8...</td>\n",
       "      <td>NaN</td>\n",
       "    </tr>\n",
       "  </tbody>\n",
       "</table>\n",
       "</div>"
      ],
      "text/plain": [
       "    No Contributor        Topik/Tag                       Pertanyaan    Jenis  \\\n",
       "0  0.0       Fitra  Informasi Dosen          email Fitra A. Bachtiar   Statis   \n",
       "1  NaN         NaN              NaN        NIK/NIP Fitra A. Bachtiar   Statis   \n",
       "2  NaN         NaN              NaN   nama lengkap Fitra A. Bachtiar   Statis   \n",
       "3  NaN         NaN              NaN     Departemen Fitra A. Bachtiar  Dinamis   \n",
       "4  NaN         NaN              NaN  Program Studi Fitra A. Bachtiar  Dinamis   \n",
       "\n",
       "                         Jawaban  \\\n",
       "0     fitra.bachtiar[at]ub.ac.id   \n",
       "1             198406282019031006   \n",
       "2      Dr.Eng. Fitra A. Bachtiar   \n",
       "3  Departemen Teknik Informatika   \n",
       "4               S2 Ilmu Komputer   \n",
       "\n",
       "                                        Link Jawaban  Keterangan Tambahan  \n",
       "0  https://filkom.ub.ac.id/sdm-dosen/?search_f7a8...                  NaN  \n",
       "1                                                NaN                  NaN  \n",
       "2  https://filkom.ub.ac.id/sdm-dosen/?search_f7a8...                  NaN  \n",
       "3  https://filkom.ub.ac.id/sdm-dosen/?search_f7a8...                  NaN  \n",
       "4  https://filkom.ub.ac.id/sdm-dosen/?search_f7a8...                  NaN  "
      ]
     },
     "execution_count": 177,
     "metadata": {},
     "output_type": "execute_result"
    }
   ],
   "source": [
    "knowledgebase = pd.read_excel('https://raw.githubusercontent.com/AndiAlifs/FLUENT-Chatbot-2023/main/KnowledgeBaseFilkom.xlsx', engine='openpyxl')\n",
    "knowledgebase.head()"
   ]
  },
  {
   "cell_type": "code",
   "execution_count": 178,
   "metadata": {},
   "outputs": [
    {
     "data": {
      "text/html": [
       "<div>\n",
       "<style scoped>\n",
       "    .dataframe tbody tr th:only-of-type {\n",
       "        vertical-align: middle;\n",
       "    }\n",
       "\n",
       "    .dataframe tbody tr th {\n",
       "        vertical-align: top;\n",
       "    }\n",
       "\n",
       "    .dataframe thead th {\n",
       "        text-align: right;\n",
       "    }\n",
       "</style>\n",
       "<table border=\"1\" class=\"dataframe\">\n",
       "  <thead>\n",
       "    <tr style=\"text-align: right;\">\n",
       "      <th></th>\n",
       "      <th>Pertanyaan</th>\n",
       "      <th>Jawaban</th>\n",
       "    </tr>\n",
       "  </thead>\n",
       "  <tbody>\n",
       "    <tr>\n",
       "      <th>0</th>\n",
       "      <td>email Fitra A. Bachtiar</td>\n",
       "      <td>fitra.bachtiar[at]ub.ac.id</td>\n",
       "    </tr>\n",
       "    <tr>\n",
       "      <th>1</th>\n",
       "      <td>NIK/NIP Fitra A. Bachtiar</td>\n",
       "      <td>198406282019031006</td>\n",
       "    </tr>\n",
       "    <tr>\n",
       "      <th>2</th>\n",
       "      <td>nama lengkap Fitra A. Bachtiar</td>\n",
       "      <td>Dr.Eng. Fitra A. Bachtiar</td>\n",
       "    </tr>\n",
       "    <tr>\n",
       "      <th>3</th>\n",
       "      <td>Departemen Fitra A. Bachtiar</td>\n",
       "      <td>Departemen Teknik Informatika</td>\n",
       "    </tr>\n",
       "    <tr>\n",
       "      <th>4</th>\n",
       "      <td>Program Studi Fitra A. Bachtiar</td>\n",
       "      <td>S2 Ilmu Komputer</td>\n",
       "    </tr>\n",
       "    <tr>\n",
       "      <th>...</th>\n",
       "      <td>...</td>\n",
       "      <td>...</td>\n",
       "    </tr>\n",
       "    <tr>\n",
       "      <th>1229</th>\n",
       "      <td>Apa Manfaat Konseling FILKOM ?</td>\n",
       "      <td>1. Masalah ditangani oleh ahli yang kompeten d...</td>\n",
       "    </tr>\n",
       "    <tr>\n",
       "      <th>1230</th>\n",
       "      <td>Berikan informasi mengenai Layanan Konseling</td>\n",
       "      <td>Informasi mengenai Layanan Konseling dapat dia...</td>\n",
       "    </tr>\n",
       "    <tr>\n",
       "      <th>1231</th>\n",
       "      <td>Siapa Konselor Bimbingan dan Konseling di FILK...</td>\n",
       "      <td>Ada 2 konselor Bimbingan dan Konseling di FILK...</td>\n",
       "    </tr>\n",
       "    <tr>\n",
       "      <th>1232</th>\n",
       "      <td>Siapa Koordinator Konselor Sebaya ?</td>\n",
       "      <td>Koordinator Konselor Sebaya adalah Muhammad Da...</td>\n",
       "    </tr>\n",
       "    <tr>\n",
       "      <th>1233</th>\n",
       "      <td>Berikan Rincian Layanan ULTKSP</td>\n",
       "      <td>Rincian Layanan ULTKSP dapat diakses pada taut...</td>\n",
       "    </tr>\n",
       "  </tbody>\n",
       "</table>\n",
       "<p>1198 rows × 2 columns</p>\n",
       "</div>"
      ],
      "text/plain": [
       "                                             Pertanyaan  \\\n",
       "0                               email Fitra A. Bachtiar   \n",
       "1                             NIK/NIP Fitra A. Bachtiar   \n",
       "2                        nama lengkap Fitra A. Bachtiar   \n",
       "3                          Departemen Fitra A. Bachtiar   \n",
       "4                       Program Studi Fitra A. Bachtiar   \n",
       "...                                                 ...   \n",
       "1229                     Apa Manfaat Konseling FILKOM ?   \n",
       "1230       Berikan informasi mengenai Layanan Konseling   \n",
       "1231  Siapa Konselor Bimbingan dan Konseling di FILK...   \n",
       "1232                Siapa Koordinator Konselor Sebaya ?   \n",
       "1233                     Berikan Rincian Layanan ULTKSP   \n",
       "\n",
       "                                                Jawaban  \n",
       "0                            fitra.bachtiar[at]ub.ac.id  \n",
       "1                                    198406282019031006  \n",
       "2                             Dr.Eng. Fitra A. Bachtiar  \n",
       "3                         Departemen Teknik Informatika  \n",
       "4                                      S2 Ilmu Komputer  \n",
       "...                                                 ...  \n",
       "1229  1. Masalah ditangani oleh ahli yang kompeten d...  \n",
       "1230  Informasi mengenai Layanan Konseling dapat dia...  \n",
       "1231  Ada 2 konselor Bimbingan dan Konseling di FILK...  \n",
       "1232  Koordinator Konselor Sebaya adalah Muhammad Da...  \n",
       "1233  Rincian Layanan ULTKSP dapat diakses pada taut...  \n",
       "\n",
       "[1198 rows x 2 columns]"
      ]
     },
     "execution_count": 178,
     "metadata": {},
     "output_type": "execute_result"
    }
   ],
   "source": [
    "qa_paired = knowledgebase.drop(columns=knowledgebase.columns.drop(['Pertanyaan', 'Jawaban']))\n",
    "qa_paired.dropna(inplace=True)\n",
    "qa_paired"
   ]
  },
  {
   "cell_type": "markdown",
   "metadata": {},
   "source": [
    "# Implementasi RNN "
   ]
  },
  {
   "cell_type": "markdown",
   "metadata": {},
   "source": [
    "## Preprocessing Data"
   ]
  },
  {
   "cell_type": "code",
   "execution_count": 179,
   "metadata": {},
   "outputs": [],
   "source": [
    "# remove all the punctuation from qa_paired\n",
    "qa_paired['Pertanyaan'] = qa_paired['Pertanyaan'].str.replace('[^\\w\\s]',' ').str.lower()\n",
    "qa_paired['Jawaban'] = qa_paired['Jawaban'].str.replace('[^\\w\\s]',' ').str.lower()"
   ]
  },
  {
   "cell_type": "code",
   "execution_count": 180,
   "metadata": {},
   "outputs": [],
   "source": [
    "vocab = sorted(set(\" \".join(qa_paired['Pertanyaan'] +\" \" + qa_paired['Jawaban']).split()))"
   ]
  },
  {
   "cell_type": "code",
   "execution_count": 181,
   "metadata": {},
   "outputs": [
    {
     "name": "stdout",
     "output_type": "stream",
     "text": [
      "VOCAB SIZE : 2600\n"
     ]
    }
   ],
   "source": [
    "questions = qa_paired['Pertanyaan']\n",
    "\n",
    "answers = list()\n",
    "for i in range( len(qa_paired['Jawaban']) ) :\n",
    "    answers.append( '<START> ' + \" \".join(qa_paired['Jawaban'].iloc[i].split()) + ' <END>' )\n",
    "\n",
    "tokenizer = preprocessing.text.Tokenizer()\n",
    "tokenizer.fit_on_texts( questions + answers )\n",
    "VOCAB_SIZE = len( tokenizer.word_index )+1\n",
    "print( 'VOCAB SIZE : {}'.format( VOCAB_SIZE ))"
   ]
  },
  {
   "cell_type": "markdown",
   "metadata": {},
   "source": [
    "### Encoder-Decoder"
   ]
  },
  {
   "cell_type": "code",
   "execution_count": 182,
   "metadata": {},
   "outputs": [],
   "source": [
    "from gensim.models import Word2Vec\n",
    "import re"
   ]
  },
  {
   "cell_type": "code",
   "execution_count": 53,
   "metadata": {},
   "outputs": [],
   "source": [
    "vocab = []\n",
    "for word in tokenizer.word_index:\n",
    "  vocab.append(word)\n",
    "\n",
    "def tokenize(sentences):\n",
    "  tokens_list = []\n",
    "  vocabulary = []\n",
    "  for sentence in sentences:\n",
    "    sentence = sentence.lower()\n",
    "    sentence = re.sub('[^a-zA-Z]', ' ', sentence)\n",
    "    tokens = sentence.split()\n",
    "    vocabulary += tokens\n",
    "    tokens_list.append(tokens)\n",
    "  return tokens_list, vocabulary"
   ]
  },
  {
   "cell_type": "code",
   "execution_count": 54,
   "metadata": {},
   "outputs": [
    {
     "name": "stdout",
     "output_type": "stream",
     "text": [
      "(1198, 13) 13\n"
     ]
    }
   ],
   "source": [
    "#encoder_input_data\n",
    "tokenized_questions = tokenizer.texts_to_sequences( questions )\n",
    "maxlen_questions = max( [len(x) for x in tokenized_questions ] )\n",
    "padded_questions = preprocessing.sequence.pad_sequences( tokenized_questions, maxlen = maxlen_questions, padding = 'post')\n",
    "encoder_input_data = np.array(padded_questions)\n",
    "print(encoder_input_data.shape, maxlen_questions)"
   ]
  },
  {
   "cell_type": "code",
   "execution_count": 55,
   "metadata": {},
   "outputs": [
    {
     "name": "stdout",
     "output_type": "stream",
     "text": [
      "(1198, 294) 294\n"
     ]
    }
   ],
   "source": [
    "# decoder_input_data\n",
    "tokenized_answers = tokenizer.texts_to_sequences( answers )\n",
    "maxlen_answers = max( [ len(x) for x in tokenized_answers ] )\n",
    "padded_answers = preprocessing.sequence.pad_sequences( tokenized_answers , maxlen=maxlen_answers , padding='post' )\n",
    "decoder_input_data = np.array( padded_answers )\n",
    "print( decoder_input_data.shape , maxlen_answers )"
   ]
  },
  {
   "cell_type": "code",
   "execution_count": 56,
   "metadata": {},
   "outputs": [
    {
     "name": "stdout",
     "output_type": "stream",
     "text": [
      "(1198, 294, 2600)\n"
     ]
    }
   ],
   "source": [
    "# decoder_output_data\n",
    "tokenized_answers = tokenizer.texts_to_sequences( answers )\n",
    "for i in range(len(tokenized_answers)) :\n",
    "    tokenized_answers[i] = tokenized_answers[i][1:]\n",
    "padded_answers = preprocessing.sequence.pad_sequences( tokenized_answers , maxlen=maxlen_answers , padding='post' )\n",
    "onehot_answers = utils.to_categorical( padded_answers , VOCAB_SIZE )\n",
    "decoder_output_data = np.array( onehot_answers )\n",
    "print( decoder_output_data.shape )"
   ]
  },
  {
   "cell_type": "markdown",
   "metadata": {},
   "source": [
    "## Modelling"
   ]
  },
  {
   "cell_type": "code",
   "execution_count": 57,
   "metadata": {},
   "outputs": [],
   "source": [
    "from keras.callbacks import ModelCheckpoint\n",
    "from keras.callbacks import EarlyStopping\n",
    "\n",
    "# define the checkpoint\n",
    "checkpoint = ModelCheckpoint('riset/fluent/2023/model_alif/rnn_model_weights.h5', monitor='loss', verbose=1, save_best_only=True, mode='min')\n",
    "earlystopping = EarlyStopping(monitor='loss', patience=5, verbose=1, mode='min')"
   ]
  },
  {
   "cell_type": "code",
   "execution_count": 199,
   "metadata": {},
   "outputs": [],
   "source": [
    "# reset model\n",
    "tf.keras.backend.clear_session()"
   ]
  },
  {
   "cell_type": "code",
   "execution_count": 200,
   "metadata": {},
   "outputs": [
    {
     "name": "stdout",
     "output_type": "stream",
     "text": [
      "Model: \"model\"\n",
      "__________________________________________________________________________________________________\n",
      "Layer (type)                    Output Shape         Param #     Connected to                     \n",
      "==================================================================================================\n",
      "input_1 (InputLayer)            [(None, 13)]         0                                            \n",
      "__________________________________________________________________________________________________\n",
      "input_2 (InputLayer)            [(None, 294)]        0                                            \n",
      "__________________________________________________________________________________________________\n",
      "embedding (Embedding)           (None, 13, 500)      1300000     input_1[0][0]                    \n",
      "__________________________________________________________________________________________________\n",
      "embedding_1 (Embedding)         (None, 294, 500)     1300000     input_2[0][0]                    \n",
      "__________________________________________________________________________________________________\n",
      "lstm (LSTM)                     [(None, 500), (None, 2002000     embedding[0][0]                  \n",
      "__________________________________________________________________________________________________\n",
      "lstm_1 (LSTM)                   [(None, 294, 500), ( 2002000     embedding_1[0][0]                \n",
      "                                                                 lstm[0][1]                       \n",
      "                                                                 lstm[0][2]                       \n",
      "__________________________________________________________________________________________________\n",
      "dense (Dense)                   (None, 294, 2600)    1302600     lstm_1[0][0]                     \n",
      "==================================================================================================\n",
      "Total params: 7,906,600\n",
      "Trainable params: 7,906,600\n",
      "Non-trainable params: 0\n",
      "__________________________________________________________________________________________________\n"
     ]
    }
   ],
   "source": [
    "encoder_inputs = tf.keras.layers.Input(shape=( maxlen_questions , ))\n",
    "encoder_embedding = tf.keras.layers.Embedding( VOCAB_SIZE, 500 , mask_zero=True ) (encoder_inputs)\n",
    "encoder_outputs , state_h , state_c = tf.keras.layers.LSTM( 500 , return_state=True )( encoder_embedding )\n",
    "encoder_states = [ state_h , state_c ]\n",
    "\n",
    "decoder_inputs = tf.keras.layers.Input(shape=( maxlen_answers ,  ))\n",
    "decoder_embedding = tf.keras.layers.Embedding( VOCAB_SIZE, 500 , mask_zero=True) (decoder_inputs)\n",
    "decoder_lstm = tf.keras.layers.LSTM( 500 , return_state=True , return_sequences=True )\n",
    "decoder_outputs , _ , _ = decoder_lstm ( decoder_embedding , initial_state=encoder_states )\n",
    "decoder_dense = tf.keras.layers.Dense( VOCAB_SIZE , activation=tf.keras.activations.softmax ) \n",
    "output = decoder_dense ( decoder_outputs )\n",
    "\n",
    "model = tf.keras.models.Model([encoder_inputs, decoder_inputs], output )\n",
    "model.compile(optimizer=tf.keras.optimizers.RMSprop(), loss='categorical_crossentropy')\n",
    "\n",
    "model.summary()"
   ]
  },
  {
   "cell_type": "code",
   "execution_count": 60,
   "metadata": {},
   "outputs": [
    {
     "name": "stdout",
     "output_type": "stream",
     "text": [
      "Epoch 1/100\n",
      "24/24 [==============================] - 42s 1s/step - loss: 0.4441\n",
      "\n",
      "Epoch 00001: loss improved from inf to 0.44414, saving model to riset/fluent/2023/model_alif/model_weights_Seq2Seq.h5\n",
      "Epoch 2/100\n",
      "24/24 [==============================] - 35s 1s/step - loss: 0.3895\n",
      "\n",
      "Epoch 00002: loss improved from 0.44414 to 0.38950, saving model to riset/fluent/2023/model_alif/model_weights_Seq2Seq.h5\n",
      "Epoch 3/100\n",
      "24/24 [==============================] - 36s 1s/step - loss: 0.3575\n",
      "\n",
      "Epoch 00003: loss improved from 0.38950 to 0.35755, saving model to riset/fluent/2023/model_alif/model_weights_Seq2Seq.h5\n",
      "Epoch 4/100\n",
      "24/24 [==============================] - 36s 1s/step - loss: 0.3320\n",
      "\n",
      "Epoch 00004: loss improved from 0.35755 to 0.33197, saving model to riset/fluent/2023/model_alif/model_weights_Seq2Seq.h5\n",
      "Epoch 5/100\n",
      "24/24 [==============================] - 35s 1s/step - loss: 0.3098\n",
      "\n",
      "Epoch 00005: loss improved from 0.33197 to 0.30979, saving model to riset/fluent/2023/model_alif/model_weights_Seq2Seq.h5\n",
      "Epoch 6/100\n",
      "24/24 [==============================] - 35s 1s/step - loss: 0.2891\n",
      "\n",
      "Epoch 00006: loss improved from 0.30979 to 0.28910, saving model to riset/fluent/2023/model_alif/model_weights_Seq2Seq.h5\n",
      "Epoch 7/100\n",
      "24/24 [==============================] - 36s 1s/step - loss: 0.2711\n",
      "\n",
      "Epoch 00007: loss improved from 0.28910 to 0.27114, saving model to riset/fluent/2023/model_alif/model_weights_Seq2Seq.h5\n",
      "Epoch 8/100\n",
      "24/24 [==============================] - 35s 1s/step - loss: 0.2543\n",
      "\n",
      "Epoch 00008: loss improved from 0.27114 to 0.25433, saving model to riset/fluent/2023/model_alif/model_weights_Seq2Seq.h5\n",
      "Epoch 9/100\n",
      "24/24 [==============================] - 35s 1s/step - loss: 0.2396\n",
      "\n",
      "Epoch 00009: loss improved from 0.25433 to 0.23957, saving model to riset/fluent/2023/model_alif/model_weights_Seq2Seq.h5\n",
      "Epoch 10/100\n",
      "24/24 [==============================] - 36s 2s/step - loss: 0.2250\n",
      "\n",
      "Epoch 00010: loss improved from 0.23957 to 0.22498, saving model to riset/fluent/2023/model_alif/model_weights_Seq2Seq.h5\n",
      "Epoch 11/100\n",
      "24/24 [==============================] - 35s 1s/step - loss: 0.2121\n",
      "\n",
      "Epoch 00011: loss improved from 0.22498 to 0.21207, saving model to riset/fluent/2023/model_alif/model_weights_Seq2Seq.h5\n",
      "Epoch 12/100\n",
      "24/24 [==============================] - 35s 1s/step - loss: 0.2002\n",
      "\n",
      "Epoch 00012: loss improved from 0.21207 to 0.20018, saving model to riset/fluent/2023/model_alif/model_weights_Seq2Seq.h5\n",
      "Epoch 13/100\n",
      "24/24 [==============================] - 36s 1s/step - loss: 0.1885\n",
      "\n",
      "Epoch 00013: loss improved from 0.20018 to 0.18854, saving model to riset/fluent/2023/model_alif/model_weights_Seq2Seq.h5\n",
      "Epoch 14/100\n",
      "24/24 [==============================] - 36s 1s/step - loss: 0.1769\n",
      "\n",
      "Epoch 00014: loss improved from 0.18854 to 0.17693, saving model to riset/fluent/2023/model_alif/model_weights_Seq2Seq.h5\n",
      "Epoch 15/100\n",
      "24/24 [==============================] - 35s 1s/step - loss: 0.1664\n",
      "\n",
      "Epoch 00015: loss improved from 0.17693 to 0.16636, saving model to riset/fluent/2023/model_alif/model_weights_Seq2Seq.h5\n",
      "Epoch 16/100\n",
      "24/24 [==============================] - 35s 1s/step - loss: 0.1559\n",
      "\n",
      "Epoch 00016: loss improved from 0.16636 to 0.15586, saving model to riset/fluent/2023/model_alif/model_weights_Seq2Seq.h5\n",
      "Epoch 17/100\n",
      "24/24 [==============================] - 35s 1s/step - loss: 0.1467\n",
      "\n",
      "Epoch 00017: loss improved from 0.15586 to 0.14675, saving model to riset/fluent/2023/model_alif/model_weights_Seq2Seq.h5\n",
      "Epoch 18/100\n",
      "24/24 [==============================] - 34s 1s/step - loss: 0.1364\n",
      "\n",
      "Epoch 00018: loss improved from 0.14675 to 0.13643, saving model to riset/fluent/2023/model_alif/model_weights_Seq2Seq.h5\n",
      "Epoch 19/100\n",
      "24/24 [==============================] - 34s 1s/step - loss: 0.1274\n",
      "\n",
      "Epoch 00019: loss improved from 0.13643 to 0.12736, saving model to riset/fluent/2023/model_alif/model_weights_Seq2Seq.h5\n",
      "Epoch 20/100\n",
      "24/24 [==============================] - 35s 1s/step - loss: 0.1179\n",
      "\n",
      "Epoch 00020: loss improved from 0.12736 to 0.11788, saving model to riset/fluent/2023/model_alif/model_weights_Seq2Seq.h5\n",
      "Epoch 21/100\n",
      "24/24 [==============================] - 35s 1s/step - loss: 0.1107\n",
      "\n",
      "Epoch 00021: loss improved from 0.11788 to 0.11073, saving model to riset/fluent/2023/model_alif/model_weights_Seq2Seq.h5\n",
      "Epoch 22/100\n",
      "24/24 [==============================] - 34s 1s/step - loss: 0.1023\n",
      "\n",
      "Epoch 00022: loss improved from 0.11073 to 0.10229, saving model to riset/fluent/2023/model_alif/model_weights_Seq2Seq.h5\n",
      "Epoch 23/100\n",
      "24/24 [==============================] - 34s 1s/step - loss: 0.0943\n",
      "\n",
      "Epoch 00023: loss improved from 0.10229 to 0.09428, saving model to riset/fluent/2023/model_alif/model_weights_Seq2Seq.h5\n",
      "Epoch 24/100\n",
      "24/24 [==============================] - 34s 1s/step - loss: 0.0875\n",
      "\n",
      "Epoch 00024: loss improved from 0.09428 to 0.08752, saving model to riset/fluent/2023/model_alif/model_weights_Seq2Seq.h5\n",
      "Epoch 25/100\n",
      "24/24 [==============================] - 34s 1s/step - loss: 0.0808\n",
      "\n",
      "Epoch 00025: loss improved from 0.08752 to 0.08075, saving model to riset/fluent/2023/model_alif/model_weights_Seq2Seq.h5\n",
      "Epoch 26/100\n",
      "24/24 [==============================] - 34s 1s/step - loss: 0.0745\n",
      "\n",
      "Epoch 00026: loss improved from 0.08075 to 0.07454, saving model to riset/fluent/2023/model_alif/model_weights_Seq2Seq.h5\n",
      "Epoch 27/100\n",
      "24/24 [==============================] - 35s 1s/step - loss: 0.0681\n",
      "\n",
      "Epoch 00027: loss improved from 0.07454 to 0.06812, saving model to riset/fluent/2023/model_alif/model_weights_Seq2Seq.h5\n",
      "Epoch 28/100\n",
      "24/24 [==============================] - 35s 1s/step - loss: 0.0629\n",
      "\n",
      "Epoch 00028: loss improved from 0.06812 to 0.06292, saving model to riset/fluent/2023/model_alif/model_weights_Seq2Seq.h5\n",
      "Epoch 29/100\n",
      "24/24 [==============================] - 35s 1s/step - loss: 0.0569\n",
      "\n",
      "Epoch 00029: loss improved from 0.06292 to 0.05686, saving model to riset/fluent/2023/model_alif/model_weights_Seq2Seq.h5\n",
      "Epoch 30/100\n",
      "24/24 [==============================] - 34s 1s/step - loss: 0.0532\n",
      "\n",
      "Epoch 00030: loss improved from 0.05686 to 0.05323, saving model to riset/fluent/2023/model_alif/model_weights_Seq2Seq.h5\n",
      "Epoch 31/100\n",
      "24/24 [==============================] - 35s 1s/step - loss: 0.0488\n",
      "\n",
      "Epoch 00031: loss improved from 0.05323 to 0.04876, saving model to riset/fluent/2023/model_alif/model_weights_Seq2Seq.h5\n",
      "Epoch 32/100\n",
      "24/24 [==============================] - 35s 1s/step - loss: 0.0433\n",
      "\n",
      "Epoch 00032: loss improved from 0.04876 to 0.04329, saving model to riset/fluent/2023/model_alif/model_weights_Seq2Seq.h5\n",
      "Epoch 33/100\n",
      "24/24 [==============================] - 35s 1s/step - loss: 0.0402\n",
      "\n",
      "Epoch 00033: loss improved from 0.04329 to 0.04017, saving model to riset/fluent/2023/model_alif/model_weights_Seq2Seq.h5\n",
      "Epoch 34/100\n",
      "24/24 [==============================] - 35s 1s/step - loss: 0.0369\n",
      "\n",
      "Epoch 00034: loss improved from 0.04017 to 0.03693, saving model to riset/fluent/2023/model_alif/model_weights_Seq2Seq.h5\n",
      "Epoch 35/100\n",
      "24/24 [==============================] - 35s 1s/step - loss: 0.0324\n",
      "\n",
      "Epoch 00035: loss improved from 0.03693 to 0.03241, saving model to riset/fluent/2023/model_alif/model_weights_Seq2Seq.h5\n",
      "Epoch 36/100\n",
      "24/24 [==============================] - 35s 1s/step - loss: 0.0302\n",
      "\n",
      "Epoch 00036: loss improved from 0.03241 to 0.03024, saving model to riset/fluent/2023/model_alif/model_weights_Seq2Seq.h5\n",
      "Epoch 37/100\n",
      "24/24 [==============================] - 35s 1s/step - loss: 0.0274\n",
      "\n",
      "Epoch 00037: loss improved from 0.03024 to 0.02737, saving model to riset/fluent/2023/model_alif/model_weights_Seq2Seq.h5\n",
      "Epoch 38/100\n",
      "24/24 [==============================] - 35s 1s/step - loss: 0.0250\n",
      "\n",
      "Epoch 00038: loss improved from 0.02737 to 0.02500, saving model to riset/fluent/2023/model_alif/model_weights_Seq2Seq.h5\n",
      "Epoch 39/100\n",
      "24/24 [==============================] - 34s 1s/step - loss: 0.0225\n",
      "\n",
      "Epoch 00039: loss improved from 0.02500 to 0.02255, saving model to riset/fluent/2023/model_alif/model_weights_Seq2Seq.h5\n",
      "Epoch 40/100\n",
      "24/24 [==============================] - 34s 1s/step - loss: 0.0206\n",
      "\n",
      "Epoch 00040: loss improved from 0.02255 to 0.02062, saving model to riset/fluent/2023/model_alif/model_weights_Seq2Seq.h5\n",
      "Epoch 41/100\n",
      "24/24 [==============================] - 34s 1s/step - loss: 0.0186\n",
      "\n",
      "Epoch 00041: loss improved from 0.02062 to 0.01860, saving model to riset/fluent/2023/model_alif/model_weights_Seq2Seq.h5\n",
      "Epoch 42/100\n",
      "24/24 [==============================] - 34s 1s/step - loss: 0.0171\n",
      "\n",
      "Epoch 00042: loss improved from 0.01860 to 0.01714, saving model to riset/fluent/2023/model_alif/model_weights_Seq2Seq.h5\n",
      "Epoch 43/100\n",
      "24/24 [==============================] - 34s 1s/step - loss: 0.0151\n",
      "\n",
      "Epoch 00043: loss improved from 0.01714 to 0.01511, saving model to riset/fluent/2023/model_alif/model_weights_Seq2Seq.h5\n",
      "Epoch 44/100\n",
      "24/24 [==============================] - 35s 1s/step - loss: 0.0139\n",
      "\n",
      "Epoch 00044: loss improved from 0.01511 to 0.01393, saving model to riset/fluent/2023/model_alif/model_weights_Seq2Seq.h5\n",
      "Epoch 45/100\n",
      "24/24 [==============================] - 34s 1s/step - loss: 0.0125\n",
      "\n",
      "Epoch 00045: loss improved from 0.01393 to 0.01249, saving model to riset/fluent/2023/model_alif/model_weights_Seq2Seq.h5\n",
      "Epoch 46/100\n",
      "24/24 [==============================] - 35s 1s/step - loss: 0.0117\n",
      "\n",
      "Epoch 00046: loss improved from 0.01249 to 0.01174, saving model to riset/fluent/2023/model_alif/model_weights_Seq2Seq.h5\n",
      "Epoch 47/100\n",
      "24/24 [==============================] - 34s 1s/step - loss: 0.0106\n",
      "\n",
      "Epoch 00047: loss improved from 0.01174 to 0.01062, saving model to riset/fluent/2023/model_alif/model_weights_Seq2Seq.h5\n",
      "Epoch 48/100\n",
      "24/24 [==============================] - 32s 1s/step - loss: 0.0098\n",
      "\n",
      "Epoch 00048: loss improved from 0.01062 to 0.00980, saving model to riset/fluent/2023/model_alif/model_weights_Seq2Seq.h5\n",
      "Epoch 49/100\n",
      "24/24 [==============================] - 32s 1s/step - loss: 0.0088\n",
      "\n",
      "Epoch 00049: loss improved from 0.00980 to 0.00878, saving model to riset/fluent/2023/model_alif/model_weights_Seq2Seq.h5\n",
      "Epoch 50/100\n",
      "24/24 [==============================] - 32s 1s/step - loss: 0.0083\n",
      "\n",
      "Epoch 00050: loss improved from 0.00878 to 0.00834, saving model to riset/fluent/2023/model_alif/model_weights_Seq2Seq.h5\n",
      "Epoch 51/100\n",
      "24/24 [==============================] - 32s 1s/step - loss: 0.0076\n",
      "\n",
      "Epoch 00051: loss improved from 0.00834 to 0.00761, saving model to riset/fluent/2023/model_alif/model_weights_Seq2Seq.h5\n",
      "Epoch 52/100\n",
      "24/24 [==============================] - 32s 1s/step - loss: 0.0072\n",
      "\n",
      "Epoch 00052: loss improved from 0.00761 to 0.00716, saving model to riset/fluent/2023/model_alif/model_weights_Seq2Seq.h5\n",
      "Epoch 53/100\n",
      "24/24 [==============================] - 32s 1s/step - loss: 0.0066\n",
      "\n",
      "Epoch 00053: loss improved from 0.00716 to 0.00660, saving model to riset/fluent/2023/model_alif/model_weights_Seq2Seq.h5\n",
      "Epoch 54/100\n",
      "24/24 [==============================] - 32s 1s/step - loss: 0.0062\n",
      "\n",
      "Epoch 00054: loss improved from 0.00660 to 0.00617, saving model to riset/fluent/2023/model_alif/model_weights_Seq2Seq.h5\n",
      "Epoch 55/100\n",
      "24/24 [==============================] - 32s 1s/step - loss: 0.0058\n",
      "\n",
      "Epoch 00055: loss improved from 0.00617 to 0.00584, saving model to riset/fluent/2023/model_alif/model_weights_Seq2Seq.h5\n",
      "Epoch 56/100\n",
      "24/24 [==============================] - 33s 1s/step - loss: 0.0058\n",
      "\n",
      "Epoch 00056: loss improved from 0.00584 to 0.00578, saving model to riset/fluent/2023/model_alif/model_weights_Seq2Seq.h5\n",
      "Epoch 57/100\n",
      "24/24 [==============================] - 33s 1s/step - loss: 0.0052\n",
      "\n",
      "Epoch 00057: loss improved from 0.00578 to 0.00522, saving model to riset/fluent/2023/model_alif/model_weights_Seq2Seq.h5\n",
      "Epoch 58/100\n",
      "24/24 [==============================] - 32s 1s/step - loss: 0.0049\n",
      "\n",
      "Epoch 00058: loss improved from 0.00522 to 0.00493, saving model to riset/fluent/2023/model_alif/model_weights_Seq2Seq.h5\n",
      "Epoch 59/100\n",
      "24/24 [==============================] - 32s 1s/step - loss: 0.0046\n",
      "\n",
      "Epoch 00059: loss improved from 0.00493 to 0.00463, saving model to riset/fluent/2023/model_alif/model_weights_Seq2Seq.h5\n",
      "Epoch 60/100\n",
      "24/24 [==============================] - 32s 1s/step - loss: 0.0045\n",
      "\n",
      "Epoch 00060: loss improved from 0.00463 to 0.00454, saving model to riset/fluent/2023/model_alif/model_weights_Seq2Seq.h5\n",
      "Epoch 61/100\n",
      "24/24 [==============================] - 32s 1s/step - loss: 0.0042\n",
      "\n",
      "Epoch 00061: loss improved from 0.00454 to 0.00422, saving model to riset/fluent/2023/model_alif/model_weights_Seq2Seq.h5\n",
      "Epoch 62/100\n",
      "24/24 [==============================] - 32s 1s/step - loss: 0.0041\n",
      "\n",
      "Epoch 00062: loss improved from 0.00422 to 0.00411, saving model to riset/fluent/2023/model_alif/model_weights_Seq2Seq.h5\n",
      "Epoch 63/100\n",
      "24/24 [==============================] - 32s 1s/step - loss: 0.0041\n",
      "\n",
      "Epoch 00063: loss did not improve from 0.00411\n",
      "Epoch 64/100\n",
      "24/24 [==============================] - 32s 1s/step - loss: 0.0038\n",
      "\n",
      "Epoch 00064: loss improved from 0.00411 to 0.00378, saving model to riset/fluent/2023/model_alif/model_weights_Seq2Seq.h5\n",
      "Epoch 65/100\n",
      "24/24 [==============================] - 32s 1s/step - loss: 0.0037\n",
      "\n",
      "Epoch 00065: loss improved from 0.00378 to 0.00367, saving model to riset/fluent/2023/model_alif/model_weights_Seq2Seq.h5\n",
      "Epoch 66/100\n",
      "24/24 [==============================] - 33s 1s/step - loss: 0.0035\n",
      "\n",
      "Epoch 00066: loss improved from 0.00367 to 0.00353, saving model to riset/fluent/2023/model_alif/model_weights_Seq2Seq.h5\n",
      "Epoch 67/100\n",
      "24/24 [==============================] - 32s 1s/step - loss: 0.0036\n",
      "\n",
      "Epoch 00067: loss did not improve from 0.00353\n",
      "Epoch 68/100\n",
      "24/24 [==============================] - 32s 1s/step - loss: 0.0034\n",
      "\n",
      "Epoch 00068: loss improved from 0.00353 to 0.00340, saving model to riset/fluent/2023/model_alif/model_weights_Seq2Seq.h5\n",
      "Epoch 69/100\n",
      "24/24 [==============================] - 33s 1s/step - loss: 0.0031\n",
      "\n",
      "Epoch 00072: loss improved from 0.00317 to 0.00308, saving model to riset/fluent/2023/model_alif/model_weights_Seq2Seq.h5\n",
      "Epoch 73/100\n",
      "24/24 [==============================] - 33s 1s/step - loss: 0.0030\n",
      "\n",
      "Epoch 00073: loss improved from 0.00308 to 0.00303, saving model to riset/fluent/2023/model_alif/model_weights_Seq2Seq.h5\n",
      "Epoch 74/100\n",
      "24/24 [==============================] - 32s 1s/step - loss: 0.0030\n",
      "\n",
      "Epoch 00074: loss improved from 0.00303 to 0.00299, saving model to riset/fluent/2023/model_alif/model_weights_Seq2Seq.h5\n",
      "Epoch 75/100\n",
      "24/24 [==============================] - 32s 1s/step - loss: 0.0029\n",
      "\n",
      "Epoch 00075: loss improved from 0.00299 to 0.00288, saving model to riset/fluent/2023/model_alif/model_weights_Seq2Seq.h5\n",
      "Epoch 76/100\n",
      "24/24 [==============================] - 32s 1s/step - loss: 0.0029\n",
      "\n",
      "Epoch 00076: loss did not improve from 0.00288\n",
      "Epoch 77/100\n",
      "24/24 [==============================] - 32s 1s/step - loss: 0.0028\n",
      "\n",
      "Epoch 00077: loss improved from 0.00288 to 0.00279, saving model to riset/fluent/2023/model_alif/model_weights_Seq2Seq.h5\n",
      "Epoch 78/100\n",
      "24/24 [==============================] - 32s 1s/step - loss: 0.0027\n",
      "\n",
      "Epoch 00078: loss improved from 0.00279 to 0.00272, saving model to riset/fluent/2023/model_alif/model_weights_Seq2Seq.h5\n",
      "Epoch 79/100\n",
      "24/24 [==============================] - 33s 1s/step - loss: 0.0027\n",
      "\n",
      "Epoch 00079: loss improved from 0.00272 to 0.00268, saving model to riset/fluent/2023/model_alif/model_weights_Seq2Seq.h5\n",
      "Epoch 80/100\n",
      "24/24 [==============================] - 32s 1s/step - loss: 0.0027\n",
      "\n",
      "Epoch 00080: loss did not improve from 0.00268\n",
      "Epoch 81/100\n",
      "24/24 [==============================] - 33s 1s/step - loss: 0.0026\n",
      "\n",
      "Epoch 00081: loss improved from 0.00268 to 0.00261, saving model to riset/fluent/2023/model_alif/model_weights_Seq2Seq.h5\n",
      "Epoch 82/100\n",
      "24/24 [==============================] - 32s 1s/step - loss: 0.0026\n",
      "\n",
      "Epoch 00082: loss did not improve from 0.00261\n",
      "Epoch 83/100\n",
      "24/24 [==============================] - 32s 1s/step - loss: 0.0026\n",
      "\n",
      "Epoch 00083: loss improved from 0.00261 to 0.00259, saving model to riset/fluent/2023/model_alif/model_weights_Seq2Seq.h5\n",
      "Epoch 84/100\n",
      "24/24 [==============================] - 32s 1s/step - loss: 0.0025\n",
      "\n",
      "Epoch 00084: loss improved from 0.00259 to 0.00250, saving model to riset/fluent/2023/model_alif/model_weights_Seq2Seq.h5\n",
      "Epoch 85/100\n",
      "24/24 [==============================] - 32s 1s/step - loss: 0.0026\n",
      "\n",
      "Epoch 00085: loss did not improve from 0.00250\n",
      "Epoch 86/100\n",
      "24/24 [==============================] - 33s 1s/step - loss: 0.0025\n",
      "\n",
      "Epoch 00086: loss improved from 0.00250 to 0.00246, saving model to riset/fluent/2023/model_alif/model_weights_Seq2Seq.h5\n",
      "Epoch 87/100\n",
      "24/24 [==============================] - 33s 1s/step - loss: 0.0025\n",
      "\n",
      "Epoch 00087: loss improved from 0.00246 to 0.00246, saving model to riset/fluent/2023/model_alif/model_weights_Seq2Seq.h5\n",
      "Epoch 88/100\n",
      "24/24 [==============================] - 32s 1s/step - loss: 0.0024\n",
      "\n",
      "Epoch 00088: loss improved from 0.00246 to 0.00240, saving model to riset/fluent/2023/model_alif/model_weights_Seq2Seq.h5\n",
      "Epoch 89/100\n",
      "24/24 [==============================] - 32s 1s/step - loss: 0.0024\n",
      "\n",
      "Epoch 00089: loss improved from 0.00240 to 0.00237, saving model to riset/fluent/2023/model_alif/model_weights_Seq2Seq.h5\n",
      "Epoch 90/100\n",
      "24/24 [==============================] - 32s 1s/step - loss: 0.0025\n",
      "\n",
      "Epoch 00090: loss did not improve from 0.00237\n",
      "Epoch 91/100\n",
      "24/24 [==============================] - 32s 1s/step - loss: 0.0024\n",
      "\n",
      "Epoch 00091: loss did not improve from 0.00237\n",
      "Epoch 92/100\n",
      "24/24 [==============================] - 32s 1s/step - loss: 0.0027\n",
      "\n",
      "Epoch 00092: loss did not improve from 0.00237\n",
      "Epoch 93/100\n",
      "24/24 [==============================] - 32s 1s/step - loss: 0.0028\n",
      "\n",
      "Epoch 00093: loss did not improve from 0.00237\n",
      "Epoch 94/100\n",
      "24/24 [==============================] - 32s 1s/step - loss: 0.0024\n",
      "\n",
      "Epoch 00094: loss did not improve from 0.00237\n",
      "Epoch 00094: early stopping\n"
     ]
    }
   ],
   "source": [
    "history = model.fit([encoder_input_data , decoder_input_data], \n",
    "                    decoder_output_data, \n",
    "                    batch_size=50, \n",
    "                    epochs=100,\n",
    "                    callbacks=[checkpoint, \n",
    "                               earlystopping]) "
   ]
  },
  {
   "cell_type": "code",
   "execution_count": 201,
   "metadata": {},
   "outputs": [],
   "source": [
    "# load model best weights\n",
    "model.load_weights('riset/fluent/2023/model_alif/model/rnn_model_weights.h5')"
   ]
  },
  {
   "cell_type": "code",
   "execution_count": 112,
   "metadata": {},
   "outputs": [
    {
     "data": {
      "image/png": "[encoded data removed]",
      "text/plain": [
       "<Figure size 720x360 with 1 Axes>"
      ]
     },
     "metadata": {},
     "output_type": "display_data"
    }
   ],
   "source": [
    "import matplotlib.pyplot as plt\n",
    "\n",
    "plt.plot(history.history['loss'])\n",
    "fig_size = plt.rcParams[\"figure.figsize\"]\n",
    "fig_size[0] = 10\n",
    "fig_size[1] = 5\n",
    "# plt.title('Model CatCross Entropy Loss over Epochs')\n",
    "plt.ylabel('Loss')\n",
    "plt.xlabel('Epoch')\n",
    "plt.legend(['Train Loss'], loc='upper right')\n",
    "\n",
    "for i, loss in enumerate(history.history['loss']):\n",
    "    # print(\"Epoch\", i, \":\", loss)\n",
    "    if i % 10 == 0 or i == len(history.history['loss']) - 1:\n",
    "        plt.annotate(str(round(loss, 4)), xy=(i,loss), xytext=(i,loss))\n",
    "plt.show()\n"
   ]
  },
  {
   "cell_type": "markdown",
   "metadata": {},
   "source": [
    "### Model Visualitation"
   ]
  },
  {
   "cell_type": "markdown",
   "metadata": {},
   "source": [
    "## Test the chatbot"
   ]
  },
  {
   "cell_type": "code",
   "execution_count": 193,
   "metadata": {},
   "outputs": [],
   "source": [
    "def make_inference_models():\n",
    "    \n",
    "    encoder_model = tf.keras.models.Model(encoder_inputs, encoder_states)\n",
    "    \n",
    "    decoder_state_input_h = tf.keras.layers.Input(shape=( 500 ,))\n",
    "    decoder_state_input_c = tf.keras.layers.Input(shape=( 500 ,))\n",
    "    \n",
    "    decoder_states_inputs = [decoder_state_input_h, decoder_state_input_c]\n",
    "    \n",
    "    decoder_outputs, state_h, state_c = decoder_lstm(\n",
    "        decoder_embedding , initial_state=decoder_states_inputs)\n",
    "    \n",
    "    decoder_states = [state_h, state_c]\n",
    "\n",
    "    decoder_outputs = decoder_dense(decoder_outputs)\n",
    "    \n",
    "    decoder_model = tf.keras.models.Model(\n",
    "        [decoder_inputs] + decoder_states_inputs,\n",
    "        [decoder_outputs] + decoder_states)\n",
    "    \n",
    "    return encoder_model , decoder_model"
   ]
  },
  {
   "cell_type": "code",
   "execution_count": 194,
   "metadata": {},
   "outputs": [],
   "source": [
    "def str_to_tokens( sentence : str ):\n",
    "\n",
    "    words = sentence.lower().split()\n",
    "    tokens_list = list()\n",
    "\n",
    "    for word in words:\n",
    "        tokens_list.append( tokenizer.word_index[ word ] ) \n",
    "    return preprocessing.sequence.pad_sequences( [tokens_list] , maxlen=maxlen_questions , padding='post')\n"
   ]
  },
  {
   "cell_type": "code",
   "execution_count": 207,
   "metadata": {},
   "outputs": [
    {
     "name": "stdout",
     "output_type": "stream",
     "text": [
      "Pertanyaan :  email fajar pradana\n",
      "WARNING:tensorflow:Model was constructed with shape (None, 294) for input KerasTensor(type_spec=TensorSpec(shape=(None, 294), dtype=tf.float32, name='input_2'), name='input_2', description=\"created by layer 'input_2'\"), but it was called on an input with incompatible shape (None, 1).\n",
      "Jawaban :  fajar p at ub ac id end\n"
     ]
    }
   ],
   "source": [
    "def get_response_rnn(question):\n",
    "    enc_model , dec_model = make_inference_models()\n",
    "\n",
    "    quest = question\n",
    "\n",
    "    states_values = enc_model.predict( str_to_tokens(quest) )\n",
    "    empty_target_seq = np.zeros( ( 1 , 1 ) )\n",
    "    empty_target_seq[0, 0] = tokenizer.word_index['start']\n",
    "    stop_condition = False\n",
    "    decoded_translation = ''\n",
    "    while not stop_condition :\n",
    "        dec_outputs , h , c = dec_model.predict([ empty_target_seq ] + states_values )\n",
    "        sampled_word_index = np.argmax( dec_outputs[0, -1, :] )\n",
    "        sampled_word = None\n",
    "        for word , index in tokenizer.word_index.items() :\n",
    "            if sampled_word_index == index :\n",
    "                decoded_translation += ' {}'.format( word )\n",
    "                sampled_word = word\n",
    "        \n",
    "        if sampled_word == 'end' or len(decoded_translation.split()) > maxlen_answers:\n",
    "            stop_condition = True\n",
    "            \n",
    "        empty_target_seq = np.zeros( ( 1 , 1 ) )  \n",
    "        empty_target_seq[ 0 , 0 ] = sampled_word_index\n",
    "        states_values = [ h , c ] \n",
    "\n",
    "    return decoded_translation.strip()\n",
    "\n",
    "quest = input(\"Masukkan pertanyaan : \")\n",
    "print(\"Pertanyaan : \", quest.strip())\n",
    "print(\"Jawaban : \", get_response_rnn(quest))"
   ]
  },
  {
   "cell_type": "markdown",
   "metadata": {},
   "source": [
    "# Implementasi DNN "
   ]
  },
  {
   "cell_type": "markdown",
   "metadata": {},
   "source": [
    "## Prepocessing Data"
   ]
  },
  {
   "cell_type": "code",
   "execution_count": 159,
   "metadata": {},
   "outputs": [
    {
     "data": {
      "text/html": [
       "<div>\n",
       "<style scoped>\n",
       "    .dataframe tbody tr th:only-of-type {\n",
       "        vertical-align: middle;\n",
       "    }\n",
       "\n",
       "    .dataframe tbody tr th {\n",
       "        vertical-align: top;\n",
       "    }\n",
       "\n",
       "    .dataframe thead th {\n",
       "        text-align: right;\n",
       "    }\n",
       "</style>\n",
       "<table border=\"1\" class=\"dataframe\">\n",
       "  <thead>\n",
       "    <tr style=\"text-align: right;\">\n",
       "      <th></th>\n",
       "      <th>Pertanyaan</th>\n",
       "      <th>Jawaban</th>\n",
       "      <th>tag</th>\n",
       "    </tr>\n",
       "  </thead>\n",
       "  <tbody>\n",
       "    <tr>\n",
       "      <th>0</th>\n",
       "      <td>email fitra a  bachtiar</td>\n",
       "      <td>fitra bachtiar at ub ac id</td>\n",
       "      <td>0</td>\n",
       "    </tr>\n",
       "    <tr>\n",
       "      <th>1</th>\n",
       "      <td>nik nip fitra a  bachtiar</td>\n",
       "      <td>198406282019031006</td>\n",
       "      <td>1</td>\n",
       "    </tr>\n",
       "    <tr>\n",
       "      <th>2</th>\n",
       "      <td>nama lengkap fitra a  bachtiar</td>\n",
       "      <td>dr eng  fitra a  bachtiar</td>\n",
       "      <td>2</td>\n",
       "    </tr>\n",
       "    <tr>\n",
       "      <th>3</th>\n",
       "      <td>departemen fitra a  bachtiar</td>\n",
       "      <td>departemen teknik informatika</td>\n",
       "      <td>3</td>\n",
       "    </tr>\n",
       "    <tr>\n",
       "      <th>4</th>\n",
       "      <td>program studi fitra a  bachtiar</td>\n",
       "      <td>s2 ilmu komputer</td>\n",
       "      <td>4</td>\n",
       "    </tr>\n",
       "    <tr>\n",
       "      <th>...</th>\n",
       "      <td>...</td>\n",
       "      <td>...</td>\n",
       "      <td>...</td>\n",
       "    </tr>\n",
       "    <tr>\n",
       "      <th>1229</th>\n",
       "      <td>apa manfaat konseling filkom</td>\n",
       "      <td>1  masalah ditangani oleh ahli yang kompeten d...</td>\n",
       "      <td>1229</td>\n",
       "    </tr>\n",
       "    <tr>\n",
       "      <th>1230</th>\n",
       "      <td>berikan informasi mengenai layanan konseling</td>\n",
       "      <td>informasi mengenai layanan konseling dapat dia...</td>\n",
       "      <td>1230</td>\n",
       "    </tr>\n",
       "    <tr>\n",
       "      <th>1231</th>\n",
       "      <td>siapa konselor bimbingan dan konseling di filk...</td>\n",
       "      <td>ada 2 konselor bimbingan dan konseling di filk...</td>\n",
       "      <td>1231</td>\n",
       "    </tr>\n",
       "    <tr>\n",
       "      <th>1232</th>\n",
       "      <td>siapa koordinator konselor sebaya</td>\n",
       "      <td>koordinator konselor sebaya adalah muhammad da...</td>\n",
       "      <td>1232</td>\n",
       "    </tr>\n",
       "    <tr>\n",
       "      <th>1233</th>\n",
       "      <td>berikan rincian layanan ultksp</td>\n",
       "      <td>rincian layanan ultksp dapat diakses pada taut...</td>\n",
       "      <td>1233</td>\n",
       "    </tr>\n",
       "  </tbody>\n",
       "</table>\n",
       "<p>1198 rows × 3 columns</p>\n",
       "</div>"
      ],
      "text/plain": [
       "                                             Pertanyaan  \\\n",
       "0                               email fitra a  bachtiar   \n",
       "1                             nik nip fitra a  bachtiar   \n",
       "2                        nama lengkap fitra a  bachtiar   \n",
       "3                          departemen fitra a  bachtiar   \n",
       "4                       program studi fitra a  bachtiar   \n",
       "...                                                 ...   \n",
       "1229                     apa manfaat konseling filkom     \n",
       "1230       berikan informasi mengenai layanan konseling   \n",
       "1231  siapa konselor bimbingan dan konseling di filk...   \n",
       "1232                siapa koordinator konselor sebaya     \n",
       "1233                     berikan rincian layanan ultksp   \n",
       "\n",
       "                                                Jawaban   tag  \n",
       "0                            fitra bachtiar at ub ac id     0  \n",
       "1                                    198406282019031006     1  \n",
       "2                             dr eng  fitra a  bachtiar     2  \n",
       "3                         departemen teknik informatika     3  \n",
       "4                                      s2 ilmu komputer     4  \n",
       "...                                                 ...   ...  \n",
       "1229  1  masalah ditangani oleh ahli yang kompeten d...  1229  \n",
       "1230  informasi mengenai layanan konseling dapat dia...  1230  \n",
       "1231  ada 2 konselor bimbingan dan konseling di filk...  1231  \n",
       "1232  koordinator konselor sebaya adalah muhammad da...  1232  \n",
       "1233  rincian layanan ultksp dapat diakses pada taut...  1233  \n",
       "\n",
       "[1198 rows x 3 columns]"
      ]
     },
     "execution_count": 159,
     "metadata": {},
     "output_type": "execute_result"
    }
   ],
   "source": [
    "qa_paired_dnn = qa_paired\n",
    "qa_paired_dnn['tag'] = qa_paired_dnn.index\n",
    "qa_paired"
   ]
  },
  {
   "cell_type": "code",
   "execution_count": 136,
   "metadata": {},
   "outputs": [],
   "source": [
    "X_train = qa_paired_dnn['Pertanyaan'].astype(str)"
   ]
  },
  {
   "cell_type": "code",
   "execution_count": 137,
   "metadata": {},
   "outputs": [],
   "source": [
    "# tokenize Pertanyaan using tf \n",
    "\n",
    "tokenizer = Tokenizer(oov_token='x')\n",
    "tokenizer.fit_on_texts(X_train)\n",
    "\n",
    "doc_X = tokenizer.texts_to_sequences(X_train)\n",
    "doc_X = pad_sequences(doc_X, maxlen=20, padding='post')\n",
    "\n",
    "docs_Y = qa_paired_dnn['tag']\n",
    "docs_Y = np.array(docs_Y).reshape(-1, 1)\n",
    "encoder = OneHotEncoder(sparse=False)\n",
    "doc_Y = encoder.fit_transform(docs_Y)\n",
    "\n",
    "output_shape = len(doc_Y[0])"
   ]
  },
  {
   "cell_type": "code",
   "execution_count": 142,
   "metadata": {},
   "outputs": [
    {
     "data": {
      "text/plain": [
       "[[24, 37, 31]]"
      ]
     },
     "execution_count": 142,
     "metadata": {},
     "output_type": "execute_result"
    }
   ],
   "source": []
  },
  {
   "cell_type": "markdown",
   "metadata": {},
   "source": [
    "## Modelling"
   ]
  },
  {
   "cell_type": "code",
   "execution_count": 125,
   "metadata": {},
   "outputs": [
    {
     "name": "stdout",
     "output_type": "stream",
     "text": [
      "Model: \"sequential\"\n",
      "_________________________________________________________________\n",
      "Layer (type)                 Output Shape              Param #   \n",
      "=================================================================\n",
      "dense_2 (Dense)              (None, 4096)              86016     \n",
      "_________________________________________________________________\n",
      "dense_3 (Dense)              (None, 4096)              16781312  \n",
      "_________________________________________________________________\n",
      "dense_4 (Dense)              (None, 2048)              8390656   \n",
      "_________________________________________________________________\n",
      "dense_5 (Dense)              (None, 1198)              2454702   \n",
      "=================================================================\n",
      "Total params: 27,712,686\n",
      "Trainable params: 27,712,686\n",
      "Non-trainable params: 0\n",
      "_________________________________________________________________\n",
      "None\n"
     ]
    }
   ],
   "source": [
    "#deep learning model\n",
    "model_dnn = Sequential()\n",
    "model_dnn.add(Dense(4096, input_shape=(20,), activation=\"relu\"))\n",
    "model_dnn.add(Dense(4096, activation=\"relu\"))\n",
    "model_dnn.add(Dense(2048, activation=\"relu\"))\n",
    "model_dnn.add(Dense(output_shape, activation=\"sigmoid\"))\n",
    "model_dnn.compile(loss='categorical_crossentropy',\n",
    "              optimizer='adam',\n",
    "              metrics=[\"accuracy\"])\n",
    "print(model_dnn.summary())"
   ]
  },
  {
   "cell_type": "code",
   "execution_count": 126,
   "metadata": {},
   "outputs": [],
   "source": [
    "# reset model\n",
    "tf.keras.backend.clear_session()"
   ]
  },
  {
   "cell_type": "code",
   "execution_count": 129,
   "metadata": {},
   "outputs": [],
   "source": [
    "checkpoint = ModelCheckpoint('riset/fluent/2023/model_alif/dnn_model_weights.h5', monitor='accuracy', verbose=1, save_best_only=True, mode='max')\n",
    "earlystopping = EarlyStopping(monitor='accuracy', patience=10, verbose=1, mode='max')"
   ]
  },
  {
   "cell_type": "code",
   "execution_count": null,
   "metadata": {},
   "outputs": [],
   "source": [
    "history_model_dnn = model_dnn.fit(x=doc_X, \n",
    "                       y=doc_Y,\n",
    "                       epochs=500,\n",
    "                       verbose=1,\n",
    "                       callbacks=[checkpoint, \n",
    "                               earlystopping])"
   ]
  },
  {
   "cell_type": "code",
   "execution_count": 131,
   "metadata": {},
   "outputs": [],
   "source": [
    "model_dnn.load_weights('riset/fluent/2023/model_alif/model/dnn_model_weights.h5')"
   ]
  },
  {
   "cell_type": "code",
   "execution_count": 114,
   "metadata": {},
   "outputs": [
    {
     "data": {
      "image/png": "[encoded data removed]",
      "text/plain": [
       "<Figure size 720x288 with 1 Axes>"
      ]
     },
     "metadata": {},
     "output_type": "display_data"
    },
    {
     "data": {
      "image/png": "[encoded data removed]",
      "text/plain": [
       "<Figure size 720x288 with 1 Axes>"
      ]
     },
     "metadata": {},
     "output_type": "display_data"
    }
   ],
   "source": [
    "plt.plot(history_model_dnn.history['accuracy'])\n",
    "fig_size = plt.rcParams[\"figure.figsize\"]\n",
    "fig_size[0] = 10\n",
    "fig_size[1] = 4\n",
    "# plt.title('Model Accuracy over Epochs')\n",
    "plt.ylabel('Accuracy')\n",
    "plt.xlabel('Epoch')\n",
    "\n",
    "for i, acc in enumerate(history_model_dnn.history['accuracy']):\n",
    "    if i % 10 == 0 or i == len(history_model_dnn.history['accuracy']) - 1:\n",
    "        plt.annotate('{:.2f}'.format(acc), xy=(i, acc), xytext=(i, acc + 0.01))\n",
    "\n",
    "plt.show()\n",
    "\n",
    "plt.plot(history_model_dnn.history['loss'])\n",
    "fig_size = plt.rcParams[\"figure.figsize\"]\n",
    "fig_size[0] = 10\n",
    "fig_size[1] = 4\n",
    "# plt.title('Model CatCross Entropy Loss over Epochs')\n",
    "plt.ylabel('Loss')\n",
    "plt.xlabel('Epoch')\n",
    "plt.legend(['Train Loss'], loc='upper right')\n",
    "\n",
    "for i, loss in enumerate(history_model_dnn.history['loss']):\n",
    "    # print(\"Epoch\", i, \":\", loss)\n",
    "    if i % 10 == 0 or i == len(history_model_dnn.history['loss']) - 1:\n",
    "        plt.annotate(str(round(loss, 4)), xy=(i,loss), xytext=(i,loss))\n",
    "plt.show()"
   ]
  },
  {
   "cell_type": "markdown",
   "metadata": {},
   "source": [
    "## Test the chatbot"
   ]
  },
  {
   "cell_type": "code",
   "execution_count": 208,
   "metadata": {},
   "outputs": [],
   "source": [
    "import numpy as np\n",
    "\n",
    "def get_response_dnn(input_text):\n",
    "    class_tag = predict_class(input_text)\n",
    "    response = qa_paired_dnn[qa_paired_dnn['tag'] == class_tag].iloc[0].Jawaban.strip()\n",
    "    return response\n",
    "\n",
    "def predict_class(input_text):\n",
    "    question = preprocess_input(input_text)\n",
    "    pred = model_dnn.predict(question.reshape(1,20))\n",
    "    return encoder.inverse_transform(np.array(pred))[0][0]\n",
    "\n",
    "def preprocess_input(input_text):\n",
    "    input_text = input_text.lower()\n",
    "    input_text = re.sub('[^a-zA-Z]', ' ', input_text)\n",
    "    tokenized_text = tokenizer.texts_to_sequences([input_text])[0]\n",
    "    tokenized_text = pad_sequences([tokenized_text], maxlen=20, padding='post')[0]\n",
    "\n",
    "    return tokenized_text"
   ]
  },
  {
   "cell_type": "markdown",
   "metadata": {},
   "source": [
    "# Comparison Model"
   ]
  },
  {
   "cell_type": "markdown",
   "metadata": {},
   "source": [
    "## Learning Curve by Loss"
   ]
  },
  {
   "cell_type": "code",
   "execution_count": 103,
   "metadata": {},
   "outputs": [],
   "source": [
    "history_dnn = {\n",
    "    'accuracy': history_model_dnn.history['accuracy'],\n",
    "    'loss': history_model_dnn.history['loss']\n",
    "}\n",
    "\n",
    "history_rnn = {\n",
    "    'loss': history.history['loss']\n",
    "}\n",
    "\n",
    "with open('riset/fluent/2023/model_alif/history_dnn_13923.yaml', 'w') as file:\n",
    "    documents = yaml.dump(history_dnn, file)\n",
    "\n",
    "with open('riset/fluent/2023/model_alif/history_rnn_13923.yaml', 'w') as file:\n",
    "    documents = yaml.dump(history_rnn, file)"
   ]
  },
  {
   "cell_type": "code",
   "execution_count": 124,
   "metadata": {},
   "outputs": [
    {
     "data": {
      "image/png": "[encoded data removed]",
      "text/plain": [
       "<Figure size 720x360 with 1 Axes>"
      ]
     },
     "metadata": {},
     "output_type": "display_data"
    }
   ],
   "source": [
    "# remove whitegrid\n",
    "plt.style.use('bmh')\n",
    "\n",
    "fig_size = plt.rcParams[\"figure.figsize\"]\n",
    "fig_size[0] = 10\n",
    "fig_size[1] = 5\n",
    "\n",
    "loss_rnn = history.history['loss'][:94]\n",
    "loss_dnn = history_model_dnn.history['loss'][:94]\n",
    "\n",
    "plt.ylabel('Loss')\n",
    "plt.xlabel('Epoch')\n",
    "\n",
    "plt.plot(loss_rnn, label='RNN Model')\n",
    "plt.plot(loss_dnn, label='DNN Model')\n",
    "plt.legend()\n",
    "\n",
    "# Add value labels for every 20 epochs\n",
    "for i, loss in enumerate(loss_rnn):\n",
    "    if i % 10 == 0 or i == 93:\n",
    "        plt.annotate(str(round(loss, 2)), xy=(i, loss), xytext=(i, loss+0.1), ha='center')\n",
    "\n",
    "for i, loss in enumerate(loss_dnn):\n",
    "    if i % 10 == 0 or i == 93:\n",
    "        plt.annotate(str(round(loss, 2)), xy=(i, loss), xytext=(i, loss+0.1), ha='center')\n",
    "\n",
    "plt.show()"
   ]
  },
  {
   "cell_type": "markdown",
   "metadata": {},
   "source": [
    "## Answering Quesitons"
   ]
  },
  {
   "cell_type": "code",
   "execution_count": 191,
   "metadata": {},
   "outputs": [],
   "source": [
    "tables = pd.read_csv('riset/fluent/2023/model_alif/rnn_preds_answers.csv')\n",
    "tables.drop(columns=['pred_answers'], inplace=True)\n",
    "\n",
    "prompts = [\n",
    "    {\n",
    "        \"question\": \"email fajar pradana\",\n",
    "        \"expected\": tables[tables['questions'].str.contains(\"email fajar pradana\").fillna(False)].iloc[0].real_answers.strip()\n",
    "    },{\n",
    "        \"question\": \"kalender akademik\",\n",
    "        \"expected\": tables[tables['questions'].str.contains(\"kalender akademik\").fillna(False)].iloc[0].real_answers.strip()\n",
    "    },{\n",
    "        \"question\": \"informasi yudisium\",\n",
    "        \"expected\": tables[tables['questions'].str.contains(\"informasi yudisium\").fillna(False)].iloc[0].real_answers.strip()\n",
    "    },{\n",
    "        \"question\": \"apa itu laboratorium sistem cerdas\",\n",
    "        \"expected\": tables[tables['questions'].str.contains(\"laboratorium sistem cerdas\").fillna(False)].iloc[2].real_answers.strip()\n",
    "    }\n",
    "]"
   ]
  },
  {
   "cell_type": "code",
   "execution_count": null,
   "metadata": {},
   "outputs": [],
   "source": [
    "human_eval = pd.DataFrame(columns=['question', 'real_answers', 'rnn_answers', 'dnn_answers'])\n",
    "\n",
    "for prompt in prompts:\n",
    "    question = prompt['question']\n",
    "    real_answer = prompt['expected']\n",
    "\n",
    "    rnn_answer = get_response_rnn(question)\n",
    "    dnn_answer = get_response_dnn(question)\n",
    "\n",
    "    human_eval = human_eval.append({\n",
    "        'question': question,\n",
    "        'real_answers': real_answer,\n",
    "        'rnn_answers': rnn_answer,\n",
    "        'dnn_answers': dnn_answer\n",
    "    }, ignore_index=True)"
   ]
  },
  {
   "cell_type": "code",
   "execution_count": 215,
   "metadata": {},
   "outputs": [
    {
     "data": {
      "text/html": [
       "<div>\n",
       "<style scoped>\n",
       "    .dataframe tbody tr th:only-of-type {\n",
       "        vertical-align: middle;\n",
       "    }\n",
       "\n",
       "    .dataframe tbody tr th {\n",
       "        vertical-align: top;\n",
       "    }\n",
       "\n",
       "    .dataframe thead th {\n",
       "        text-align: right;\n",
       "    }\n",
       "</style>\n",
       "<table border=\"1\" class=\"dataframe\">\n",
       "  <thead>\n",
       "    <tr style=\"text-align: right;\">\n",
       "      <th></th>\n",
       "      <th>question</th>\n",
       "      <th>real_answers</th>\n",
       "      <th>rnn_answers</th>\n",
       "      <th>dnn_answers</th>\n",
       "    </tr>\n",
       "  </thead>\n",
       "  <tbody>\n",
       "    <tr>\n",
       "      <th>0</th>\n",
       "      <td>email fajar pradana</td>\n",
       "      <td>fajar p at ub ac id</td>\n",
       "      <td>fajar p at ub ac id end</td>\n",
       "      <td>bayu_priyambadha at ub ac id</td>\n",
       "    </tr>\n",
       "    <tr>\n",
       "      <th>1</th>\n",
       "      <td>kalender akademik</td>\n",
       "      <td>https filkom ub ac id pendidikan kalender akad...</td>\n",
       "      <td>https filkom ub ac id pendidikan kalender akad...</td>\n",
       "      <td>merdeka filkom merupakan portal merdeka belaja...</td>\n",
       "    </tr>\n",
       "    <tr>\n",
       "      <th>2</th>\n",
       "      <td>informasi yudisium</td>\n",
       "      <td>https filkom ub ac id wp content uploads 2021 ...</td>\n",
       "      <td>https filkom ub ac id wp content uploads 2021 ...</td>\n",
       "      <td>halofilkom merupakan platform ticketing yang d...</td>\n",
       "    </tr>\n",
       "    <tr>\n",
       "      <th>3</th>\n",
       "      <td>apa itu laboratorium sistem cerdas</td>\n",
       "      <td>laboratorium sistem cerdas merupakan salah sat...</td>\n",
       "      <td>laboratorium sistem cerdas merupakan salah sat...</td>\n",
       "      <td>laboratorium sistem cerdas merupakan salah sat...</td>\n",
       "    </tr>\n",
       "  </tbody>\n",
       "</table>\n",
       "</div>"
      ],
      "text/plain": [
       "                             question  \\\n",
       "0                 email fajar pradana   \n",
       "1                   kalender akademik   \n",
       "2                  informasi yudisium   \n",
       "3  apa itu laboratorium sistem cerdas   \n",
       "\n",
       "                                        real_answers  \\\n",
       "0                                fajar p at ub ac id   \n",
       "1  https filkom ub ac id pendidikan kalender akad...   \n",
       "2  https filkom ub ac id wp content uploads 2021 ...   \n",
       "3  laboratorium sistem cerdas merupakan salah sat...   \n",
       "\n",
       "                                         rnn_answers  \\\n",
       "0                            fajar p at ub ac id end   \n",
       "1  https filkom ub ac id pendidikan kalender akad...   \n",
       "2  https filkom ub ac id wp content uploads 2021 ...   \n",
       "3  laboratorium sistem cerdas merupakan salah sat...   \n",
       "\n",
       "                                         dnn_answers  \n",
       "0                       bayu_priyambadha at ub ac id  \n",
       "1  merdeka filkom merupakan portal merdeka belaja...  \n",
       "2  halofilkom merupakan platform ticketing yang d...  \n",
       "3  laboratorium sistem cerdas merupakan salah sat...  "
      ]
     },
     "execution_count": 215,
     "metadata": {},
     "output_type": "execute_result"
    }
   ],
   "source": [
    "human_eval.to_csv('riset/fluent/2023/model_alif/human_eval.csv', index=False)\n",
    "human_eval"
   ]
  },
  {
   "cell_type": "markdown",
   "metadata": {},
   "source": [
    "## BLEU Score"
   ]
  },
  {
   "cell_type": "code",
   "execution_count": 223,
   "metadata": {},
   "outputs": [],
   "source": [
    "from nltk.translate.bleu_score import sentence_bleu\n",
    "\n",
    "def calculate_bleu(preds, questions, answers):\n",
    "    bleu_score_1 = 0\n",
    "    bleu_score_2 = 0\n",
    "    bleu_score_3 = 0\n",
    "    bleu_score_4 = 0\n",
    "    bleu_score_all = 0\n",
    "\n",
    "    num_of_rows_calculated = 0\n",
    "\n",
    "    for i, (question, real_answer) in enumerate(zip(questions, answers)):\n",
    "        try:\n",
    "            refs = [real_answer.split(' ')]\n",
    "            hyp = preds[i].split(' ')\n",
    "\n",
    "            bleu_score_1 += sentence_bleu(refs, hyp, weights=(1,0,0,0))\n",
    "            bleu_score_2 += sentence_bleu(refs, hyp, weights=(0,1,0,0))\n",
    "            bleu_score_3 += sentence_bleu(refs, hyp, weights=(0,0,1,0))\n",
    "            bleu_score_4 += sentence_bleu(refs, hyp, weights=(0,0,0,1))\n",
    "            bleu_score_all += sentence_bleu(refs, hyp, weights=(.25,.25,.25,.25))\n",
    "\n",
    "            num_of_rows_calculated+=1\n",
    "        except:\n",
    "            continue\n",
    "\n",
    "    results = {\"1-gram\": (bleu_score_1/num_of_rows_calculated),\n",
    "                \"2-gram\": (bleu_score_2/num_of_rows_calculated),\n",
    "                \"3-gram\": (bleu_score_3/num_of_rows_calculated),\n",
    "                \"4-gram\": (bleu_score_all/num_of_rows_calculated)}\n",
    "    \n",
    "    return results"
   ]
  },
  {
   "cell_type": "markdown",
   "metadata": {},
   "source": [
    "### RNN Scoring"
   ]
  },
  {
   "cell_type": "code",
   "execution_count": 228,
   "metadata": {},
   "outputs": [
    {
     "name": "stderr",
     "output_type": "stream",
     "text": [
      "/home/acrig/.local/lib/python3.6/site-packages/nltk/translate/bleu_score.py:552: UserWarning: \n",
      "The hypothesis contains 0 counts of 2-gram overlaps.\n",
      "Therefore the BLEU score evaluates to 0, independently of\n",
      "how many N-gram overlaps of lower order it contains.\n",
      "Consider using lower n-gram order or use SmoothingFunction()\n",
      "  warnings.warn(_msg)\n",
      "/home/acrig/.local/lib/python3.6/site-packages/nltk/translate/bleu_score.py:552: UserWarning: \n",
      "The hypothesis contains 0 counts of 3-gram overlaps.\n",
      "Therefore the BLEU score evaluates to 0, independently of\n",
      "how many N-gram overlaps of lower order it contains.\n",
      "Consider using lower n-gram order or use SmoothingFunction()\n",
      "  warnings.warn(_msg)\n",
      "/home/acrig/.local/lib/python3.6/site-packages/nltk/translate/bleu_score.py:552: UserWarning: \n",
      "The hypothesis contains 0 counts of 4-gram overlaps.\n",
      "Therefore the BLEU score evaluates to 0, independently of\n",
      "how many N-gram overlaps of lower order it contains.\n",
      "Consider using lower n-gram order or use SmoothingFunction()\n",
      "  warnings.warn(_msg)\n"
     ]
    }
   ],
   "source": [
    "tables = pd.read_csv('riset/fluent/2023/model_alif/rnn_preds_answers.csv')\n",
    "\n",
    "rnn_bleu = calculate_bleu(tables['pred_answers'], tables['questions'], tables['real_answers'])\n",
    "rnn_bleu['mean'] = np.mean(list(rnn_bleu.values()))"
   ]
  },
  {
   "cell_type": "code",
   "execution_count": 231,
   "metadata": {},
   "outputs": [
    {
     "data": {
      "image/png": "[encoded data removed]",
      "text/plain": [
       "<Figure size 720x360 with 1 Axes>"
      ]
     },
     "metadata": {},
     "output_type": "display_data"
    },
    {
     "data": {
      "text/plain": [
       "<Figure size 1440x720 with 0 Axes>"
      ]
     },
     "metadata": {},
     "output_type": "display_data"
    }
   ],
   "source": [
    "plt.style.use('bmh')\n",
    "plt.xlabel('BLEU Score')\n",
    "plt.ylabel('Score')\n",
    "for index, (key, value) in enumerate(rnn_bleu.items()):\n",
    "    if index == len(rnn_bleu.values()) - 1:\n",
    "        plt.bar(index, value, color='orange', hatch='//')\n",
    "    else:\n",
    "        plt.bar(index, value, color='orange')\n",
    "    plt.text(index, value, str(round(value, 4)))\n",
    "plt.xticks(range(len(rnn_bleu)), rnn_bleu.keys())\n",
    "plt.yticks(np.arange(0, 1.03, 0.2))\n",
    "plt.figure(figsize=(20, 10))\n",
    "plt.show()"
   ]
  },
  {
   "cell_type": "markdown",
   "metadata": {},
   "source": [
    "### DNN Scoring"
   ]
  },
  {
   "cell_type": "code",
   "execution_count": null,
   "metadata": {},
   "outputs": [],
   "source": [
    "dnn_preds_answers = []\n",
    "for question in tables['questions']:\n",
    "    try:\n",
    "        dnn_preds_answers.append(get_response_dnn(question))\n",
    "    except:\n",
    "        dnn_preds_answers.append('tidak mengerti input')\n",
    "        print(question)"
   ]
  },
  {
   "cell_type": "code",
   "execution_count": null,
   "metadata": {},
   "outputs": [],
   "source": [
    "dnn_bleu = calculate_bleu(dnn_preds_answers, tables['questions'], tables['real_answers'])\n",
    "dnn_bleu['mean'] = np.mean(list(dnn_bleu.values()))"
   ]
  },
  {
   "cell_type": "code",
   "execution_count": 238,
   "metadata": {},
   "outputs": [
    {
     "data": {
      "image/png": "[encoded data removed]",
      "text/plain": [
       "<Figure size 720x360 with 1 Axes>"
      ]
     },
     "metadata": {},
     "output_type": "display_data"
    },
    {
     "data": {
      "text/plain": [
       "<Figure size 1440x720 with 0 Axes>"
      ]
     },
     "metadata": {},
     "output_type": "display_data"
    }
   ],
   "source": [
    "plt.style.use('bmh')\n",
    "plt.xlabel('BLEU Score')\n",
    "plt.ylabel('Score')\n",
    "for index, (key, value) in enumerate(dnn_bleu.items()):\n",
    "    if index == len(dnn_bleu.values()) - 1:\n",
    "        plt.bar(index, value, color='orange', hatch='//')\n",
    "    else:\n",
    "        plt.bar(index, value, color='orange')\n",
    "    plt.text(index, value, str(round(value, 4)))\n",
    "plt.xticks(range(len(dnn_bleu)), dnn_bleu.keys())\n",
    "plt.yticks(np.arange(0, 1.03, 0.2))\n",
    "plt.figure(figsize=(20, 10))\n",
    "plt.show()"
   ]
  },
  {
   "cell_type": "markdown",
   "metadata": {},
   "source": [
    "### Comparison BLEU Score"
   ]
  },
  {
   "cell_type": "code",
   "execution_count": 245,
   "metadata": {},
   "outputs": [
    {
     "data": {
      "image/png": "[encoded data removed]",
      "text/plain": [
       "<Figure size 720x360 with 1 Axes>"
      ]
     },
     "metadata": {},
     "output_type": "display_data"
    },
    {
     "data": {
      "text/plain": [
       "<Figure size 1440x720 with 0 Axes>"
      ]
     },
     "metadata": {},
     "output_type": "display_data"
    }
   ],
   "source": [
    "# combine and compare two bleu score in grouped bar chart\n",
    "plt.style.use('bmh')\n",
    "plt.xlabel('BLEU Score')\n",
    "plt.ylabel('Score')\n",
    "for index, (key, value) in enumerate(rnn_bleu.items()):\n",
    "    if index == len(rnn_bleu.values()) - 1:\n",
    "        plt.bar(index, value, color='orange', hatch='//', label='RNN Model')\n",
    "    else:\n",
    "        plt.bar(index, value, color='orange', label='_nolegend_')\n",
    "    plt.text(index, value, str(round(value, 4)))\n",
    "for index, (key, value) in enumerate(dnn_bleu.items()):\n",
    "    if index == len(dnn_bleu.values()) - 1:\n",
    "        plt.bar(index+0.2, value, color='blue', hatch='//', label='DNN Model')\n",
    "    else:\n",
    "        plt.bar(index+0.2, value, color='blue', label='_nolegend_')\n",
    "    plt.text(index+0.2, value, str(round(value, 4)))\n",
    "plt.xticks(range(len(rnn_bleu)), rnn_bleu.keys())\n",
    "plt.yticks(np.arange(0, 1.03, 0.2))\n",
    "plt.legend()\n",
    "plt.figure(figsize=(20, 10))\n",
    "plt.show()"
   ]
  },
  {
   "cell_type": "code",
   "execution_count": null,
   "metadata": {},
   "outputs": [],
   "source": []
  }
 ],
 "metadata": {
  "kernelspec": {
   "display_name": "Python 3",
   "language": "python",
   "name": "python3"
  },
  "language_info": {
   "codemirror_mode": {
    "name": "ipython",
    "version": 3
   },
   "file_extension": ".py",
   "mimetype": "text/x-python",
   "name": "python",
   "nbconvert_exporter": "python",
   "pygments_lexer": "ipython3",
   "version": "3.6.9"
  },
  "orig_nbformat": 4
 },
 "nbformat": 4,
 "nbformat_minor": 2
}
