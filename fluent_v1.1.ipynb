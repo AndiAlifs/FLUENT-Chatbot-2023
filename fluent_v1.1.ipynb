{
 "cells": [
  {
   "cell_type": "code",
   "execution_count": 1,
   "metadata": {},
   "outputs": [],
   "source": [
    "import numpy as np\n",
    "import tensorflow as tf\n",
    "import pandas as pd\n",
    "from tensorflow.keras.models import Model, Sequential\n",
    "from tensorflow.keras.layers import Input, LSTM, Dense, Dropout\n",
    "from tensorflow.keras.preprocessing.text import Tokenizer\n",
    "from tensorflow.keras.callbacks import EarlyStopping, ModelCheckpoint\n",
    "from tensorflow.keras.preprocessing.sequence import pad_sequences\n",
    "from sklearn.preprocessing import OneHotEncoder\n",
    "from tensorflow.keras import preprocessing, utils\n",
    "import os\n",
    "import yaml"
   ]
  },
  {
   "cell_type": "markdown",
   "metadata": {},
   "source": [
    "# Retrieve data train"
   ]
  },
  {
   "cell_type": "code",
   "execution_count": 2,
   "metadata": {},
   "outputs": [
    {
     "data": {
      "text/html": [
       "<div>\n",
       "<style scoped>\n",
       "    .dataframe tbody tr th:only-of-type {\n",
       "        vertical-align: middle;\n",
       "    }\n",
       "\n",
       "    .dataframe tbody tr th {\n",
       "        vertical-align: top;\n",
       "    }\n",
       "\n",
       "    .dataframe thead th {\n",
       "        text-align: right;\n",
       "    }\n",
       "</style>\n",
       "<table border=\"1\" class=\"dataframe\">\n",
       "  <thead>\n",
       "    <tr style=\"text-align: right;\">\n",
       "      <th></th>\n",
       "      <th>No</th>\n",
       "      <th>Contributor</th>\n",
       "      <th>Topik/Tag</th>\n",
       "      <th>Pertanyaan</th>\n",
       "      <th>Jenis</th>\n",
       "      <th>Jawaban</th>\n",
       "      <th>Link Jawaban</th>\n",
       "      <th>Keterangan Tambahan</th>\n",
       "    </tr>\n",
       "  </thead>\n",
       "  <tbody>\n",
       "    <tr>\n",
       "      <th>0</th>\n",
       "      <td>0.0</td>\n",
       "      <td>Fitra</td>\n",
       "      <td>Informasi Dosen</td>\n",
       "      <td>email Fitra A. Bachtiar</td>\n",
       "      <td>Statis</td>\n",
       "      <td>fitra.bachtiar[at]ub.ac.id</td>\n",
       "      <td>https://filkom.ub.ac.id/sdm-dosen/?search_f7a8...</td>\n",
       "      <td>NaN</td>\n",
       "    </tr>\n",
       "    <tr>\n",
       "      <th>1</th>\n",
       "      <td>NaN</td>\n",
       "      <td>NaN</td>\n",
       "      <td>NaN</td>\n",
       "      <td>NIK/NIP Fitra A. Bachtiar</td>\n",
       "      <td>Statis</td>\n",
       "      <td>198406282019031006</td>\n",
       "      <td>NaN</td>\n",
       "      <td>NaN</td>\n",
       "    </tr>\n",
       "    <tr>\n",
       "      <th>2</th>\n",
       "      <td>NaN</td>\n",
       "      <td>NaN</td>\n",
       "      <td>NaN</td>\n",
       "      <td>nama lengkap Fitra A. Bachtiar</td>\n",
       "      <td>Statis</td>\n",
       "      <td>Dr.Eng. Fitra A. Bachtiar</td>\n",
       "      <td>https://filkom.ub.ac.id/sdm-dosen/?search_f7a8...</td>\n",
       "      <td>NaN</td>\n",
       "    </tr>\n",
       "    <tr>\n",
       "      <th>3</th>\n",
       "      <td>NaN</td>\n",
       "      <td>NaN</td>\n",
       "      <td>NaN</td>\n",
       "      <td>Departemen Fitra A. Bachtiar</td>\n",
       "      <td>Dinamis</td>\n",
       "      <td>Departemen Teknik Informatika</td>\n",
       "      <td>https://filkom.ub.ac.id/sdm-dosen/?search_f7a8...</td>\n",
       "      <td>NaN</td>\n",
       "    </tr>\n",
       "    <tr>\n",
       "      <th>4</th>\n",
       "      <td>NaN</td>\n",
       "      <td>NaN</td>\n",
       "      <td>NaN</td>\n",
       "      <td>Program Studi Fitra A. Bachtiar</td>\n",
       "      <td>Dinamis</td>\n",
       "      <td>S2 Ilmu Komputer</td>\n",
       "      <td>https://filkom.ub.ac.id/sdm-dosen/?search_f7a8...</td>\n",
       "      <td>NaN</td>\n",
       "    </tr>\n",
       "  </tbody>\n",
       "</table>\n",
       "</div>"
      ],
      "text/plain": [
       "    No Contributor        Topik/Tag                       Pertanyaan    Jenis  \\\n",
       "0  0.0       Fitra  Informasi Dosen          email Fitra A. Bachtiar   Statis   \n",
       "1  NaN         NaN              NaN        NIK/NIP Fitra A. Bachtiar   Statis   \n",
       "2  NaN         NaN              NaN   nama lengkap Fitra A. Bachtiar   Statis   \n",
       "3  NaN         NaN              NaN     Departemen Fitra A. Bachtiar  Dinamis   \n",
       "4  NaN         NaN              NaN  Program Studi Fitra A. Bachtiar  Dinamis   \n",
       "\n",
       "                         Jawaban  \\\n",
       "0     fitra.bachtiar[at]ub.ac.id   \n",
       "1             198406282019031006   \n",
       "2      Dr.Eng. Fitra A. Bachtiar   \n",
       "3  Departemen Teknik Informatika   \n",
       "4               S2 Ilmu Komputer   \n",
       "\n",
       "                                        Link Jawaban  Keterangan Tambahan  \n",
       "0  https://filkom.ub.ac.id/sdm-dosen/?search_f7a8...                  NaN  \n",
       "1                                                NaN                  NaN  \n",
       "2  https://filkom.ub.ac.id/sdm-dosen/?search_f7a8...                  NaN  \n",
       "3  https://filkom.ub.ac.id/sdm-dosen/?search_f7a8...                  NaN  \n",
       "4  https://filkom.ub.ac.id/sdm-dosen/?search_f7a8...                  NaN  "
      ]
     },
     "execution_count": 2,
     "metadata": {},
     "output_type": "execute_result"
    }
   ],
   "source": [
    "knowledgebase = pd.read_excel('https://raw.githubusercontent.com/AndiAlifs/FLUENT-Chatbot-2023/main/KnowledgeBaseFilkom.xlsx', engine='openpyxl')\n",
    "knowledgebase.head()"
   ]
  },
  {
   "cell_type": "code",
   "execution_count": 3,
   "metadata": {},
   "outputs": [
    {
     "data": {
      "text/html": [
       "<div>\n",
       "<style scoped>\n",
       "    .dataframe tbody tr th:only-of-type {\n",
       "        vertical-align: middle;\n",
       "    }\n",
       "\n",
       "    .dataframe tbody tr th {\n",
       "        vertical-align: top;\n",
       "    }\n",
       "\n",
       "    .dataframe thead th {\n",
       "        text-align: right;\n",
       "    }\n",
       "</style>\n",
       "<table border=\"1\" class=\"dataframe\">\n",
       "  <thead>\n",
       "    <tr style=\"text-align: right;\">\n",
       "      <th></th>\n",
       "      <th>Pertanyaan</th>\n",
       "      <th>Jawaban</th>\n",
       "    </tr>\n",
       "  </thead>\n",
       "  <tbody>\n",
       "    <tr>\n",
       "      <th>0</th>\n",
       "      <td>email Fitra A. Bachtiar</td>\n",
       "      <td>fitra.bachtiar[at]ub.ac.id</td>\n",
       "    </tr>\n",
       "    <tr>\n",
       "      <th>1</th>\n",
       "      <td>NIK/NIP Fitra A. Bachtiar</td>\n",
       "      <td>198406282019031006</td>\n",
       "    </tr>\n",
       "    <tr>\n",
       "      <th>2</th>\n",
       "      <td>nama lengkap Fitra A. Bachtiar</td>\n",
       "      <td>Dr.Eng. Fitra A. Bachtiar</td>\n",
       "    </tr>\n",
       "    <tr>\n",
       "      <th>3</th>\n",
       "      <td>Departemen Fitra A. Bachtiar</td>\n",
       "      <td>Departemen Teknik Informatika</td>\n",
       "    </tr>\n",
       "    <tr>\n",
       "      <th>4</th>\n",
       "      <td>Program Studi Fitra A. Bachtiar</td>\n",
       "      <td>S2 Ilmu Komputer</td>\n",
       "    </tr>\n",
       "    <tr>\n",
       "      <th>...</th>\n",
       "      <td>...</td>\n",
       "      <td>...</td>\n",
       "    </tr>\n",
       "    <tr>\n",
       "      <th>1229</th>\n",
       "      <td>Apa Manfaat Konseling FILKOM ?</td>\n",
       "      <td>1. Masalah ditangani oleh ahli yang kompeten d...</td>\n",
       "    </tr>\n",
       "    <tr>\n",
       "      <th>1230</th>\n",
       "      <td>Berikan informasi mengenai Layanan Konseling</td>\n",
       "      <td>Informasi mengenai Layanan Konseling dapat dia...</td>\n",
       "    </tr>\n",
       "    <tr>\n",
       "      <th>1231</th>\n",
       "      <td>Siapa Konselor Bimbingan dan Konseling di FILK...</td>\n",
       "      <td>Ada 2 konselor Bimbingan dan Konseling di FILK...</td>\n",
       "    </tr>\n",
       "    <tr>\n",
       "      <th>1232</th>\n",
       "      <td>Siapa Koordinator Konselor Sebaya ?</td>\n",
       "      <td>Koordinator Konselor Sebaya adalah Muhammad Da...</td>\n",
       "    </tr>\n",
       "    <tr>\n",
       "      <th>1233</th>\n",
       "      <td>Berikan Rincian Layanan ULTKSP</td>\n",
       "      <td>Rincian Layanan ULTKSP dapat diakses pada taut...</td>\n",
       "    </tr>\n",
       "  </tbody>\n",
       "</table>\n",
       "<p>1198 rows × 2 columns</p>\n",
       "</div>"
      ],
      "text/plain": [
       "                                             Pertanyaan  \\\n",
       "0                               email Fitra A. Bachtiar   \n",
       "1                             NIK/NIP Fitra A. Bachtiar   \n",
       "2                        nama lengkap Fitra A. Bachtiar   \n",
       "3                          Departemen Fitra A. Bachtiar   \n",
       "4                       Program Studi Fitra A. Bachtiar   \n",
       "...                                                 ...   \n",
       "1229                     Apa Manfaat Konseling FILKOM ?   \n",
       "1230       Berikan informasi mengenai Layanan Konseling   \n",
       "1231  Siapa Konselor Bimbingan dan Konseling di FILK...   \n",
       "1232                Siapa Koordinator Konselor Sebaya ?   \n",
       "1233                     Berikan Rincian Layanan ULTKSP   \n",
       "\n",
       "                                                Jawaban  \n",
       "0                            fitra.bachtiar[at]ub.ac.id  \n",
       "1                                    198406282019031006  \n",
       "2                             Dr.Eng. Fitra A. Bachtiar  \n",
       "3                         Departemen Teknik Informatika  \n",
       "4                                      S2 Ilmu Komputer  \n",
       "...                                                 ...  \n",
       "1229  1. Masalah ditangani oleh ahli yang kompeten d...  \n",
       "1230  Informasi mengenai Layanan Konseling dapat dia...  \n",
       "1231  Ada 2 konselor Bimbingan dan Konseling di FILK...  \n",
       "1232  Koordinator Konselor Sebaya adalah Muhammad Da...  \n",
       "1233  Rincian Layanan ULTKSP dapat diakses pada taut...  \n",
       "\n",
       "[1198 rows x 2 columns]"
      ]
     },
     "execution_count": 3,
     "metadata": {},
     "output_type": "execute_result"
    }
   ],
   "source": [
    "qa_paired = knowledgebase.drop(columns=knowledgebase.columns.drop(['Pertanyaan', 'Jawaban']))\n",
    "qa_paired.dropna(inplace=True)\n",
    "qa_paired"
   ]
  },
  {
   "cell_type": "markdown",
   "metadata": {},
   "source": [
    "# RNN Based"
   ]
  },
  {
   "cell_type": "markdown",
   "metadata": {},
   "source": [
    "## Preprocessing Data"
   ]
  },
  {
   "cell_type": "code",
   "execution_count": 5,
   "metadata": {},
   "outputs": [],
   "source": [
    "# remove all the punctuation from qa_paired\n",
    "qa_paired['Pertanyaan'] = qa_paired['Pertanyaan'].str.replace('[^\\w\\s]',' ').str.lower()\n",
    "qa_paired['Jawaban'] = qa_paired['Jawaban'].str.replace('[^\\w\\s]',' ').str.lower()"
   ]
  },
  {
   "cell_type": "code",
   "execution_count": 6,
   "metadata": {},
   "outputs": [],
   "source": [
    "vocab = sorted(set(\" \".join(qa_paired['Pertanyaan'] +\" \" + qa_paired['Jawaban']).split()))"
   ]
  },
  {
   "cell_type": "code",
   "execution_count": 8,
   "metadata": {},
   "outputs": [
    {
     "name": "stdout",
     "output_type": "stream",
     "text": [
      "VOCAB SIZE : 2600\n"
     ]
    }
   ],
   "source": [
    "questions = qa_paired['Pertanyaan']\n",
    "\n",
    "answers = list()\n",
    "for i in range( len(qa_paired['Jawaban']) ) :\n",
    "    answers.append( '<START> ' + \" \".join(qa_paired['Jawaban'].iloc[i].split()) + ' <END>' )\n",
    "\n",
    "tokenizer = preprocessing.text.Tokenizer()\n",
    "tokenizer.fit_on_texts( questions + answers )\n",
    "VOCAB_SIZE = len( tokenizer.word_index )+1\n",
    "print( 'VOCAB SIZE : {}'.format( VOCAB_SIZE ))"
   ]
  },
  {
   "cell_type": "markdown",
   "metadata": {},
   "source": [
    "### Encoder-Decoder"
   ]
  },
  {
   "cell_type": "code",
   "execution_count": 9,
   "metadata": {},
   "outputs": [],
   "source": [
    "from gensim.models import Word2Vec\n",
    "import re"
   ]
  },
  {
   "cell_type": "code",
   "execution_count": 10,
   "metadata": {},
   "outputs": [],
   "source": [
    "vocab = []\n",
    "for word in tokenizer.word_index:\n",
    "  vocab.append(word)\n",
    "\n",
    "def tokenize(sentences):\n",
    "  tokens_list = []\n",
    "  vocabulary = []\n",
    "  for sentence in sentences:\n",
    "    sentence = sentence.lower()\n",
    "    sentence = re.sub('[^a-zA-Z]', ' ', sentence)\n",
    "    tokens = sentence.split()\n",
    "    vocabulary += tokens\n",
    "    tokens_list.append(tokens)\n",
    "  return tokens_list, vocabulary"
   ]
  },
  {
   "cell_type": "code",
   "execution_count": 11,
   "metadata": {},
   "outputs": [
    {
     "name": "stdout",
     "output_type": "stream",
     "text": [
      "(1198, 13) 13\n"
     ]
    }
   ],
   "source": [
    "#encoder_input_data\n",
    "tokenized_questions = tokenizer.texts_to_sequences( questions )\n",
    "maxlen_questions = max( [len(x) for x in tokenized_questions ] )\n",
    "padded_questions = preprocessing.sequence.pad_sequences( tokenized_questions, maxlen = maxlen_questions, padding = 'post')\n",
    "encoder_input_data = np.array(padded_questions)\n",
    "print(encoder_input_data.shape, maxlen_questions)"
   ]
  },
  {
   "cell_type": "code",
   "execution_count": 12,
   "metadata": {},
   "outputs": [
    {
     "name": "stdout",
     "output_type": "stream",
     "text": [
      "(1198, 294) 294\n"
     ]
    }
   ],
   "source": [
    "# decoder_input_data\n",
    "tokenized_answers = tokenizer.texts_to_sequences( answers )\n",
    "maxlen_answers = max( [ len(x) for x in tokenized_answers ] )\n",
    "padded_answers = preprocessing.sequence.pad_sequences( tokenized_answers , maxlen=maxlen_answers , padding='post' )\n",
    "decoder_input_data = np.array( padded_answers )\n",
    "print( decoder_input_data.shape , maxlen_answers )"
   ]
  },
  {
   "cell_type": "code",
   "execution_count": 13,
   "metadata": {},
   "outputs": [
    {
     "name": "stdout",
     "output_type": "stream",
     "text": [
      "(1198, 294, 2600)\n"
     ]
    }
   ],
   "source": [
    "# decoder_output_data\n",
    "tokenized_answers = tokenizer.texts_to_sequences( answers )\n",
    "for i in range(len(tokenized_answers)) :\n",
    "    tokenized_answers[i] = tokenized_answers[i][1:]\n",
    "padded_answers = preprocessing.sequence.pad_sequences( tokenized_answers , maxlen=maxlen_answers , padding='post' )\n",
    "onehot_answers = utils.to_categorical( padded_answers , VOCAB_SIZE )\n",
    "decoder_output_data = np.array( onehot_answers )\n",
    "print( decoder_output_data.shape )"
   ]
  },
  {
   "cell_type": "markdown",
   "metadata": {},
   "source": [
    "## Modelling"
   ]
  },
  {
   "cell_type": "code",
   "execution_count": 14,
   "metadata": {},
   "outputs": [
    {
     "name": "stdout",
     "output_type": "stream",
     "text": [
      "Model: \"model\"\n",
      "__________________________________________________________________________________________________\n",
      "Layer (type)                    Output Shape         Param #     Connected to                     \n",
      "==================================================================================================\n",
      "input_1 (InputLayer)            [(None, 13)]         0                                            \n",
      "__________________________________________________________________________________________________\n",
      "input_2 (InputLayer)            [(None, 294)]        0                                            \n",
      "__________________________________________________________________________________________________\n",
      "embedding (Embedding)           (None, 13, 200)      520000      input_1[0][0]                    \n",
      "__________________________________________________________________________________________________\n",
      "embedding_1 (Embedding)         (None, 294, 200)     520000      input_2[0][0]                    \n",
      "__________________________________________________________________________________________________\n",
      "lstm (LSTM)                     [(None, 200), (None, 320800      embedding[0][0]                  \n",
      "__________________________________________________________________________________________________\n",
      "lstm_1 (LSTM)                   [(None, 294, 200), ( 320800      embedding_1[0][0]                \n",
      "                                                                 lstm[0][1]                       \n",
      "                                                                 lstm[0][2]                       \n",
      "__________________________________________________________________________________________________\n",
      "dense (Dense)                   (None, 294, 2600)    522600      lstm_1[0][0]                     \n",
      "==================================================================================================\n",
      "Total params: 2,204,200\n",
      "Trainable params: 2,204,200\n",
      "Non-trainable params: 0\n",
      "__________________________________________________________________________________________________\n"
     ]
    }
   ],
   "source": [
    "encoder_inputs = tf.keras.layers.Input(shape=( maxlen_questions , ))\n",
    "encoder_embedding = tf.keras.layers.Embedding( VOCAB_SIZE, 200 , mask_zero=True ) (encoder_inputs)\n",
    "encoder_outputs , state_h , state_c = tf.keras.layers.LSTM( 200 , return_state=True )( encoder_embedding )\n",
    "encoder_states = [ state_h , state_c ]\n",
    "\n",
    "decoder_inputs = tf.keras.layers.Input(shape=( maxlen_answers ,  ))\n",
    "decoder_embedding = tf.keras.layers.Embedding( VOCAB_SIZE, 200 , mask_zero=True) (decoder_inputs)\n",
    "decoder_lstm = tf.keras.layers.LSTM( 200 , return_state=True , return_sequences=True )\n",
    "decoder_outputs , _ , _ = decoder_lstm ( decoder_embedding , initial_state=encoder_states )\n",
    "decoder_dense = tf.keras.layers.Dense( VOCAB_SIZE , activation=tf.keras.activations.softmax ) \n",
    "output = decoder_dense ( decoder_outputs )\n",
    "\n",
    "model = tf.keras.models.Model([encoder_inputs, decoder_inputs], output )\n",
    "model.compile(optimizer=tf.keras.optimizers.RMSprop(), loss='categorical_crossentropy')\n",
    "\n",
    "model.summary()"
   ]
  },
  {
   "cell_type": "code",
   "execution_count": 16,
   "metadata": {},
   "outputs": [
    {
     "name": "stdout",
     "output_type": "stream",
     "text": [
      "Epoch 1/50\n",
      "24/24 [==============================] - 20s 802ms/step - loss: 0.4177\n",
      "Epoch 2/50\n",
      "24/24 [==============================] - 20s 818ms/step - loss: 0.4017\n",
      "Epoch 3/50\n",
      "24/24 [==============================] - 19s 772ms/step - loss: 0.3880\n",
      "Epoch 4/50\n",
      "24/24 [==============================] - 18s 769ms/step - loss: 0.3745\n",
      "Epoch 5/50\n",
      "24/24 [==============================] - 19s 788ms/step - loss: 0.3608\n",
      "Epoch 6/50\n",
      "24/24 [==============================] - 18s 759ms/step - loss: 0.3459\n",
      "Epoch 7/50\n",
      "24/24 [==============================] - 19s 783ms/step - loss: 0.3326\n",
      "Epoch 8/50\n",
      "24/24 [==============================] - 19s 773ms/step - loss: 0.3203\n",
      "Epoch 9/50\n",
      "24/24 [==============================] - 19s 770ms/step - loss: 0.3100\n",
      "Epoch 10/50\n",
      "24/24 [==============================] - 19s 781ms/step - loss: 0.3002\n",
      "Epoch 11/50\n",
      "24/24 [==============================] - 19s 780ms/step - loss: 0.2909\n",
      "Epoch 12/50\n",
      "24/24 [==============================] - 19s 777ms/step - loss: 0.2831\n",
      "Epoch 13/50\n",
      "24/24 [==============================] - 19s 809ms/step - loss: 0.2755\n",
      "Epoch 14/50\n",
      "24/24 [==============================] - 19s 784ms/step - loss: 0.2675\n",
      "Epoch 15/50\n",
      "24/24 [==============================] - 19s 779ms/step - loss: 0.2609\n",
      "Epoch 16/50\n",
      "24/24 [==============================] - 19s 778ms/step - loss: 0.2538\n",
      "Epoch 17/50\n",
      "24/24 [==============================] - 19s 773ms/step - loss: 0.2473\n",
      "Epoch 18/50\n",
      "24/24 [==============================] - 19s 795ms/step - loss: 0.2410\n",
      "Epoch 19/50\n",
      "24/24 [==============================] - 19s 779ms/step - loss: 0.2347\n",
      "Epoch 20/50\n",
      "24/24 [==============================] - 19s 775ms/step - loss: 0.2297\n",
      "Epoch 21/50\n",
      "24/24 [==============================] - 19s 779ms/step - loss: 0.2232\n",
      "Epoch 22/50\n",
      "24/24 [==============================] - 19s 770ms/step - loss: 0.2176\n",
      "Epoch 23/50\n",
      "24/24 [==============================] - 19s 781ms/step - loss: 0.2120\n",
      "Epoch 24/50\n",
      "24/24 [==============================] - 19s 792ms/step - loss: 0.2070\n",
      "Epoch 25/50\n",
      "24/24 [==============================] - 18s 759ms/step - loss: 0.2016\n",
      "Epoch 26/50\n",
      "24/24 [==============================] - 19s 772ms/step - loss: 0.1964\n",
      "Epoch 27/50\n",
      "24/24 [==============================] - 18s 769ms/step - loss: 0.1919\n",
      "Epoch 28/50\n",
      "24/24 [==============================] - 18s 758ms/step - loss: 0.1864\n",
      "Epoch 29/50\n",
      "24/24 [==============================] - 19s 777ms/step - loss: 0.1815\n",
      "Epoch 30/50\n",
      "24/24 [==============================] - 19s 782ms/step - loss: 0.1772\n",
      "Epoch 31/50\n",
      "24/24 [==============================] - 18s 769ms/step - loss: 0.1726\n",
      "Epoch 32/50\n",
      "24/24 [==============================] - 18s 770ms/step - loss: 0.1679\n",
      "Epoch 33/50\n",
      "24/24 [==============================] - 18s 768ms/step - loss: 0.1645\n",
      "Epoch 34/50\n",
      "24/24 [==============================] - 18s 772ms/step - loss: 0.1592\n",
      "Epoch 35/50\n",
      "24/24 [==============================] - 18s 764ms/step - loss: 0.1552\n",
      "Epoch 36/50\n",
      "24/24 [==============================] - 18s 767ms/step - loss: 0.1505\n",
      "Epoch 37/50\n",
      "24/24 [==============================] - 18s 765ms/step - loss: 0.1468\n",
      "Epoch 38/50\n",
      "24/24 [==============================] - 18s 757ms/step - loss: 0.1424\n",
      "Epoch 39/50\n",
      "24/24 [==============================] - 18s 765ms/step - loss: 0.1388\n",
      "Epoch 40/50\n",
      "24/24 [==============================] - 19s 775ms/step - loss: 0.1346\n",
      "Epoch 41/50\n",
      "24/24 [==============================] - 18s 755ms/step - loss: 0.1309\n",
      "Epoch 42/50\n",
      "24/24 [==============================] - 18s 770ms/step - loss: 0.1270\n",
      "Epoch 43/50\n",
      "24/24 [==============================] - 19s 779ms/step - loss: 0.1233\n",
      "Epoch 44/50\n",
      "24/24 [==============================] - 19s 775ms/step - loss: 0.1201\n",
      "Epoch 45/50\n",
      "24/24 [==============================] - 18s 770ms/step - loss: 0.1161\n",
      "Epoch 46/50\n",
      "24/24 [==============================] - 19s 779ms/step - loss: 0.1129\n",
      "Epoch 47/50\n",
      "24/24 [==============================] - 19s 785ms/step - loss: 0.1095\n",
      "Epoch 48/50\n",
      "24/24 [==============================] - 19s 776ms/step - loss: 0.1060\n",
      "Epoch 49/50\n",
      "24/24 [==============================] - 19s 788ms/step - loss: 0.1026\n",
      "Epoch 50/50\n",
      "24/24 [==============================] - 19s 796ms/step - loss: 0.0998\n"
     ]
    }
   ],
   "source": [
    "history = model.fit([encoder_input_data , decoder_input_data], decoder_output_data, batch_size=50, epochs=50 ) \n",
    "# model.save( 'model.h5' )"
   ]
  },
  {
   "cell_type": "code",
   "execution_count": 23,
   "metadata": {},
   "outputs": [
    {
     "data": {
      "text/plain": [
       "<AxesSubplot:>"
      ]
     },
     "execution_count": 23,
     "metadata": {},
     "output_type": "execute_result"
    },
    {
     "data": {
      "image/png": "[encoded data removed]",
      "text/plain": [
       "<Figure size 432x288 with 1 Axes>"
      ]
     },
     "metadata": {
      "needs_background": "light"
     },
     "output_type": "display_data"
    }
   ],
   "source": [
    "visualization = pd.DataFrame(history.history)\n",
    "visualization[['loss']].plot()"
   ]
  },
  {
   "cell_type": "markdown",
   "metadata": {},
   "source": [
    "## Test the chatbot"
   ]
  },
  {
   "cell_type": "code",
   "execution_count": 17,
   "metadata": {},
   "outputs": [],
   "source": [
    "def make_inference_models():\n",
    "    \n",
    "    encoder_model = tf.keras.models.Model(encoder_inputs, encoder_states)\n",
    "    \n",
    "    decoder_state_input_h = tf.keras.layers.Input(shape=( 200 ,))\n",
    "    decoder_state_input_c = tf.keras.layers.Input(shape=( 200 ,))\n",
    "    \n",
    "    decoder_states_inputs = [decoder_state_input_h, decoder_state_input_c]\n",
    "    \n",
    "    decoder_outputs, state_h, state_c = decoder_lstm(\n",
    "        decoder_embedding , initial_state=decoder_states_inputs)\n",
    "    \n",
    "    decoder_states = [state_h, state_c]\n",
    "\n",
    "    decoder_outputs = decoder_dense(decoder_outputs)\n",
    "    \n",
    "    decoder_model = tf.keras.models.Model(\n",
    "        [decoder_inputs] + decoder_states_inputs,\n",
    "        [decoder_outputs] + decoder_states)\n",
    "    \n",
    "    return encoder_model , decoder_model"
   ]
  },
  {
   "cell_type": "code",
   "execution_count": 18,
   "metadata": {},
   "outputs": [],
   "source": [
    "def str_to_tokens( sentence : str ):\n",
    "\n",
    "    words = sentence.lower().split()\n",
    "    tokens_list = list()\n",
    "\n",
    "    for word in words:\n",
    "        tokens_list.append( tokenizer.word_index[ word ] ) \n",
    "    return preprocessing.sequence.pad_sequences( [tokens_list] , maxlen=maxlen_questions , padding='post')\n"
   ]
  },
  {
   "cell_type": "code",
   "execution_count": 22,
   "metadata": {},
   "outputs": [
    {
     "name": "stdout",
     "output_type": "stream",
     "text": [
      "WARNING:tensorflow:Model was constructed with shape (None, 294) for input KerasTensor(type_spec=TensorSpec(shape=(None, 294), dtype=tf.float32, name='input_2'), name='input_2', description=\"created by layer 'input_2'\"), but it was called on an input with incompatible shape (None, 1).\n",
      "Pertanyaan :  email fitra bachtiar\n",
      "Jawaban :   m aminul at ub ac id end\n"
     ]
    }
   ],
   "source": [
    "# disable warning tensorflow\n",
    "os.environ['TF_CPP_MIN_LOG_LEVEL'] = '5'\n",
    "\n",
    "enc_model , dec_model = make_inference_models()\n",
    "\n",
    "quest = input(\"Enter question : \")\n",
    "\n",
    "states_values = enc_model.predict( str_to_tokens(quest) )\n",
    "empty_target_seq = np.zeros( ( 1 , 1 ) )\n",
    "empty_target_seq[0, 0] = tokenizer.word_index['start']\n",
    "stop_condition = False\n",
    "decoded_translation = ''\n",
    "while not stop_condition :\n",
    "    dec_outputs , h , c = dec_model.predict([ empty_target_seq ] + states_values )\n",
    "    sampled_word_index = np.argmax( dec_outputs[0, -1, :] )\n",
    "    sampled_word = None\n",
    "    for word , index in tokenizer.word_index.items() :\n",
    "        if sampled_word_index == index :\n",
    "            decoded_translation += ' {}'.format( word )\n",
    "            sampled_word = word\n",
    "    \n",
    "    if sampled_word == 'end' or len(decoded_translation.split()) > maxlen_answers:\n",
    "        stop_condition = True\n",
    "        \n",
    "    empty_target_seq = np.zeros( ( 1 , 1 ) )  \n",
    "    empty_target_seq[ 0 , 0 ] = sampled_word_index\n",
    "    states_values = [ h , c ] \n",
    "\n",
    "print(\"Pertanyaan : \", quest)\n",
    "print(\"Jawaban : \", decoded_translation)"
   ]
  }
 ],
 "metadata": {
  "kernelspec": {
   "display_name": "Python 3",
   "language": "python",
   "name": "python3"
  },
  "language_info": {
   "codemirror_mode": {
    "name": "ipython",
    "version": 3
   },
   "file_extension": ".py",
   "mimetype": "text/x-python",
   "name": "python",
   "nbconvert_exporter": "python",
   "pygments_lexer": "ipython3",
   "version": "3.6.9"
  },
  "orig_nbformat": 4
 },
 "nbformat": 4,
 "nbformat_minor": 2
}
