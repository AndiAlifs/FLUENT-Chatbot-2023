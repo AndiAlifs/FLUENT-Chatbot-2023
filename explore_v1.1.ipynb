{
 "cells": [
  {
   "cell_type": "code",
   "execution_count": 1,
   "metadata": {},
   "outputs": [
    {
     "name": "stderr",
     "output_type": "stream",
     "text": [
      "/home/andyalyfsyah/Environments/my_env/lib/python3.10/site-packages/tqdm/auto.py:21: TqdmWarning: IProgress not found. Please update jupyter and ipywidgets. See https://ipywidgets.readthedocs.io/en/stable/user_install.html\n",
      "  from .autonotebook import tqdm as notebook_tqdm\n"
     ]
    }
   ],
   "source": [
    "from transformers import GPT2Tokenizer, GPT2Model\n",
    "\n",
    "model_name='cahya/gpt2-small-indonesian-522M'\n",
    "tokenizer = GPT2Tokenizer.from_pretrained(model_name)\n",
    "model = GPT2Model.from_pretrained(model_name)\n",
    "text = \"Silakan diganti dengan text apa saja.\"\n",
    "encoded_input = tokenizer(text, return_tensors='pt')\n",
    "output = model(**encoded_input)\n"
   ]
  },
  {
   "cell_type": "code",
   "execution_count": 11,
   "metadata": {},
   "outputs": [
    {
     "name": "stderr",
     "output_type": "stream",
     "text": [
      "Truncation was not explicitly activated but `max_length` is provided a specific value, please use `truncation=True` to explicitly truncate examples to max length. Defaulting to 'longest_first' truncation strategy. If you encode pairs of sequences (GLUE-style) with the tokenizer you can select this strategy more precisely by providing a specific strategy to `truncation`.\n",
      "Setting `pad_token_id` to `eos_token_id`:50256 for open-end generation.\n"
     ]
    },
    {
     "data": {
      "text/plain": [
       "[{'generated_text': 'Kerajaan Majapahit adalah salah satu kerajaan yang pernah berdiri di Jawa Timur pada abad ke-14. Kerajaan ini merupakan kelanjutan dari Kerajaan Majapahit yang didirikan oleh Gajah Mada'},\n",
       " {'generated_text': 'Kerajaan Majapahit adalah salah satu kerajaan yang pernah berdiri di Jawa Timur pada abad ke-14. Kerajaan ini merupakan kelanjutan dari Kerajaan Majapahit yang berdiri pada tahun 13'},\n",
       " {'generated_text': 'Kerajaan Majapahit adalah salah satu kerajaan yang pernah berdiri di Jawa Timur pada abad ke-14. Kerajaan ini merupakan kelanjutan dari Kerajaan Majapahit yang didirikan oleh Raden Wijaya'},\n",
       " {'generated_text': 'Kerajaan Majapahit adalah salah satu kerajaan yang pernah berdiri di Jawa Timur pada abad ke-14. Kerajaan ini merupakan kelanjutan dari Kerajaan Majapahit yang berdiri tahun 1365'},\n",
       " {'generated_text': 'Kerajaan Majapahit adalah salah satu kerajaan yang pernah berdiri di Jawa Timur pada abad ke-14. Kerajaan ini merupakan kelanjutan dari Kerajaan Majapahit yang berdiri pada abad ke'}]"
      ]
     },
     "execution_count": 11,
     "metadata": {},
     "output_type": "execute_result"
    }
   ],
   "source": [
    "from transformers import pipeline, set_seed\n",
    "generator = pipeline('text-generation', model='cahya/gpt2-small-indonesian-522M')\n",
    "set_seed(42)\n",
    "generator(\"Kerajaan Majapahit adalah\", max_length=30, num_return_sequences=5, num_beams=10)\n"
   ]
  },
  {
   "cell_type": "code",
   "execution_count": null,
   "metadata": {},
   "outputs": [],
   "source": []
  }
 ],
 "metadata": {
  "kernelspec": {
   "display_name": "my_env",
   "language": "python",
   "name": "my_env"
  }
 },
 "nbformat": 4,
 "nbformat_minor": 2
}
